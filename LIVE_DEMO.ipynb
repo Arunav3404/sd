{
  "nbformat": 4,
  "nbformat_minor": 0,
  "metadata": {
    "accelerator": "GPU",
    "colab": {
      "name": "LIVE-DEMO.ipynb",
      "provenance": [],
      "collapsed_sections": [
        "pGlRbfb6p_Ru",
        "Fkneghn9p3gu",
        "EH4ubS-iDMd8",
        "OGIXBO2vZJRa",
        "I-uIIFzjEtqZ",
        "Jfq1uBhTE0z7",
        "tVO2WtARILP9",
        "KEgXbIX3Jn_f"
      ],
      "toc_visible": true,
      "include_colab_link": true
    },
    "kernelspec": {
      "display_name": "Python 3",
      "name": "python3"
    },
    "language_info": {
      "name": "python"
    },
    "widgets": {
      "application/vnd.jupyter.widget-state+json": {
        "7df2ab52f9164ee18a2eb3c3cb130014": {
          "model_module": "@jupyter-widgets/controls",
          "model_name": "HBoxModel",
          "state": {
            "_view_name": "HBoxView",
            "_dom_classes": [],
            "_model_name": "HBoxModel",
            "_view_module": "@jupyter-widgets/controls",
            "_model_module_version": "1.5.0",
            "_view_count": null,
            "_view_module_version": "1.5.0",
            "box_style": "",
            "layout": "IPY_MODEL_7e04a8ec63d84889936b6bce617c56f0",
            "_model_module": "@jupyter-widgets/controls",
            "children": [
              "IPY_MODEL_bf626ffa1966476f9ae119dc27a23299",
              "IPY_MODEL_d047d34bde154e97ac603b1b36203d33"
            ]
          }
        },
        "7e04a8ec63d84889936b6bce617c56f0": {
          "model_module": "@jupyter-widgets/base",
          "model_name": "LayoutModel",
          "state": {
            "_view_name": "LayoutView",
            "grid_template_rows": null,
            "right": null,
            "justify_content": null,
            "_view_module": "@jupyter-widgets/base",
            "overflow": null,
            "_model_module_version": "1.2.0",
            "_view_count": null,
            "flex_flow": null,
            "width": null,
            "min_width": null,
            "border": null,
            "align_items": null,
            "bottom": null,
            "_model_module": "@jupyter-widgets/base",
            "top": null,
            "grid_column": null,
            "overflow_y": null,
            "overflow_x": null,
            "grid_auto_flow": null,
            "grid_area": null,
            "grid_template_columns": null,
            "flex": null,
            "_model_name": "LayoutModel",
            "justify_items": null,
            "grid_row": null,
            "max_height": null,
            "align_content": null,
            "visibility": null,
            "align_self": null,
            "height": null,
            "min_height": null,
            "padding": null,
            "grid_auto_rows": null,
            "grid_gap": null,
            "max_width": null,
            "order": null,
            "_view_module_version": "1.2.0",
            "grid_template_areas": null,
            "object_position": null,
            "object_fit": null,
            "grid_auto_columns": null,
            "margin": null,
            "display": null,
            "left": null
          }
        },
        "bf626ffa1966476f9ae119dc27a23299": {
          "model_module": "@jupyter-widgets/controls",
          "model_name": "FloatProgressModel",
          "state": {
            "_view_name": "ProgressView",
            "style": "IPY_MODEL_4bf4cb8049ac428faa69f30ab31e84a3",
            "_dom_classes": [],
            "description": "100%",
            "_model_name": "FloatProgressModel",
            "bar_style": "success",
            "max": 1,
            "_view_module": "@jupyter-widgets/controls",
            "_model_module_version": "1.5.0",
            "value": 1,
            "_view_count": null,
            "_view_module_version": "1.5.0",
            "orientation": "horizontal",
            "min": 0,
            "description_tooltip": null,
            "_model_module": "@jupyter-widgets/controls",
            "layout": "IPY_MODEL_d13ea739d84f4b3baf396814be820965"
          }
        },
        "d047d34bde154e97ac603b1b36203d33": {
          "model_module": "@jupyter-widgets/controls",
          "model_name": "HTMLModel",
          "state": {
            "_view_name": "HTMLView",
            "style": "IPY_MODEL_f36b05c70ec04b1e8b319b68de3cc042",
            "_dom_classes": [],
            "description": "",
            "_model_name": "HTMLModel",
            "placeholder": "​",
            "_view_module": "@jupyter-widgets/controls",
            "_model_module_version": "1.5.0",
            "value": " 1/1 [00:06&lt;00:00,  6.73s/it]",
            "_view_count": null,
            "_view_module_version": "1.5.0",
            "description_tooltip": null,
            "_model_module": "@jupyter-widgets/controls",
            "layout": "IPY_MODEL_5b18ab1d59f44447a85a73c643bd0a1b"
          }
        },
        "4bf4cb8049ac428faa69f30ab31e84a3": {
          "model_module": "@jupyter-widgets/controls",
          "model_name": "ProgressStyleModel",
          "state": {
            "_view_name": "StyleView",
            "_model_name": "ProgressStyleModel",
            "description_width": "initial",
            "_view_module": "@jupyter-widgets/base",
            "_model_module_version": "1.5.0",
            "_view_count": null,
            "_view_module_version": "1.2.0",
            "bar_color": null,
            "_model_module": "@jupyter-widgets/controls"
          }
        },
        "d13ea739d84f4b3baf396814be820965": {
          "model_module": "@jupyter-widgets/base",
          "model_name": "LayoutModel",
          "state": {
            "_view_name": "LayoutView",
            "grid_template_rows": null,
            "right": null,
            "justify_content": null,
            "_view_module": "@jupyter-widgets/base",
            "overflow": null,
            "_model_module_version": "1.2.0",
            "_view_count": null,
            "flex_flow": null,
            "width": null,
            "min_width": null,
            "border": null,
            "align_items": null,
            "bottom": null,
            "_model_module": "@jupyter-widgets/base",
            "top": null,
            "grid_column": null,
            "overflow_y": null,
            "overflow_x": null,
            "grid_auto_flow": null,
            "grid_area": null,
            "grid_template_columns": null,
            "flex": null,
            "_model_name": "LayoutModel",
            "justify_items": null,
            "grid_row": null,
            "max_height": null,
            "align_content": null,
            "visibility": null,
            "align_self": null,
            "height": null,
            "min_height": null,
            "padding": null,
            "grid_auto_rows": null,
            "grid_gap": null,
            "max_width": null,
            "order": null,
            "_view_module_version": "1.2.0",
            "grid_template_areas": null,
            "object_position": null,
            "object_fit": null,
            "grid_auto_columns": null,
            "margin": null,
            "display": null,
            "left": null
          }
        },
        "f36b05c70ec04b1e8b319b68de3cc042": {
          "model_module": "@jupyter-widgets/controls",
          "model_name": "DescriptionStyleModel",
          "state": {
            "_view_name": "StyleView",
            "_model_name": "DescriptionStyleModel",
            "description_width": "",
            "_view_module": "@jupyter-widgets/base",
            "_model_module_version": "1.5.0",
            "_view_count": null,
            "_view_module_version": "1.2.0",
            "_model_module": "@jupyter-widgets/controls"
          }
        },
        "5b18ab1d59f44447a85a73c643bd0a1b": {
          "model_module": "@jupyter-widgets/base",
          "model_name": "LayoutModel",
          "state": {
            "_view_name": "LayoutView",
            "grid_template_rows": null,
            "right": null,
            "justify_content": null,
            "_view_module": "@jupyter-widgets/base",
            "overflow": null,
            "_model_module_version": "1.2.0",
            "_view_count": null,
            "flex_flow": null,
            "width": null,
            "min_width": null,
            "border": null,
            "align_items": null,
            "bottom": null,
            "_model_module": "@jupyter-widgets/base",
            "top": null,
            "grid_column": null,
            "overflow_y": null,
            "overflow_x": null,
            "grid_auto_flow": null,
            "grid_area": null,
            "grid_template_columns": null,
            "flex": null,
            "_model_name": "LayoutModel",
            "justify_items": null,
            "grid_row": null,
            "max_height": null,
            "align_content": null,
            "visibility": null,
            "align_self": null,
            "height": null,
            "min_height": null,
            "padding": null,
            "grid_auto_rows": null,
            "grid_gap": null,
            "max_width": null,
            "order": null,
            "_view_module_version": "1.2.0",
            "grid_template_areas": null,
            "object_position": null,
            "object_fit": null,
            "grid_auto_columns": null,
            "margin": null,
            "display": null,
            "left": null
          }
        },
        "1c405e0193e147a9ba6759f04a8219a9": {
          "model_module": "@jupyter-widgets/controls",
          "model_name": "HBoxModel",
          "state": {
            "_view_name": "HBoxView",
            "_dom_classes": [],
            "_model_name": "HBoxModel",
            "_view_module": "@jupyter-widgets/controls",
            "_model_module_version": "1.5.0",
            "_view_count": null,
            "_view_module_version": "1.5.0",
            "box_style": "",
            "layout": "IPY_MODEL_7d748bb8d8ec4c4496eb43633a9bd903",
            "_model_module": "@jupyter-widgets/controls",
            "children": [
              "IPY_MODEL_30dc4d85525f4ce08e803ff7dfb02d04",
              "IPY_MODEL_73bac82ec843448aa72e4ff2c9f05a04"
            ]
          }
        },
        "7d748bb8d8ec4c4496eb43633a9bd903": {
          "model_module": "@jupyter-widgets/base",
          "model_name": "LayoutModel",
          "state": {
            "_view_name": "LayoutView",
            "grid_template_rows": null,
            "right": null,
            "justify_content": null,
            "_view_module": "@jupyter-widgets/base",
            "overflow": null,
            "_model_module_version": "1.2.0",
            "_view_count": null,
            "flex_flow": null,
            "width": null,
            "min_width": null,
            "border": null,
            "align_items": null,
            "bottom": null,
            "_model_module": "@jupyter-widgets/base",
            "top": null,
            "grid_column": null,
            "overflow_y": null,
            "overflow_x": null,
            "grid_auto_flow": null,
            "grid_area": null,
            "grid_template_columns": null,
            "flex": null,
            "_model_name": "LayoutModel",
            "justify_items": null,
            "grid_row": null,
            "max_height": null,
            "align_content": null,
            "visibility": null,
            "align_self": null,
            "height": null,
            "min_height": null,
            "padding": null,
            "grid_auto_rows": null,
            "grid_gap": null,
            "max_width": null,
            "order": null,
            "_view_module_version": "1.2.0",
            "grid_template_areas": null,
            "object_position": null,
            "object_fit": null,
            "grid_auto_columns": null,
            "margin": null,
            "display": null,
            "left": null
          }
        },
        "30dc4d85525f4ce08e803ff7dfb02d04": {
          "model_module": "@jupyter-widgets/controls",
          "model_name": "FloatProgressModel",
          "state": {
            "_view_name": "ProgressView",
            "style": "IPY_MODEL_48347c0972ad4bf8b3cf907d374d54be",
            "_dom_classes": [],
            "description": "Downloading: 100%",
            "_model_name": "FloatProgressModel",
            "bar_style": "success",
            "max": 1920,
            "_view_module": "@jupyter-widgets/controls",
            "_model_module_version": "1.5.0",
            "value": 1920,
            "_view_count": null,
            "_view_module_version": "1.5.0",
            "orientation": "horizontal",
            "min": 0,
            "description_tooltip": null,
            "_model_module": "@jupyter-widgets/controls",
            "layout": "IPY_MODEL_351cb131aa144ccebebbb0716de973e7"
          }
        },
        "73bac82ec843448aa72e4ff2c9f05a04": {
          "model_module": "@jupyter-widgets/controls",
          "model_name": "HTMLModel",
          "state": {
            "_view_name": "HTMLView",
            "style": "IPY_MODEL_ac6ae6a92f4f4499953cb84f296baa4a",
            "_dom_classes": [],
            "description": "",
            "_model_name": "HTMLModel",
            "placeholder": "​",
            "_view_module": "@jupyter-widgets/controls",
            "_model_module_version": "1.5.0",
            "value": " 1.92k/1.92k [00:00&lt;00:00, 24.3kB/s]",
            "_view_count": null,
            "_view_module_version": "1.5.0",
            "description_tooltip": null,
            "_model_module": "@jupyter-widgets/controls",
            "layout": "IPY_MODEL_32330bd50fe14508a4bb44d3de3bc647"
          }
        },
        "48347c0972ad4bf8b3cf907d374d54be": {
          "model_module": "@jupyter-widgets/controls",
          "model_name": "ProgressStyleModel",
          "state": {
            "_view_name": "StyleView",
            "_model_name": "ProgressStyleModel",
            "description_width": "initial",
            "_view_module": "@jupyter-widgets/base",
            "_model_module_version": "1.5.0",
            "_view_count": null,
            "_view_module_version": "1.2.0",
            "bar_color": null,
            "_model_module": "@jupyter-widgets/controls"
          }
        },
        "351cb131aa144ccebebbb0716de973e7": {
          "model_module": "@jupyter-widgets/base",
          "model_name": "LayoutModel",
          "state": {
            "_view_name": "LayoutView",
            "grid_template_rows": null,
            "right": null,
            "justify_content": null,
            "_view_module": "@jupyter-widgets/base",
            "overflow": null,
            "_model_module_version": "1.2.0",
            "_view_count": null,
            "flex_flow": null,
            "width": null,
            "min_width": null,
            "border": null,
            "align_items": null,
            "bottom": null,
            "_model_module": "@jupyter-widgets/base",
            "top": null,
            "grid_column": null,
            "overflow_y": null,
            "overflow_x": null,
            "grid_auto_flow": null,
            "grid_area": null,
            "grid_template_columns": null,
            "flex": null,
            "_model_name": "LayoutModel",
            "justify_items": null,
            "grid_row": null,
            "max_height": null,
            "align_content": null,
            "visibility": null,
            "align_self": null,
            "height": null,
            "min_height": null,
            "padding": null,
            "grid_auto_rows": null,
            "grid_gap": null,
            "max_width": null,
            "order": null,
            "_view_module_version": "1.2.0",
            "grid_template_areas": null,
            "object_position": null,
            "object_fit": null,
            "grid_auto_columns": null,
            "margin": null,
            "display": null,
            "left": null
          }
        },
        "ac6ae6a92f4f4499953cb84f296baa4a": {
          "model_module": "@jupyter-widgets/controls",
          "model_name": "DescriptionStyleModel",
          "state": {
            "_view_name": "StyleView",
            "_model_name": "DescriptionStyleModel",
            "description_width": "",
            "_view_module": "@jupyter-widgets/base",
            "_model_module_version": "1.5.0",
            "_view_count": null,
            "_view_module_version": "1.2.0",
            "_model_module": "@jupyter-widgets/controls"
          }
        },
        "32330bd50fe14508a4bb44d3de3bc647": {
          "model_module": "@jupyter-widgets/base",
          "model_name": "LayoutModel",
          "state": {
            "_view_name": "LayoutView",
            "grid_template_rows": null,
            "right": null,
            "justify_content": null,
            "_view_module": "@jupyter-widgets/base",
            "overflow": null,
            "_model_module_version": "1.2.0",
            "_view_count": null,
            "flex_flow": null,
            "width": null,
            "min_width": null,
            "border": null,
            "align_items": null,
            "bottom": null,
            "_model_module": "@jupyter-widgets/base",
            "top": null,
            "grid_column": null,
            "overflow_y": null,
            "overflow_x": null,
            "grid_auto_flow": null,
            "grid_area": null,
            "grid_template_columns": null,
            "flex": null,
            "_model_name": "LayoutModel",
            "justify_items": null,
            "grid_row": null,
            "max_height": null,
            "align_content": null,
            "visibility": null,
            "align_self": null,
            "height": null,
            "min_height": null,
            "padding": null,
            "grid_auto_rows": null,
            "grid_gap": null,
            "max_width": null,
            "order": null,
            "_view_module_version": "1.2.0",
            "grid_template_areas": null,
            "object_position": null,
            "object_fit": null,
            "grid_auto_columns": null,
            "margin": null,
            "display": null,
            "left": null
          }
        },
        "1d54f0bc3f494155a90075a03899ced0": {
          "model_module": "@jupyter-widgets/controls",
          "model_name": "HBoxModel",
          "state": {
            "_view_name": "HBoxView",
            "_dom_classes": [],
            "_model_name": "HBoxModel",
            "_view_module": "@jupyter-widgets/controls",
            "_model_module_version": "1.5.0",
            "_view_count": null,
            "_view_module_version": "1.5.0",
            "box_style": "",
            "layout": "IPY_MODEL_5ec25307bbb642dba9b0047d7fe09fe1",
            "_model_module": "@jupyter-widgets/controls",
            "children": [
              "IPY_MODEL_2590e5e9178d4e12a42f982c30732e9b",
              "IPY_MODEL_5c3eb4dd9237457494207f1bcda75f4d"
            ]
          }
        },
        "5ec25307bbb642dba9b0047d7fe09fe1": {
          "model_module": "@jupyter-widgets/base",
          "model_name": "LayoutModel",
          "state": {
            "_view_name": "LayoutView",
            "grid_template_rows": null,
            "right": null,
            "justify_content": null,
            "_view_module": "@jupyter-widgets/base",
            "overflow": null,
            "_model_module_version": "1.2.0",
            "_view_count": null,
            "flex_flow": null,
            "width": null,
            "min_width": null,
            "border": null,
            "align_items": null,
            "bottom": null,
            "_model_module": "@jupyter-widgets/base",
            "top": null,
            "grid_column": null,
            "overflow_y": null,
            "overflow_x": null,
            "grid_auto_flow": null,
            "grid_area": null,
            "grid_template_columns": null,
            "flex": null,
            "_model_name": "LayoutModel",
            "justify_items": null,
            "grid_row": null,
            "max_height": null,
            "align_content": null,
            "visibility": null,
            "align_self": null,
            "height": null,
            "min_height": null,
            "padding": null,
            "grid_auto_rows": null,
            "grid_gap": null,
            "max_width": null,
            "order": null,
            "_view_module_version": "1.2.0",
            "grid_template_areas": null,
            "object_position": null,
            "object_fit": null,
            "grid_auto_columns": null,
            "margin": null,
            "display": null,
            "left": null
          }
        },
        "2590e5e9178d4e12a42f982c30732e9b": {
          "model_module": "@jupyter-widgets/controls",
          "model_name": "FloatProgressModel",
          "state": {
            "_view_name": "ProgressView",
            "style": "IPY_MODEL_1c91f42a47da4fb5ab19169ebb0cc313",
            "_dom_classes": [],
            "description": "Downloading: 100%",
            "_model_name": "FloatProgressModel",
            "bar_style": "success",
            "max": 83316686,
            "_view_module": "@jupyter-widgets/controls",
            "_model_module_version": "1.5.0",
            "value": 83316686,
            "_view_count": null,
            "_view_module_version": "1.5.0",
            "orientation": "horizontal",
            "min": 0,
            "description_tooltip": null,
            "_model_module": "@jupyter-widgets/controls",
            "layout": "IPY_MODEL_b5091072d96947bcb4ff77d58e62afef"
          }
        },
        "5c3eb4dd9237457494207f1bcda75f4d": {
          "model_module": "@jupyter-widgets/controls",
          "model_name": "HTMLModel",
          "state": {
            "_view_name": "HTMLView",
            "style": "IPY_MODEL_dc730fc8ee164d1abd284d5acabcc148",
            "_dom_classes": [],
            "description": "",
            "_model_name": "HTMLModel",
            "placeholder": "​",
            "_view_module": "@jupyter-widgets/controls",
            "_model_module_version": "1.5.0",
            "value": " 83.3M/83.3M [00:04&lt;00:00, 17.0MB/s]",
            "_view_count": null,
            "_view_module_version": "1.5.0",
            "description_tooltip": null,
            "_model_module": "@jupyter-widgets/controls",
            "layout": "IPY_MODEL_f69c6a1cf9c84668854841f58aaa6ff7"
          }
        },
        "1c91f42a47da4fb5ab19169ebb0cc313": {
          "model_module": "@jupyter-widgets/controls",
          "model_name": "ProgressStyleModel",
          "state": {
            "_view_name": "StyleView",
            "_model_name": "ProgressStyleModel",
            "description_width": "initial",
            "_view_module": "@jupyter-widgets/base",
            "_model_module_version": "1.5.0",
            "_view_count": null,
            "_view_module_version": "1.2.0",
            "bar_color": null,
            "_model_module": "@jupyter-widgets/controls"
          }
        },
        "b5091072d96947bcb4ff77d58e62afef": {
          "model_module": "@jupyter-widgets/base",
          "model_name": "LayoutModel",
          "state": {
            "_view_name": "LayoutView",
            "grid_template_rows": null,
            "right": null,
            "justify_content": null,
            "_view_module": "@jupyter-widgets/base",
            "overflow": null,
            "_model_module_version": "1.2.0",
            "_view_count": null,
            "flex_flow": null,
            "width": null,
            "min_width": null,
            "border": null,
            "align_items": null,
            "bottom": null,
            "_model_module": "@jupyter-widgets/base",
            "top": null,
            "grid_column": null,
            "overflow_y": null,
            "overflow_x": null,
            "grid_auto_flow": null,
            "grid_area": null,
            "grid_template_columns": null,
            "flex": null,
            "_model_name": "LayoutModel",
            "justify_items": null,
            "grid_row": null,
            "max_height": null,
            "align_content": null,
            "visibility": null,
            "align_self": null,
            "height": null,
            "min_height": null,
            "padding": null,
            "grid_auto_rows": null,
            "grid_gap": null,
            "max_width": null,
            "order": null,
            "_view_module_version": "1.2.0",
            "grid_template_areas": null,
            "object_position": null,
            "object_fit": null,
            "grid_auto_columns": null,
            "margin": null,
            "display": null,
            "left": null
          }
        },
        "dc730fc8ee164d1abd284d5acabcc148": {
          "model_module": "@jupyter-widgets/controls",
          "model_name": "DescriptionStyleModel",
          "state": {
            "_view_name": "StyleView",
            "_model_name": "DescriptionStyleModel",
            "description_width": "",
            "_view_module": "@jupyter-widgets/base",
            "_model_module_version": "1.5.0",
            "_view_count": null,
            "_view_module_version": "1.2.0",
            "_model_module": "@jupyter-widgets/controls"
          }
        },
        "f69c6a1cf9c84668854841f58aaa6ff7": {
          "model_module": "@jupyter-widgets/base",
          "model_name": "LayoutModel",
          "state": {
            "_view_name": "LayoutView",
            "grid_template_rows": null,
            "right": null,
            "justify_content": null,
            "_view_module": "@jupyter-widgets/base",
            "overflow": null,
            "_model_module_version": "1.2.0",
            "_view_count": null,
            "flex_flow": null,
            "width": null,
            "min_width": null,
            "border": null,
            "align_items": null,
            "bottom": null,
            "_model_module": "@jupyter-widgets/base",
            "top": null,
            "grid_column": null,
            "overflow_y": null,
            "overflow_x": null,
            "grid_auto_flow": null,
            "grid_area": null,
            "grid_template_columns": null,
            "flex": null,
            "_model_name": "LayoutModel",
            "justify_items": null,
            "grid_row": null,
            "max_height": null,
            "align_content": null,
            "visibility": null,
            "align_self": null,
            "height": null,
            "min_height": null,
            "padding": null,
            "grid_auto_rows": null,
            "grid_gap": null,
            "max_width": null,
            "order": null,
            "_view_module_version": "1.2.0",
            "grid_template_areas": null,
            "object_position": null,
            "object_fit": null,
            "grid_auto_columns": null,
            "margin": null,
            "display": null,
            "left": null
          }
        },
        "acbabae35ba744c3a922a0a21d13d717": {
          "model_module": "@jupyter-widgets/controls",
          "model_name": "HBoxModel",
          "state": {
            "_view_name": "HBoxView",
            "_dom_classes": [],
            "_model_name": "HBoxModel",
            "_view_module": "@jupyter-widgets/controls",
            "_model_module_version": "1.5.0",
            "_view_count": null,
            "_view_module_version": "1.5.0",
            "box_style": "",
            "layout": "IPY_MODEL_f9b200a5af0940d1a63471705951f9b2",
            "_model_module": "@jupyter-widgets/controls",
            "children": [
              "IPY_MODEL_27fb92b4c69646b1aec7e15d604aed0d",
              "IPY_MODEL_5b5182c0e36b46b29000eca930ca96c2"
            ]
          }
        },
        "f9b200a5af0940d1a63471705951f9b2": {
          "model_module": "@jupyter-widgets/base",
          "model_name": "LayoutModel",
          "state": {
            "_view_name": "LayoutView",
            "grid_template_rows": null,
            "right": null,
            "justify_content": null,
            "_view_module": "@jupyter-widgets/base",
            "overflow": null,
            "_model_module_version": "1.2.0",
            "_view_count": null,
            "flex_flow": null,
            "width": null,
            "min_width": null,
            "border": null,
            "align_items": null,
            "bottom": null,
            "_model_module": "@jupyter-widgets/base",
            "top": null,
            "grid_column": null,
            "overflow_y": null,
            "overflow_x": null,
            "grid_auto_flow": null,
            "grid_area": null,
            "grid_template_columns": null,
            "flex": null,
            "_model_name": "LayoutModel",
            "justify_items": null,
            "grid_row": null,
            "max_height": null,
            "align_content": null,
            "visibility": null,
            "align_self": null,
            "height": null,
            "min_height": null,
            "padding": null,
            "grid_auto_rows": null,
            "grid_gap": null,
            "max_width": null,
            "order": null,
            "_view_module_version": "1.2.0",
            "grid_template_areas": null,
            "object_position": null,
            "object_fit": null,
            "grid_auto_columns": null,
            "margin": null,
            "display": null,
            "left": null
          }
        },
        "27fb92b4c69646b1aec7e15d604aed0d": {
          "model_module": "@jupyter-widgets/controls",
          "model_name": "FloatProgressModel",
          "state": {
            "_view_name": "ProgressView",
            "style": "IPY_MODEL_bb1a9231ec754fe2a3e1aaf5a1243626",
            "_dom_classes": [],
            "description": "Downloading: 100%",
            "_model_name": "FloatProgressModel",
            "bar_style": "success",
            "max": 1921,
            "_view_module": "@jupyter-widgets/controls",
            "_model_module_version": "1.5.0",
            "value": 1921,
            "_view_count": null,
            "_view_module_version": "1.5.0",
            "orientation": "horizontal",
            "min": 0,
            "description_tooltip": null,
            "_model_module": "@jupyter-widgets/controls",
            "layout": "IPY_MODEL_9dc7c9680b144ab981a44457e43c565c"
          }
        },
        "5b5182c0e36b46b29000eca930ca96c2": {
          "model_module": "@jupyter-widgets/controls",
          "model_name": "HTMLModel",
          "state": {
            "_view_name": "HTMLView",
            "style": "IPY_MODEL_50607f7fef374f3090b1313cf6ca39a6",
            "_dom_classes": [],
            "description": "",
            "_model_name": "HTMLModel",
            "placeholder": "​",
            "_view_module": "@jupyter-widgets/controls",
            "_model_module_version": "1.5.0",
            "value": " 1.92k/1.92k [00:01&lt;00:00, 1.36kB/s]",
            "_view_count": null,
            "_view_module_version": "1.5.0",
            "description_tooltip": null,
            "_model_module": "@jupyter-widgets/controls",
            "layout": "IPY_MODEL_60c2d892ebef4e0080f339385fce50bd"
          }
        },
        "bb1a9231ec754fe2a3e1aaf5a1243626": {
          "model_module": "@jupyter-widgets/controls",
          "model_name": "ProgressStyleModel",
          "state": {
            "_view_name": "StyleView",
            "_model_name": "ProgressStyleModel",
            "description_width": "initial",
            "_view_module": "@jupyter-widgets/base",
            "_model_module_version": "1.5.0",
            "_view_count": null,
            "_view_module_version": "1.2.0",
            "bar_color": null,
            "_model_module": "@jupyter-widgets/controls"
          }
        },
        "9dc7c9680b144ab981a44457e43c565c": {
          "model_module": "@jupyter-widgets/base",
          "model_name": "LayoutModel",
          "state": {
            "_view_name": "LayoutView",
            "grid_template_rows": null,
            "right": null,
            "justify_content": null,
            "_view_module": "@jupyter-widgets/base",
            "overflow": null,
            "_model_module_version": "1.2.0",
            "_view_count": null,
            "flex_flow": null,
            "width": null,
            "min_width": null,
            "border": null,
            "align_items": null,
            "bottom": null,
            "_model_module": "@jupyter-widgets/base",
            "top": null,
            "grid_column": null,
            "overflow_y": null,
            "overflow_x": null,
            "grid_auto_flow": null,
            "grid_area": null,
            "grid_template_columns": null,
            "flex": null,
            "_model_name": "LayoutModel",
            "justify_items": null,
            "grid_row": null,
            "max_height": null,
            "align_content": null,
            "visibility": null,
            "align_self": null,
            "height": null,
            "min_height": null,
            "padding": null,
            "grid_auto_rows": null,
            "grid_gap": null,
            "max_width": null,
            "order": null,
            "_view_module_version": "1.2.0",
            "grid_template_areas": null,
            "object_position": null,
            "object_fit": null,
            "grid_auto_columns": null,
            "margin": null,
            "display": null,
            "left": null
          }
        },
        "50607f7fef374f3090b1313cf6ca39a6": {
          "model_module": "@jupyter-widgets/controls",
          "model_name": "DescriptionStyleModel",
          "state": {
            "_view_name": "StyleView",
            "_model_name": "DescriptionStyleModel",
            "description_width": "",
            "_view_module": "@jupyter-widgets/base",
            "_model_module_version": "1.5.0",
            "_view_count": null,
            "_view_module_version": "1.2.0",
            "_model_module": "@jupyter-widgets/controls"
          }
        },
        "60c2d892ebef4e0080f339385fce50bd": {
          "model_module": "@jupyter-widgets/base",
          "model_name": "LayoutModel",
          "state": {
            "_view_name": "LayoutView",
            "grid_template_rows": null,
            "right": null,
            "justify_content": null,
            "_view_module": "@jupyter-widgets/base",
            "overflow": null,
            "_model_module_version": "1.2.0",
            "_view_count": null,
            "flex_flow": null,
            "width": null,
            "min_width": null,
            "border": null,
            "align_items": null,
            "bottom": null,
            "_model_module": "@jupyter-widgets/base",
            "top": null,
            "grid_column": null,
            "overflow_y": null,
            "overflow_x": null,
            "grid_auto_flow": null,
            "grid_area": null,
            "grid_template_columns": null,
            "flex": null,
            "_model_name": "LayoutModel",
            "justify_items": null,
            "grid_row": null,
            "max_height": null,
            "align_content": null,
            "visibility": null,
            "align_self": null,
            "height": null,
            "min_height": null,
            "padding": null,
            "grid_auto_rows": null,
            "grid_gap": null,
            "max_width": null,
            "order": null,
            "_view_module_version": "1.2.0",
            "grid_template_areas": null,
            "object_position": null,
            "object_fit": null,
            "grid_auto_columns": null,
            "margin": null,
            "display": null,
            "left": null
          }
        },
        "c7bdead6a0e444f2b773330e11460993": {
          "model_module": "@jupyter-widgets/controls",
          "model_name": "HBoxModel",
          "state": {
            "_view_name": "HBoxView",
            "_dom_classes": [],
            "_model_name": "HBoxModel",
            "_view_module": "@jupyter-widgets/controls",
            "_model_module_version": "1.5.0",
            "_view_count": null,
            "_view_module_version": "1.5.0",
            "box_style": "",
            "layout": "IPY_MODEL_a1984e24279349749ee873a4a559ac2f",
            "_model_module": "@jupyter-widgets/controls",
            "children": [
              "IPY_MODEL_478023c2c95047cb8b2eb501c5ff49a4",
              "IPY_MODEL_dbf019eed34140f4922c0be8927a8fd9"
            ]
          }
        },
        "a1984e24279349749ee873a4a559ac2f": {
          "model_module": "@jupyter-widgets/base",
          "model_name": "LayoutModel",
          "state": {
            "_view_name": "LayoutView",
            "grid_template_rows": null,
            "right": null,
            "justify_content": null,
            "_view_module": "@jupyter-widgets/base",
            "overflow": null,
            "_model_module_version": "1.2.0",
            "_view_count": null,
            "flex_flow": null,
            "width": null,
            "min_width": null,
            "border": null,
            "align_items": null,
            "bottom": null,
            "_model_module": "@jupyter-widgets/base",
            "top": null,
            "grid_column": null,
            "overflow_y": null,
            "overflow_x": null,
            "grid_auto_flow": null,
            "grid_area": null,
            "grid_template_columns": null,
            "flex": null,
            "_model_name": "LayoutModel",
            "justify_items": null,
            "grid_row": null,
            "max_height": null,
            "align_content": null,
            "visibility": null,
            "align_self": null,
            "height": null,
            "min_height": null,
            "padding": null,
            "grid_auto_rows": null,
            "grid_gap": null,
            "max_width": null,
            "order": null,
            "_view_module_version": "1.2.0",
            "grid_template_areas": null,
            "object_position": null,
            "object_fit": null,
            "grid_auto_columns": null,
            "margin": null,
            "display": null,
            "left": null
          }
        },
        "478023c2c95047cb8b2eb501c5ff49a4": {
          "model_module": "@jupyter-widgets/controls",
          "model_name": "FloatProgressModel",
          "state": {
            "_view_name": "ProgressView",
            "style": "IPY_MODEL_9e15ab34a81d40218d1755a9de391677",
            "_dom_classes": [],
            "description": "Downloading: 100%",
            "_model_name": "FloatProgressModel",
            "bar_style": "success",
            "max": 5534328,
            "_view_module": "@jupyter-widgets/controls",
            "_model_module_version": "1.5.0",
            "value": 5534328,
            "_view_count": null,
            "_view_module_version": "1.5.0",
            "orientation": "horizontal",
            "min": 0,
            "description_tooltip": null,
            "_model_module": "@jupyter-widgets/controls",
            "layout": "IPY_MODEL_0dca11924fb34c6c920d1ea29b7c154b"
          }
        },
        "dbf019eed34140f4922c0be8927a8fd9": {
          "model_module": "@jupyter-widgets/controls",
          "model_name": "HTMLModel",
          "state": {
            "_view_name": "HTMLView",
            "style": "IPY_MODEL_c5c91ddcd810421baa25bd5ed00b08c8",
            "_dom_classes": [],
            "description": "",
            "_model_name": "HTMLModel",
            "placeholder": "​",
            "_view_module": "@jupyter-widgets/controls",
            "_model_module_version": "1.5.0",
            "value": " 5.53M/5.53M [00:00&lt;00:00, 7.60MB/s]",
            "_view_count": null,
            "_view_module_version": "1.5.0",
            "description_tooltip": null,
            "_model_module": "@jupyter-widgets/controls",
            "layout": "IPY_MODEL_89137126312442e5b0e0a34ebba9dcf5"
          }
        },
        "9e15ab34a81d40218d1755a9de391677": {
          "model_module": "@jupyter-widgets/controls",
          "model_name": "ProgressStyleModel",
          "state": {
            "_view_name": "StyleView",
            "_model_name": "ProgressStyleModel",
            "description_width": "initial",
            "_view_module": "@jupyter-widgets/base",
            "_model_module_version": "1.5.0",
            "_view_count": null,
            "_view_module_version": "1.2.0",
            "bar_color": null,
            "_model_module": "@jupyter-widgets/controls"
          }
        },
        "0dca11924fb34c6c920d1ea29b7c154b": {
          "model_module": "@jupyter-widgets/base",
          "model_name": "LayoutModel",
          "state": {
            "_view_name": "LayoutView",
            "grid_template_rows": null,
            "right": null,
            "justify_content": null,
            "_view_module": "@jupyter-widgets/base",
            "overflow": null,
            "_model_module_version": "1.2.0",
            "_view_count": null,
            "flex_flow": null,
            "width": null,
            "min_width": null,
            "border": null,
            "align_items": null,
            "bottom": null,
            "_model_module": "@jupyter-widgets/base",
            "top": null,
            "grid_column": null,
            "overflow_y": null,
            "overflow_x": null,
            "grid_auto_flow": null,
            "grid_area": null,
            "grid_template_columns": null,
            "flex": null,
            "_model_name": "LayoutModel",
            "justify_items": null,
            "grid_row": null,
            "max_height": null,
            "align_content": null,
            "visibility": null,
            "align_self": null,
            "height": null,
            "min_height": null,
            "padding": null,
            "grid_auto_rows": null,
            "grid_gap": null,
            "max_width": null,
            "order": null,
            "_view_module_version": "1.2.0",
            "grid_template_areas": null,
            "object_position": null,
            "object_fit": null,
            "grid_auto_columns": null,
            "margin": null,
            "display": null,
            "left": null
          }
        },
        "c5c91ddcd810421baa25bd5ed00b08c8": {
          "model_module": "@jupyter-widgets/controls",
          "model_name": "DescriptionStyleModel",
          "state": {
            "_view_name": "StyleView",
            "_model_name": "DescriptionStyleModel",
            "description_width": "",
            "_view_module": "@jupyter-widgets/base",
            "_model_module_version": "1.5.0",
            "_view_count": null,
            "_view_module_version": "1.2.0",
            "_model_module": "@jupyter-widgets/controls"
          }
        },
        "89137126312442e5b0e0a34ebba9dcf5": {
          "model_module": "@jupyter-widgets/base",
          "model_name": "LayoutModel",
          "state": {
            "_view_name": "LayoutView",
            "grid_template_rows": null,
            "right": null,
            "justify_content": null,
            "_view_module": "@jupyter-widgets/base",
            "overflow": null,
            "_model_module_version": "1.2.0",
            "_view_count": null,
            "flex_flow": null,
            "width": null,
            "min_width": null,
            "border": null,
            "align_items": null,
            "bottom": null,
            "_model_module": "@jupyter-widgets/base",
            "top": null,
            "grid_column": null,
            "overflow_y": null,
            "overflow_x": null,
            "grid_auto_flow": null,
            "grid_area": null,
            "grid_template_columns": null,
            "flex": null,
            "_model_name": "LayoutModel",
            "justify_items": null,
            "grid_row": null,
            "max_height": null,
            "align_content": null,
            "visibility": null,
            "align_self": null,
            "height": null,
            "min_height": null,
            "padding": null,
            "grid_auto_rows": null,
            "grid_gap": null,
            "max_width": null,
            "order": null,
            "_view_module_version": "1.2.0",
            "grid_template_areas": null,
            "object_position": null,
            "object_fit": null,
            "grid_auto_columns": null,
            "margin": null,
            "display": null,
            "left": null
          }
        },
        "f4113422c3494074aab7270c34f0840b": {
          "model_module": "@jupyter-widgets/controls",
          "model_name": "HBoxModel",
          "state": {
            "_view_name": "HBoxView",
            "_dom_classes": [],
            "_model_name": "HBoxModel",
            "_view_module": "@jupyter-widgets/controls",
            "_model_module_version": "1.5.0",
            "_view_count": null,
            "_view_module_version": "1.5.0",
            "box_style": "",
            "layout": "IPY_MODEL_44aefeefd933426ca127fd66367ec2c6",
            "_model_module": "@jupyter-widgets/controls",
            "children": [
              "IPY_MODEL_43b98f2492cb4f95a97e623fbebecb0d",
              "IPY_MODEL_769600343e734220a6160e2d10d12bd0"
            ]
          }
        },
        "44aefeefd933426ca127fd66367ec2c6": {
          "model_module": "@jupyter-widgets/base",
          "model_name": "LayoutModel",
          "state": {
            "_view_name": "LayoutView",
            "grid_template_rows": null,
            "right": null,
            "justify_content": null,
            "_view_module": "@jupyter-widgets/base",
            "overflow": null,
            "_model_module_version": "1.2.0",
            "_view_count": null,
            "flex_flow": null,
            "width": null,
            "min_width": null,
            "border": null,
            "align_items": null,
            "bottom": null,
            "_model_module": "@jupyter-widgets/base",
            "top": null,
            "grid_column": null,
            "overflow_y": null,
            "overflow_x": null,
            "grid_auto_flow": null,
            "grid_area": null,
            "grid_template_columns": null,
            "flex": null,
            "_model_name": "LayoutModel",
            "justify_items": null,
            "grid_row": null,
            "max_height": null,
            "align_content": null,
            "visibility": null,
            "align_self": null,
            "height": null,
            "min_height": null,
            "padding": null,
            "grid_auto_rows": null,
            "grid_gap": null,
            "max_width": null,
            "order": null,
            "_view_module_version": "1.2.0",
            "grid_template_areas": null,
            "object_position": null,
            "object_fit": null,
            "grid_auto_columns": null,
            "margin": null,
            "display": null,
            "left": null
          }
        },
        "43b98f2492cb4f95a97e623fbebecb0d": {
          "model_module": "@jupyter-widgets/controls",
          "model_name": "FloatProgressModel",
          "state": {
            "_view_name": "ProgressView",
            "style": "IPY_MODEL_3d1976cf7c71495a82790f37ce232a78",
            "_dom_classes": [],
            "description": "Downloading: 100%",
            "_model_name": "FloatProgressModel",
            "bar_style": "success",
            "max": 128619,
            "_view_module": "@jupyter-widgets/controls",
            "_model_module_version": "1.5.0",
            "value": 128619,
            "_view_count": null,
            "_view_module_version": "1.5.0",
            "orientation": "horizontal",
            "min": 0,
            "description_tooltip": null,
            "_model_module": "@jupyter-widgets/controls",
            "layout": "IPY_MODEL_703ed3d7d12a44e5b3a33517e85e5f6f"
          }
        },
        "769600343e734220a6160e2d10d12bd0": {
          "model_module": "@jupyter-widgets/controls",
          "model_name": "HTMLModel",
          "state": {
            "_view_name": "HTMLView",
            "style": "IPY_MODEL_856dee9a1a1747cf9517e21435a97de4",
            "_dom_classes": [],
            "description": "",
            "_model_name": "HTMLModel",
            "placeholder": "​",
            "_view_module": "@jupyter-widgets/controls",
            "_model_module_version": "1.5.0",
            "value": " 129k/129k [00:00&lt;00:00, 384kB/s]",
            "_view_count": null,
            "_view_module_version": "1.5.0",
            "description_tooltip": null,
            "_model_module": "@jupyter-widgets/controls",
            "layout": "IPY_MODEL_1b8eee1b9ae44c5bb1ee6b2b6fbd75ed"
          }
        },
        "3d1976cf7c71495a82790f37ce232a78": {
          "model_module": "@jupyter-widgets/controls",
          "model_name": "ProgressStyleModel",
          "state": {
            "_view_name": "StyleView",
            "_model_name": "ProgressStyleModel",
            "description_width": "initial",
            "_view_module": "@jupyter-widgets/base",
            "_model_module_version": "1.5.0",
            "_view_count": null,
            "_view_module_version": "1.2.0",
            "bar_color": null,
            "_model_module": "@jupyter-widgets/controls"
          }
        },
        "703ed3d7d12a44e5b3a33517e85e5f6f": {
          "model_module": "@jupyter-widgets/base",
          "model_name": "LayoutModel",
          "state": {
            "_view_name": "LayoutView",
            "grid_template_rows": null,
            "right": null,
            "justify_content": null,
            "_view_module": "@jupyter-widgets/base",
            "overflow": null,
            "_model_module_version": "1.2.0",
            "_view_count": null,
            "flex_flow": null,
            "width": null,
            "min_width": null,
            "border": null,
            "align_items": null,
            "bottom": null,
            "_model_module": "@jupyter-widgets/base",
            "top": null,
            "grid_column": null,
            "overflow_y": null,
            "overflow_x": null,
            "grid_auto_flow": null,
            "grid_area": null,
            "grid_template_columns": null,
            "flex": null,
            "_model_name": "LayoutModel",
            "justify_items": null,
            "grid_row": null,
            "max_height": null,
            "align_content": null,
            "visibility": null,
            "align_self": null,
            "height": null,
            "min_height": null,
            "padding": null,
            "grid_auto_rows": null,
            "grid_gap": null,
            "max_width": null,
            "order": null,
            "_view_module_version": "1.2.0",
            "grid_template_areas": null,
            "object_position": null,
            "object_fit": null,
            "grid_auto_columns": null,
            "margin": null,
            "display": null,
            "left": null
          }
        },
        "856dee9a1a1747cf9517e21435a97de4": {
          "model_module": "@jupyter-widgets/controls",
          "model_name": "DescriptionStyleModel",
          "state": {
            "_view_name": "StyleView",
            "_model_name": "DescriptionStyleModel",
            "description_width": "",
            "_view_module": "@jupyter-widgets/base",
            "_model_module_version": "1.5.0",
            "_view_count": null,
            "_view_module_version": "1.2.0",
            "_model_module": "@jupyter-widgets/controls"
          }
        },
        "1b8eee1b9ae44c5bb1ee6b2b6fbd75ed": {
          "model_module": "@jupyter-widgets/base",
          "model_name": "LayoutModel",
          "state": {
            "_view_name": "LayoutView",
            "grid_template_rows": null,
            "right": null,
            "justify_content": null,
            "_view_module": "@jupyter-widgets/base",
            "overflow": null,
            "_model_module_version": "1.2.0",
            "_view_count": null,
            "flex_flow": null,
            "width": null,
            "min_width": null,
            "border": null,
            "align_items": null,
            "bottom": null,
            "_model_module": "@jupyter-widgets/base",
            "top": null,
            "grid_column": null,
            "overflow_y": null,
            "overflow_x": null,
            "grid_auto_flow": null,
            "grid_area": null,
            "grid_template_columns": null,
            "flex": null,
            "_model_name": "LayoutModel",
            "justify_items": null,
            "grid_row": null,
            "max_height": null,
            "align_content": null,
            "visibility": null,
            "align_self": null,
            "height": null,
            "min_height": null,
            "padding": null,
            "grid_auto_rows": null,
            "grid_gap": null,
            "max_width": null,
            "order": null,
            "_view_module_version": "1.2.0",
            "grid_template_areas": null,
            "object_position": null,
            "object_fit": null,
            "grid_auto_columns": null,
            "margin": null,
            "display": null,
            "left": null
          }
        },
        "7dfc4f0cd27740f9a548d938f6a5b7b9": {
          "model_module": "@jupyter-widgets/controls",
          "model_name": "HBoxModel",
          "state": {
            "_view_name": "HBoxView",
            "_dom_classes": [],
            "_model_name": "HBoxModel",
            "_view_module": "@jupyter-widgets/controls",
            "_model_module_version": "1.5.0",
            "_view_count": null,
            "_view_module_version": "1.5.0",
            "box_style": "",
            "layout": "IPY_MODEL_8d397c1582334d4dad98c5cee49360d7",
            "_model_module": "@jupyter-widgets/controls",
            "children": [
              "IPY_MODEL_4d6393fa48c34656b0dc452763e5933d",
              "IPY_MODEL_b56eb79e6fa14b74b5cf89528dfd2705"
            ]
          }
        },
        "8d397c1582334d4dad98c5cee49360d7": {
          "model_module": "@jupyter-widgets/base",
          "model_name": "LayoutModel",
          "state": {
            "_view_name": "LayoutView",
            "grid_template_rows": null,
            "right": null,
            "justify_content": null,
            "_view_module": "@jupyter-widgets/base",
            "overflow": null,
            "_model_module_version": "1.2.0",
            "_view_count": null,
            "flex_flow": null,
            "width": null,
            "min_width": null,
            "border": null,
            "align_items": null,
            "bottom": null,
            "_model_module": "@jupyter-widgets/base",
            "top": null,
            "grid_column": null,
            "overflow_y": null,
            "overflow_x": null,
            "grid_auto_flow": null,
            "grid_area": null,
            "grid_template_columns": null,
            "flex": null,
            "_model_name": "LayoutModel",
            "justify_items": null,
            "grid_row": null,
            "max_height": null,
            "align_content": null,
            "visibility": null,
            "align_self": null,
            "height": null,
            "min_height": null,
            "padding": null,
            "grid_auto_rows": null,
            "grid_gap": null,
            "max_width": null,
            "order": null,
            "_view_module_version": "1.2.0",
            "grid_template_areas": null,
            "object_position": null,
            "object_fit": null,
            "grid_auto_columns": null,
            "margin": null,
            "display": null,
            "left": null
          }
        },
        "4d6393fa48c34656b0dc452763e5933d": {
          "model_module": "@jupyter-widgets/controls",
          "model_name": "FloatProgressModel",
          "state": {
            "_view_name": "ProgressView",
            "style": "IPY_MODEL_48626d69bdd643ba888876e7bae0d966",
            "_dom_classes": [],
            "description": "100%",
            "_model_name": "FloatProgressModel",
            "bar_style": "success",
            "max": 1,
            "_view_module": "@jupyter-widgets/controls",
            "_model_module_version": "1.5.0",
            "value": 1,
            "_view_count": null,
            "_view_module_version": "1.5.0",
            "orientation": "horizontal",
            "min": 0,
            "description_tooltip": null,
            "_model_module": "@jupyter-widgets/controls",
            "layout": "IPY_MODEL_8b858f1b28504da2a3f13ce3de5bb852"
          }
        },
        "b56eb79e6fa14b74b5cf89528dfd2705": {
          "model_module": "@jupyter-widgets/controls",
          "model_name": "HTMLModel",
          "state": {
            "_view_name": "HTMLView",
            "style": "IPY_MODEL_54c8557c67304d4eb8beab77a397c830",
            "_dom_classes": [],
            "description": "",
            "_model_name": "HTMLModel",
            "placeholder": "​",
            "_view_module": "@jupyter-widgets/controls",
            "_model_module_version": "1.5.0",
            "value": " 1/1 [00:08&lt;00:00,  8.42s/it]",
            "_view_count": null,
            "_view_module_version": "1.5.0",
            "description_tooltip": null,
            "_model_module": "@jupyter-widgets/controls",
            "layout": "IPY_MODEL_51deb32256fe45289794f2443a9fd31f"
          }
        },
        "48626d69bdd643ba888876e7bae0d966": {
          "model_module": "@jupyter-widgets/controls",
          "model_name": "ProgressStyleModel",
          "state": {
            "_view_name": "StyleView",
            "_model_name": "ProgressStyleModel",
            "description_width": "initial",
            "_view_module": "@jupyter-widgets/base",
            "_model_module_version": "1.5.0",
            "_view_count": null,
            "_view_module_version": "1.2.0",
            "bar_color": null,
            "_model_module": "@jupyter-widgets/controls"
          }
        },
        "8b858f1b28504da2a3f13ce3de5bb852": {
          "model_module": "@jupyter-widgets/base",
          "model_name": "LayoutModel",
          "state": {
            "_view_name": "LayoutView",
            "grid_template_rows": null,
            "right": null,
            "justify_content": null,
            "_view_module": "@jupyter-widgets/base",
            "overflow": null,
            "_model_module_version": "1.2.0",
            "_view_count": null,
            "flex_flow": null,
            "width": null,
            "min_width": null,
            "border": null,
            "align_items": null,
            "bottom": null,
            "_model_module": "@jupyter-widgets/base",
            "top": null,
            "grid_column": null,
            "overflow_y": null,
            "overflow_x": null,
            "grid_auto_flow": null,
            "grid_area": null,
            "grid_template_columns": null,
            "flex": null,
            "_model_name": "LayoutModel",
            "justify_items": null,
            "grid_row": null,
            "max_height": null,
            "align_content": null,
            "visibility": null,
            "align_self": null,
            "height": null,
            "min_height": null,
            "padding": null,
            "grid_auto_rows": null,
            "grid_gap": null,
            "max_width": null,
            "order": null,
            "_view_module_version": "1.2.0",
            "grid_template_areas": null,
            "object_position": null,
            "object_fit": null,
            "grid_auto_columns": null,
            "margin": null,
            "display": null,
            "left": null
          }
        },
        "54c8557c67304d4eb8beab77a397c830": {
          "model_module": "@jupyter-widgets/controls",
          "model_name": "DescriptionStyleModel",
          "state": {
            "_view_name": "StyleView",
            "_model_name": "DescriptionStyleModel",
            "description_width": "",
            "_view_module": "@jupyter-widgets/base",
            "_model_module_version": "1.5.0",
            "_view_count": null,
            "_view_module_version": "1.2.0",
            "_model_module": "@jupyter-widgets/controls"
          }
        },
        "51deb32256fe45289794f2443a9fd31f": {
          "model_module": "@jupyter-widgets/base",
          "model_name": "LayoutModel",
          "state": {
            "_view_name": "LayoutView",
            "grid_template_rows": null,
            "right": null,
            "justify_content": null,
            "_view_module": "@jupyter-widgets/base",
            "overflow": null,
            "_model_module_version": "1.2.0",
            "_view_count": null,
            "flex_flow": null,
            "width": null,
            "min_width": null,
            "border": null,
            "align_items": null,
            "bottom": null,
            "_model_module": "@jupyter-widgets/base",
            "top": null,
            "grid_column": null,
            "overflow_y": null,
            "overflow_x": null,
            "grid_auto_flow": null,
            "grid_area": null,
            "grid_template_columns": null,
            "flex": null,
            "_model_name": "LayoutModel",
            "justify_items": null,
            "grid_row": null,
            "max_height": null,
            "align_content": null,
            "visibility": null,
            "align_self": null,
            "height": null,
            "min_height": null,
            "padding": null,
            "grid_auto_rows": null,
            "grid_gap": null,
            "max_width": null,
            "order": null,
            "_view_module_version": "1.2.0",
            "grid_template_areas": null,
            "object_position": null,
            "object_fit": null,
            "grid_auto_columns": null,
            "margin": null,
            "display": null,
            "left": null
          }
        },
        "f05e619456e44bb1bb1b42c9a94e3261": {
          "model_module": "@jupyter-widgets/controls",
          "model_name": "HBoxModel",
          "state": {
            "_view_name": "HBoxView",
            "_dom_classes": [],
            "_model_name": "HBoxModel",
            "_view_module": "@jupyter-widgets/controls",
            "_model_module_version": "1.5.0",
            "_view_count": null,
            "_view_module_version": "1.5.0",
            "box_style": "",
            "layout": "IPY_MODEL_33df61528fd2482f8a70e7942067d0cf",
            "_model_module": "@jupyter-widgets/controls",
            "children": [
              "IPY_MODEL_0849ce2d22594ca8963ce743ab5bd544",
              "IPY_MODEL_db0a9dcd591144bca133cdf088ff9ddb"
            ]
          }
        },
        "33df61528fd2482f8a70e7942067d0cf": {
          "model_module": "@jupyter-widgets/base",
          "model_name": "LayoutModel",
          "state": {
            "_view_name": "LayoutView",
            "grid_template_rows": null,
            "right": null,
            "justify_content": null,
            "_view_module": "@jupyter-widgets/base",
            "overflow": null,
            "_model_module_version": "1.2.0",
            "_view_count": null,
            "flex_flow": null,
            "width": null,
            "min_width": null,
            "border": null,
            "align_items": null,
            "bottom": null,
            "_model_module": "@jupyter-widgets/base",
            "top": null,
            "grid_column": null,
            "overflow_y": null,
            "overflow_x": null,
            "grid_auto_flow": null,
            "grid_area": null,
            "grid_template_columns": null,
            "flex": null,
            "_model_name": "LayoutModel",
            "justify_items": null,
            "grid_row": null,
            "max_height": null,
            "align_content": null,
            "visibility": null,
            "align_self": null,
            "height": null,
            "min_height": null,
            "padding": null,
            "grid_auto_rows": null,
            "grid_gap": null,
            "max_width": null,
            "order": null,
            "_view_module_version": "1.2.0",
            "grid_template_areas": null,
            "object_position": null,
            "object_fit": null,
            "grid_auto_columns": null,
            "margin": null,
            "display": null,
            "left": null
          }
        },
        "0849ce2d22594ca8963ce743ab5bd544": {
          "model_module": "@jupyter-widgets/controls",
          "model_name": "FloatProgressModel",
          "state": {
            "_view_name": "ProgressView",
            "style": "IPY_MODEL_1e0c07ed4edb4701b3323578b6bf9ba1",
            "_dom_classes": [],
            "description": "100%",
            "_model_name": "FloatProgressModel",
            "bar_style": "success",
            "max": 1,
            "_view_module": "@jupyter-widgets/controls",
            "_model_module_version": "1.5.0",
            "value": 1,
            "_view_count": null,
            "_view_module_version": "1.5.0",
            "orientation": "horizontal",
            "min": 0,
            "description_tooltip": null,
            "_model_module": "@jupyter-widgets/controls",
            "layout": "IPY_MODEL_3e55182729614acfa0d6c06561931398"
          }
        },
        "db0a9dcd591144bca133cdf088ff9ddb": {
          "model_module": "@jupyter-widgets/controls",
          "model_name": "HTMLModel",
          "state": {
            "_view_name": "HTMLView",
            "style": "IPY_MODEL_1eea577ecc174f32b84228a9b9e72f43",
            "_dom_classes": [],
            "description": "",
            "_model_name": "HTMLModel",
            "placeholder": "​",
            "_view_module": "@jupyter-widgets/controls",
            "_model_module_version": "1.5.0",
            "value": " 1/1 [00:07&lt;00:00,  7.93s/it]",
            "_view_count": null,
            "_view_module_version": "1.5.0",
            "description_tooltip": null,
            "_model_module": "@jupyter-widgets/controls",
            "layout": "IPY_MODEL_12163c3baacc442b96c660c89ea62345"
          }
        },
        "1e0c07ed4edb4701b3323578b6bf9ba1": {
          "model_module": "@jupyter-widgets/controls",
          "model_name": "ProgressStyleModel",
          "state": {
            "_view_name": "StyleView",
            "_model_name": "ProgressStyleModel",
            "description_width": "initial",
            "_view_module": "@jupyter-widgets/base",
            "_model_module_version": "1.5.0",
            "_view_count": null,
            "_view_module_version": "1.2.0",
            "bar_color": null,
            "_model_module": "@jupyter-widgets/controls"
          }
        },
        "3e55182729614acfa0d6c06561931398": {
          "model_module": "@jupyter-widgets/base",
          "model_name": "LayoutModel",
          "state": {
            "_view_name": "LayoutView",
            "grid_template_rows": null,
            "right": null,
            "justify_content": null,
            "_view_module": "@jupyter-widgets/base",
            "overflow": null,
            "_model_module_version": "1.2.0",
            "_view_count": null,
            "flex_flow": null,
            "width": null,
            "min_width": null,
            "border": null,
            "align_items": null,
            "bottom": null,
            "_model_module": "@jupyter-widgets/base",
            "top": null,
            "grid_column": null,
            "overflow_y": null,
            "overflow_x": null,
            "grid_auto_flow": null,
            "grid_area": null,
            "grid_template_columns": null,
            "flex": null,
            "_model_name": "LayoutModel",
            "justify_items": null,
            "grid_row": null,
            "max_height": null,
            "align_content": null,
            "visibility": null,
            "align_self": null,
            "height": null,
            "min_height": null,
            "padding": null,
            "grid_auto_rows": null,
            "grid_gap": null,
            "max_width": null,
            "order": null,
            "_view_module_version": "1.2.0",
            "grid_template_areas": null,
            "object_position": null,
            "object_fit": null,
            "grid_auto_columns": null,
            "margin": null,
            "display": null,
            "left": null
          }
        },
        "1eea577ecc174f32b84228a9b9e72f43": {
          "model_module": "@jupyter-widgets/controls",
          "model_name": "DescriptionStyleModel",
          "state": {
            "_view_name": "StyleView",
            "_model_name": "DescriptionStyleModel",
            "description_width": "",
            "_view_module": "@jupyter-widgets/base",
            "_model_module_version": "1.5.0",
            "_view_count": null,
            "_view_module_version": "1.2.0",
            "_model_module": "@jupyter-widgets/controls"
          }
        },
        "12163c3baacc442b96c660c89ea62345": {
          "model_module": "@jupyter-widgets/base",
          "model_name": "LayoutModel",
          "state": {
            "_view_name": "LayoutView",
            "grid_template_rows": null,
            "right": null,
            "justify_content": null,
            "_view_module": "@jupyter-widgets/base",
            "overflow": null,
            "_model_module_version": "1.2.0",
            "_view_count": null,
            "flex_flow": null,
            "width": null,
            "min_width": null,
            "border": null,
            "align_items": null,
            "bottom": null,
            "_model_module": "@jupyter-widgets/base",
            "top": null,
            "grid_column": null,
            "overflow_y": null,
            "overflow_x": null,
            "grid_auto_flow": null,
            "grid_area": null,
            "grid_template_columns": null,
            "flex": null,
            "_model_name": "LayoutModel",
            "justify_items": null,
            "grid_row": null,
            "max_height": null,
            "align_content": null,
            "visibility": null,
            "align_self": null,
            "height": null,
            "min_height": null,
            "padding": null,
            "grid_auto_rows": null,
            "grid_gap": null,
            "max_width": null,
            "order": null,
            "_view_module_version": "1.2.0",
            "grid_template_areas": null,
            "object_position": null,
            "object_fit": null,
            "grid_auto_columns": null,
            "margin": null,
            "display": null,
            "left": null
          }
        }
      }
    }
  },
  "cells": [
    {
      "cell_type": "markdown",
      "metadata": {
        "id": "view-in-github",
        "colab_type": "text"
      },
      "source": [
        "<a href=\"https://colab.research.google.com/github/shashikg/speaker_diarization_ee698/blob/main/LIVE_DEMO.ipynb\" target=\"_parent\"><img src=\"https://colab.research.google.com/assets/colab-badge.svg\" alt=\"Open In Colab\"/></a>"
      ]
    },
    {
      "cell_type": "markdown",
      "metadata": {
        "id": "pGlRbfb6p_Ru"
      },
      "source": [
        "# **Import libraries and packages**"
      ]
    },
    {
      "cell_type": "code",
      "metadata": {
        "id": "sGLSR68nkxmW",
        "colab": {
          "base_uri": "https://localhost:8080/"
        },
        "outputId": "a7d77479-4258-4cad-f87e-99607a699a44"
      },
      "source": [
        "!pip install gdown -q\n",
        "!pip install torchaudio -q --no-deps\n",
        "!pip install speechbrain -q\n",
        "!pip install spectralcluster -q\n",
        "!pip install pyannote.metrics -q"
      ],
      "execution_count": 1,
      "outputs": [
        {
          "output_type": "stream",
          "text": [
            "\u001b[K     |████████████████████████████████| 1.9MB 4.4MB/s \n",
            "\u001b[K     |████████████████████████████████| 358kB 5.5MB/s \n",
            "\u001b[K     |████████████████████████████████| 1.2MB 16.4MB/s \n",
            "\u001b[K     |████████████████████████████████| 102kB 9.5MB/s \n",
            "\u001b[K     |████████████████████████████████| 645kB 22.7MB/s \n",
            "\u001b[K     |████████████████████████████████| 552kB 31.0MB/s \n",
            "\u001b[K     |████████████████████████████████| 51kB 2.7MB/s \n",
            "\u001b[K     |████████████████████████████████| 51kB 5.1MB/s \n",
            "\u001b[K     |████████████████████████████████| 61kB 5.5MB/s \n",
            "\u001b[K     |████████████████████████████████| 133kB 17.5MB/s \n",
            "\u001b[?25h"
          ],
          "name": "stdout"
        }
      ]
    },
    {
      "cell_type": "code",
      "metadata": {
        "colab": {
          "base_uri": "https://localhost:8080/"
        },
        "id": "SsAbMm58musp",
        "outputId": "19e245ea-ede4-4577-869d-6a34a2a84abb"
      },
      "source": [
        "%pylab inline"
      ],
      "execution_count": 2,
      "outputs": [
        {
          "output_type": "stream",
          "text": [
            "Populating the interactive namespace from numpy and matplotlib\n"
          ],
          "name": "stdout"
        }
      ]
    },
    {
      "cell_type": "code",
      "metadata": {
        "colab": {
          "base_uri": "https://localhost:8080/"
        },
        "id": "17S8w5unlbYa",
        "outputId": "146b40b1-9f70-4143-d01b-a25351b02301"
      },
      "source": [
        "import os\n",
        "# Download utilDemo module\n",
        "!gdown --id 1XttlFwJScsaGnWSrGJFNBECBTJ1inyE-\n",
        "os.rename('utilsDemo.py', 'utils.py')\n",
        "\n",
        "# Download DEC module\n",
        "!gdown --id 1FWIRF2Kq6JB0fFHwjkZmVfEuGq0-SSC5\n",
        "\n",
        "# Download optimalSpeaker.py\n",
        "!gdown --id 1hbepzjAxHTQS5QoAlKNP9zK0nMxdjauJ"
      ],
      "execution_count": 3,
      "outputs": [
        {
          "output_type": "stream",
          "text": [
            "Downloading...\n",
            "From: https://drive.google.com/uc?id=1XttlFwJScsaGnWSrGJFNBECBTJ1inyE-\n",
            "To: /content/utilsDemo.py\n",
            "100% 9.65k/9.65k [00:00<00:00, 20.1MB/s]\n",
            "Downloading...\n",
            "From: https://drive.google.com/uc?id=1FWIRF2Kq6JB0fFHwjkZmVfEuGq0-SSC5\n",
            "To: /content/DEC.py\n",
            "100% 10.1k/10.1k [00:00<00:00, 17.7MB/s]\n",
            "Downloading...\n",
            "From: https://drive.google.com/uc?id=1hbepzjAxHTQS5QoAlKNP9zK0nMxdjauJ\n",
            "To: /content/optimumSpeaker.py\n",
            "100% 7.08k/7.08k [00:00<00:00, 6.20MB/s]\n"
          ],
          "name": "stdout"
        }
      ]
    },
    {
      "cell_type": "code",
      "metadata": {
        "id": "NoBR6Vs5m2YU"
      },
      "source": [
        "from __future__ import print_function, division\n",
        "import numpy as np\n",
        "import matplotlib.pyplot as plt\n",
        "import torchaudio\n",
        "import os\n",
        "import torch\n",
        "from torch.utils.data import Dataset, DataLoader\n",
        "from speechbrain.pretrained import SpeakerRecognition\n",
        "import warnings\n",
        "warnings.filterwarnings('ignore')\n",
        "\n",
        "from pyannote.database.util import load_rttm\n",
        "from pyannote.metrics.diarization import DiarizationErrorRate\n",
        "from pyannote.core import Annotation, Segment, notebook\n",
        "\n",
        "import cv2\n",
        "from google.colab.patches import cv2_imshow\n",
        "from skimage import io\n",
        "from PIL import Image \n",
        "import matplotlib.pylab as plt\n",
        "\n",
        "from sklearn.cluster import KMeans, SpectralClustering\n",
        "from sklearn import decomposition\n",
        "from tqdm.auto import tqdm\n",
        "\n",
        "from utils import DiarizationDataSet, make_rttm, get_metrics\n",
        "import optimumSpeaker\n",
        "from DEC import diarizationDEC\n",
        "\n",
        "import shutil\n",
        "import pandas as pd\n",
        "from google.colab import files"
      ],
      "execution_count": 4,
      "outputs": []
    },
    {
      "cell_type": "markdown",
      "metadata": {
        "id": "Fkneghn9p3gu"
      },
      "source": [
        "# **DEMO ON NEWS DEBATE NDTV**"
      ]
    },
    {
      "cell_type": "markdown",
      "metadata": {
        "id": "EH4ubS-iDMd8"
      },
      "source": [
        "## **Import Debate Data**"
      ]
    },
    {
      "cell_type": "code",
      "metadata": {
        "colab": {
          "base_uri": "https://localhost:8080/"
        },
        "id": "W7YaQR4xnEk6",
        "outputId": "5dfee357-b843-4c2c-b6b2-4d0267bc8d51"
      },
      "source": [
        "# Demo debate video\n",
        "!gdown --id 18ukjckXFO4zm6UeR6CDiz3hJQdFammPX\n",
        "\n",
        "# Demo debate audio\n",
        "!gdown --id 12yxgfvcK-rqKC1Wd-Ba_fQQji6krGpW-\n",
        "\n",
        "# Demo debate true labels\n",
        "!gdown --id 1grAU_M8piW8IhGKkvEliv2HVAL20uRqJ"
      ],
      "execution_count": null,
      "outputs": [
        {
          "output_type": "stream",
          "text": [
            "Downloading...\n",
            "From: https://drive.google.com/uc?id=18ukjckXFO4zm6UeR6CDiz3hJQdFammPX\n",
            "To: /content/debate.mp4\n",
            "30.8MB [00:00, 84.5MB/s]\n",
            "Downloading...\n",
            "From: https://drive.google.com/uc?id=12yxgfvcK-rqKC1Wd-Ba_fQQji6krGpW-\n",
            "To: /content/debate.wav\n",
            "57.1MB [00:00, 101MB/s] \n",
            "Downloading...\n",
            "From: https://drive.google.com/uc?id=1grAU_M8piW8IhGKkvEliv2HVAL20uRqJ\n",
            "To: /content/debate.rttm\n",
            "100% 886/886 [00:00<00:00, 1.32MB/s]\n"
          ],
          "name": "stdout"
        }
      ]
    },
    {
      "cell_type": "code",
      "metadata": {
        "colab": {
          "base_uri": "https://localhost:8080/"
        },
        "id": "-s-K_pNOqRfA",
        "outputId": "630f7fc6-c2eb-482b-c997-bd9286d40fb6"
      },
      "source": [
        "!mkdir audio\n",
        "!mkdir label\n",
        "shutil.move('./debate.wav','./audio/debate.wav')\n",
        "shutil.move('./debate.rttm','./label/debate.rttm')\n",
        "print(\"Files loaded for demo\")"
      ],
      "execution_count": null,
      "outputs": [
        {
          "output_type": "stream",
          "text": [
            "mkdir: cannot create directory ‘audio’: File exists\n",
            "mkdir: cannot create directory ‘label’: File exists\n",
            "Files loaded for demo\n"
          ],
          "name": "stdout"
        }
      ]
    },
    {
      "cell_type": "markdown",
      "metadata": {
        "id": "1acRQd-hyIEB"
      },
      "source": [
        "## **Run Diarization**"
      ]
    },
    {
      "cell_type": "code",
      "metadata": {
        "colab": {
          "base_uri": "https://localhost:8080/"
        },
        "id": "3CtgLVonR4UH",
        "outputId": "b4b10833-a41c-42b7-c18f-364c95a49c09"
      },
      "source": [
        "if torch.cuda.is_available() == True:\n",
        "  print(\"GPU:\",torch.cuda.get_device_name(0))\n",
        "else:\n",
        "  print('CPU')"
      ],
      "execution_count": null,
      "outputs": [
        {
          "output_type": "stream",
          "text": [
            "GPU: Tesla P100-PCIE-16GB\n"
          ],
          "name": "stdout"
        }
      ]
    },
    {
      "cell_type": "code",
      "metadata": {
        "colab": {
          "base_uri": "https://localhost:8080/"
        },
        "id": "ua_sCT9xp216",
        "outputId": "1bafd5f4-743b-4b26-99be-8cb1533ee9a4"
      },
      "source": [
        "audio_dataset = DiarizationDataSet(root_dir='./audio/',\n",
        "                                   label_dir = './label/',\n",
        "                                   sr = 16000, window_len = 1500, \n",
        "                                   window_step = 750,\n",
        "                                   transform = None,\n",
        "                                   batch_size_for_ecapa=512)\n",
        "print(\"Number of audio files:\",len(audio_dataset))"
      ],
      "execution_count": null,
      "outputs": [
        {
          "output_type": "stream",
          "text": [
            "Downloading: \"https://github.com/snakers4/silero-vad/archive/master.zip\" to /root/.cache/torch/hub/master.zip\n"
          ],
          "name": "stderr"
        },
        {
          "output_type": "stream",
          "text": [
            "Number of audio files: 1\n"
          ],
          "name": "stdout"
        }
      ]
    },
    {
      "cell_type": "code",
      "metadata": {
        "colab": {
          "base_uri": "https://localhost:8080/",
          "referenced_widgets": [
            "7df2ab52f9164ee18a2eb3c3cb130014",
            "7e04a8ec63d84889936b6bce617c56f0",
            "bf626ffa1966476f9ae119dc27a23299",
            "d047d34bde154e97ac603b1b36203d33",
            "4bf4cb8049ac428faa69f30ab31e84a3",
            "d13ea739d84f4b3baf396814be820965",
            "f36b05c70ec04b1e8b319b68de3cc042",
            "5b18ab1d59f44447a85a73c643bd0a1b"
          ]
        },
        "id": "x_snap1nO4U1",
        "outputId": "136c5561-eb4d-4a5c-ceb0-ef4003c54e9f"
      },
      "source": [
        "hypothesis_dir = diarizationDEC(audio_dataset)"
      ],
      "execution_count": null,
      "outputs": [
        {
          "output_type": "display_data",
          "data": {
            "application/vnd.jupyter.widget-view+json": {
              "model_id": "7df2ab52f9164ee18a2eb3c3cb130014",
              "version_minor": 0,
              "version_major": 2
            },
            "text/plain": [
              "HBox(children=(FloatProgress(value=0.0, max=1.0), HTML(value='')))"
            ]
          },
          "metadata": {
            "tags": []
          }
        },
        {
          "output_type": "stream",
          "text": [
            "\n"
          ],
          "name": "stdout"
        }
      ]
    },
    {
      "cell_type": "code",
      "metadata": {
        "colab": {
          "base_uri": "https://localhost:8080/"
        },
        "id": "Z62j7XSb9Rg6",
        "outputId": "6e5ee653-4877-48b0-8de0-894507f40a97"
      },
      "source": [
        "metric = DiarizationErrorRate()\n",
        "filename = 'debate.rttm'\n",
        "groundtruth = load_rttm('./label/debate.rttm')['debate']\n",
        "hypothesis = load_rttm('./rttm_output/debate.rttm')['debate']\n",
        "metric(groundtruth, hypothesis)\n",
        "print(metric)"
      ],
      "execution_count": null,
      "outputs": [
        {
          "output_type": "stream",
          "text": [
            "       diarization error rate  total correct correct false alarm false alarm missed detection missed detection confusion confusion\n",
            "                            %                      %                       %                                 %                   %\n",
            "item                                                                                                                              \n",
            "debate                   3.94 328.28  317.03   96.57        1.67        0.51             7.07             2.16      4.18      1.27\n",
            "TOTAL                    3.94 328.28  317.03   96.57        1.67        0.51             7.07             2.16      4.18      1.27\n"
          ],
          "name": "stdout"
        }
      ]
    },
    {
      "cell_type": "code",
      "metadata": {
        "colab": {
          "base_uri": "https://localhost:8080/"
        },
        "id": "g4bRuD9XIVSP",
        "outputId": "1291ad9b-cbe0-4ca7-fce4-e1278d07e3ca"
      },
      "source": [
        "notebook.width = 10\n",
        "plt.rcParams['figure.figsize'] = (notebook.width, 3)\n",
        "# plot reference\n",
        "plt.subplot(211)\n",
        "notebook.plot_annotation(groundtruth, legend=True, time=False)\n",
        "plt.gca().text(0.6, 0.15, 'groundtruth', fontsize=16)\n",
        "\n",
        "# plot hypothesis\n",
        "plt.subplot(212)\n",
        "mapping = metric.optimal_mapping(groundtruth, hypothesis)\n",
        "notebook.plot_annotation(hypothesis.rename_labels(mapping = mapping), legend=True, time=True)\n",
        "plt.gca().text(0.6, 0.15, 'hypothesis', fontsize=16)\n",
        "\n",
        "plt.tight_layout()\n",
        "\n",
        "plt.show()"
      ],
      "execution_count": null,
      "outputs": [
        {
          "output_type": "display_data",
          "data": {
            "image/png": "[encoded data removed]",
            "text/plain": [
              "<Figure size 720x216 with 2 Axes>"
            ]
          },
          "metadata": {
            "tags": [],
            "needs_background": "light"
          }
        }
      ]
    },
    {
      "cell_type": "markdown",
      "metadata": {
        "id": "FDBSMsTVXGl5"
      },
      "source": [
        "## **Video Processing**"
      ]
    },
    {
      "cell_type": "code",
      "metadata": {
        "id": "LSX_FJaZP-_B"
      },
      "source": [
        "from IPython.display import display\n",
        "from PIL import Image\n",
        "!pip install scikit-video -q\n",
        "from skvideo.io import FFmpegWriter as VideoWriter\n",
        "!pip install moviepy -q\n",
        "import moviepy.editor as mpe"
      ],
      "execution_count": null,
      "outputs": []
    },
    {
      "cell_type": "code",
      "metadata": {
        "id": "8MHcN79vrpC7"
      },
      "source": [
        "def read_rttm(path):\n",
        "        '''\n",
        "        Read RTTM Diarization file\n",
        "        '''\n",
        "        rttm_out = [] # returns list of list containing start frame, end frame, spkid\n",
        "        with open(path, \"r\") as f:\n",
        "            for line in f:\n",
        "                entry = line[:-2].split()\n",
        "                indexes = [0, 1, 2, 5, 6, 8, 9]\n",
        "                for index in sorted(indexes, reverse=True):\n",
        "                    del entry[index]\n",
        "\n",
        "                entry[0] = int(float(entry[0])*16000) # Start frame\n",
        "                entry[1] = entry[0] + int(float(entry[1])*16000) # End frame\n",
        "                entry[2] = int(entry[2][-1:]) # Label\n",
        "                rttm_out.append(entry)\n",
        "                \n",
        "            # Sort rttm list according to start frame\n",
        "            rttm_out.sort(key = lambda x: x[0])\n",
        "\n",
        "        return np.array(rttm_out)\n",
        "\n",
        "def combine_audio(vidname, audname, outname, fps=25):\n",
        "    my_clip = mpe.VideoFileClip(vidname)\n",
        "    audio_background = mpe.AudioFileClip(audname)\n",
        "    final_clip = my_clip.set_audio(audio_background)\n",
        "    final_clip.write_videofile(outname,fps=fps)"
      ],
      "execution_count": null,
      "outputs": []
    },
    {
      "cell_type": "code",
      "metadata": {
        "id": "iw3rUEFUlQr6"
      },
      "source": [
        "orig_video_dir = 'debate.mp4'\n",
        "cap = cv2.VideoCapture(orig_video_dir)\n",
        "n_frames = int(cap.get(cv2.CAP_PROP_FRAME_COUNT))\n",
        "W = int(cap.get(cv2.CAP_PROP_FRAME_WIDTH)) \n",
        "H = int(cap.get(cv2.CAP_PROP_FRAME_HEIGHT))\n",
        "fps = cap.get(cv2.CAP_PROP_FPS)"
      ],
      "execution_count": null,
      "outputs": []
    },
    {
      "cell_type": "code",
      "metadata": {
        "id": "BgU3c6t0vdjS"
      },
      "source": [
        "hypothesis_labels = read_rttm('./rttm_output/debate.rttm')\n",
        "hypothesis_labels[:,0] = hypothesis_labels[:,0]*fps/16000 # start time in frames\n",
        "hypothesis_labels[:,1] = hypothesis_labels[:,1]*fps/16000 # end time in frames\n",
        "spk_dict = {\n",
        "    0: \"00\",\n",
        "    1: \"01\",\n",
        "    2: \"02\"\n",
        "}"
      ],
      "execution_count": null,
      "outputs": []
    },
    {
      "cell_type": "code",
      "metadata": {
        "id": "GDfc7OGibn2X"
      },
      "source": [
        "# Create video writer\n",
        "out = VideoWriter('./debate_annotated.mp4', inputdict={'-r': str(fps)}, outputdict={'-r': str(fps)})\n",
        "\n",
        "if not cap.isOpened(): # check if video file is opened\n",
        "    cap.open()\n",
        "frame_count = 0\n",
        "curr_idx_hypo_array = 0\n",
        "currspk = \"Speaker: None\"\n",
        "while True:\n",
        "  ret, frame = cap.read()\n",
        "  frame_count = frame_count + 1\n",
        "  if ret == False:\n",
        "    break\n",
        "  \n",
        "  # font\n",
        "  font = cv2.FONT_HERSHEY_TRIPLEX \n",
        "  # org\n",
        "  org = (W//12 , H*3//4)\n",
        "  # fontScale\n",
        "  fontScale = 1\n",
        "  # WHITE color in BGR\n",
        "  color = (255, 255, 255)\n",
        "  # Line thickness of 2 px\n",
        "  thickness = 2\n",
        "  \n",
        "  # Get current speaker from hypothesis_labels array\n",
        "  if hypothesis_labels[curr_idx_hypo_array, 0] > frame_count:\n",
        "    currspk = \"Speaker: None\"\n",
        "  elif hypothesis_labels[curr_idx_hypo_array, 0] <= frame_count and\\\n",
        "    hypothesis_labels[curr_idx_hypo_array, 1] >= frame_count:\n",
        "    currspk = \"Speaker: \" + spk_dict[hypothesis_labels[curr_idx_hypo_array, 2]]\n",
        "  else:\n",
        "    curr_idx_hypo_array = min(curr_idx_hypo_array + 1, len(hypothesis_labels) - 1)\n",
        "    currspk = \"Speaker: None\"\n",
        "\n",
        "  # Using cv2.putText() method\n",
        "  frame_annotated = cv2.putText(frame, currspk, org, font, \n",
        "                    fontScale, [0,0,0], 2*thickness, cv2.LINE_AA) # Give black outline to text\n",
        "  frame_annotated = cv2.putText(frame, currspk, org, font, \n",
        "                    fontScale, color, thickness, cv2.LINE_AA)\n",
        "  frame_annotated = cv2.cvtColor(frame_annotated, cv2.COLOR_BGR2RGB)\n",
        "  out.writeFrame(frame_annotated)\n",
        "cap.release()\n",
        "out.close()\n",
        "cv2.destroyAllWindows()"
      ],
      "execution_count": null,
      "outputs": []
    },
    {
      "cell_type": "code",
      "metadata": {
        "colab": {
          "base_uri": "https://localhost:8080/"
        },
        "id": "do0OoaxN5ofW",
        "outputId": "dc372536-7dcb-4a4d-ca89-f15ddc3b32fb"
      },
      "source": [
        "combine_audio('./debate_annotated.mp4', './audio/debate.wav', './debate_DER_output.mp4',fps = fps)"
      ],
      "execution_count": null,
      "outputs": [
        {
          "output_type": "stream",
          "text": [
            "[MoviePy] >>>> Building video ./debate_DER_output.mp4\n",
            "[MoviePy] Writing audio in debate_DER_outputTEMP_MPY_wvf_snd.mp3\n"
          ],
          "name": "stdout"
        },
        {
          "output_type": "stream",
          "text": [
            "100%|██████████| 7139/7139 [00:07<00:00, 944.09it/s]"
          ],
          "name": "stderr"
        },
        {
          "output_type": "stream",
          "text": [
            "[MoviePy] Done.\n",
            "[MoviePy] Writing video ./debate_DER_output.mp4\n"
          ],
          "name": "stdout"
        },
        {
          "output_type": "stream",
          "text": [
            "\n",
            "100%|█████████▉| 8090/8091 [01:01<00:00, 130.88it/s]\n"
          ],
          "name": "stderr"
        },
        {
          "output_type": "stream",
          "text": [
            "[MoviePy] Done.\n",
            "[MoviePy] >>>> Video ready: ./debate_DER_output.mp4 \n",
            "\n"
          ],
          "name": "stdout"
        }
      ]
    },
    {
      "cell_type": "code",
      "metadata": {
        "colab": {
          "base_uri": "https://localhost:8080/"
        },
        "id": "dsJLsrQmycyq",
        "outputId": "730c7da0-f895-49d2-de6f-4faa23bff15b"
      },
      "source": [
        "from google.colab import files\n",
        "files.download('debate_DER_output.mp4') "
      ],
      "execution_count": null,
      "outputs": [
        {
          "output_type": "display_data",
          "data": {
            "application/javascript": [
              "\n",
              "    async function download(id, filename, size) {\n",
              "      if (!google.colab.kernel.accessAllowed) {\n",
              "        return;\n",
              "      }\n",
              "      const div = document.createElement('div');\n",
              "      const label = document.createElement('label');\n",
              "      label.textContent = `Downloading \"${filename}\": `;\n",
              "      div.appendChild(label);\n",
              "      const progress = document.createElement('progress');\n",
              "      progress.max = size;\n",
              "      div.appendChild(progress);\n",
              "      document.body.appendChild(div);\n",
              "\n",
              "      const buffers = [];\n",
              "      let downloaded = 0;\n",
              "\n",
              "      const channel = await google.colab.kernel.comms.open(id);\n",
              "      // Send a message to notify the kernel that we're ready.\n",
              "      channel.send({})\n",
              "\n",
              "      for await (const message of channel.messages) {\n",
              "        // Send a message to notify the kernel that we're ready.\n",
              "        channel.send({})\n",
              "        if (message.buffers) {\n",
              "          for (const buffer of message.buffers) {\n",
              "            buffers.push(buffer);\n",
              "            downloaded += buffer.byteLength;\n",
              "            progress.value = downloaded;\n",
              "          }\n",
              "        }\n",
              "      }\n",
              "      const blob = new Blob(buffers, {type: 'application/binary'});\n",
              "      const a = document.createElement('a');\n",
              "      a.href = window.URL.createObjectURL(blob);\n",
              "      a.download = filename;\n",
              "      div.appendChild(a);\n",
              "      a.click();\n",
              "      div.remove();\n",
              "    }\n",
              "  "
            ],
            "text/plain": [
              "<IPython.core.display.Javascript object>"
            ]
          },
          "metadata": {
            "tags": []
          }
        },
        {
          "output_type": "display_data",
          "data": {
            "application/javascript": [
              "download(\"download_69e4f1c4-fa07-4da0-9da1-ad0fc50656fa\", \"debate_DER_output.mp4\", 15294954)"
            ],
            "text/plain": [
              "<IPython.core.display.Javascript object>"
            ]
          },
          "metadata": {
            "tags": []
          }
        }
      ]
    },
    {
      "cell_type": "markdown",
      "metadata": {
        "id": "OGIXBO2vZJRa"
      },
      "source": [
        "# **DEMO ON RANDOM PRESENTATION**"
      ]
    },
    {
      "cell_type": "markdown",
      "metadata": {
        "id": "qzm0farZgJHh"
      },
      "source": [
        "## **IMPORT FILES**"
      ]
    },
    {
      "cell_type": "code",
      "metadata": {
        "colab": {
          "base_uri": "https://localhost:8080/"
        },
        "id": "70NqKWj7f0cs",
        "outputId": "9f7e4b55-031c-401f-c566-61b414db3e4c"
      },
      "source": [
        "# Demo presentation video\n",
        "!gdown --id 1JjrVmehlEVGqWaBxjcWgsSo8LLVVnsfx \n",
        "\n",
        "# Demo presentation audio\n",
        "!gdown --id 1lmpa7obLUjxCdlepM4grXLM6KQzYnibe\n",
        "\n",
        "# Demo presentation rttm\n",
        "!gdown --id 1DI91jSTh8lWBu8ffhad6B6BhiVmwyWto"
      ],
      "execution_count": 5,
      "outputs": [
        {
          "output_type": "stream",
          "text": [
            "Downloading...\n",
            "From: https://drive.google.com/uc?id=1JjrVmehlEVGqWaBxjcWgsSo8LLVVnsfx\n",
            "To: /content/presentation.mp4\n",
            "22.6MB [00:00, 138MB/s] \n",
            "Downloading...\n",
            "From: https://drive.google.com/uc?id=1lmpa7obLUjxCdlepM4grXLM6KQzYnibe\n",
            "To: /content/presentation.wav\n",
            "27.1MB [00:00, 65.1MB/s]\n",
            "Downloading...\n",
            "From: https://drive.google.com/uc?id=1DI91jSTh8lWBu8ffhad6B6BhiVmwyWto\n",
            "To: /content/presentation.rttm\n",
            "100% 69.0/69.0 [00:00<00:00, 126kB/s]\n"
          ],
          "name": "stdout"
        }
      ]
    },
    {
      "cell_type": "code",
      "metadata": {
        "id": "zypsPrLvgHe-",
        "colab": {
          "base_uri": "https://localhost:8080/"
        },
        "outputId": "2522d2f3-df1e-4e8e-e3ae-243bb77411ae"
      },
      "source": [
        "!mkdir audio_pres\n",
        "!mkdir label_pres\n",
        "shutil.move('./presentation.wav','./audio_pres/presentation.wav')\n",
        "shutil.move('./presentation.rttm','./label_pres/presentation.rttm')\n",
        "print(\"Files loaded for demo\")"
      ],
      "execution_count": 6,
      "outputs": [
        {
          "output_type": "stream",
          "text": [
            "Files loaded for demo\n"
          ],
          "name": "stdout"
        }
      ]
    },
    {
      "cell_type": "code",
      "metadata": {
        "colab": {
          "base_uri": "https://localhost:8080/"
        },
        "id": "XP2KNypzgTuP",
        "outputId": "29dd6371-6d1e-4c2f-a395-c77a9a5a0f9f"
      },
      "source": [
        "if torch.cuda.is_available() == True:\n",
        "  print(\"GPU:\",torch.cuda.get_device_name(0))\n",
        "else:\n",
        "  print('CPU')"
      ],
      "execution_count": 7,
      "outputs": [
        {
          "output_type": "stream",
          "text": [
            "GPU: Tesla P100-PCIE-16GB\n"
          ],
          "name": "stdout"
        }
      ]
    },
    {
      "cell_type": "markdown",
      "metadata": {
        "id": "3VZa7jVKgURq"
      },
      "source": [
        "## **RUN DIARIZATION**"
      ]
    },
    {
      "cell_type": "code",
      "metadata": {
        "colab": {
          "base_uri": "https://localhost:8080/",
          "height": 296,
          "referenced_widgets": [
            "1c405e0193e147a9ba6759f04a8219a9",
            "7d748bb8d8ec4c4496eb43633a9bd903",
            "30dc4d85525f4ce08e803ff7dfb02d04",
            "73bac82ec843448aa72e4ff2c9f05a04",
            "48347c0972ad4bf8b3cf907d374d54be",
            "351cb131aa144ccebebbb0716de973e7",
            "ac6ae6a92f4f4499953cb84f296baa4a",
            "32330bd50fe14508a4bb44d3de3bc647",
            "1d54f0bc3f494155a90075a03899ced0",
            "5ec25307bbb642dba9b0047d7fe09fe1",
            "2590e5e9178d4e12a42f982c30732e9b",
            "5c3eb4dd9237457494207f1bcda75f4d",
            "1c91f42a47da4fb5ab19169ebb0cc313",
            "b5091072d96947bcb4ff77d58e62afef",
            "dc730fc8ee164d1abd284d5acabcc148",
            "f69c6a1cf9c84668854841f58aaa6ff7",
            "acbabae35ba744c3a922a0a21d13d717",
            "f9b200a5af0940d1a63471705951f9b2",
            "27fb92b4c69646b1aec7e15d604aed0d",
            "5b5182c0e36b46b29000eca930ca96c2",
            "bb1a9231ec754fe2a3e1aaf5a1243626",
            "9dc7c9680b144ab981a44457e43c565c",
            "50607f7fef374f3090b1313cf6ca39a6",
            "60c2d892ebef4e0080f339385fce50bd",
            "c7bdead6a0e444f2b773330e11460993",
            "a1984e24279349749ee873a4a559ac2f",
            "478023c2c95047cb8b2eb501c5ff49a4",
            "dbf019eed34140f4922c0be8927a8fd9",
            "9e15ab34a81d40218d1755a9de391677",
            "0dca11924fb34c6c920d1ea29b7c154b",
            "c5c91ddcd810421baa25bd5ed00b08c8",
            "89137126312442e5b0e0a34ebba9dcf5",
            "f4113422c3494074aab7270c34f0840b",
            "44aefeefd933426ca127fd66367ec2c6",
            "43b98f2492cb4f95a97e623fbebecb0d",
            "769600343e734220a6160e2d10d12bd0",
            "3d1976cf7c71495a82790f37ce232a78",
            "703ed3d7d12a44e5b3a33517e85e5f6f",
            "856dee9a1a1747cf9517e21435a97de4",
            "1b8eee1b9ae44c5bb1ee6b2b6fbd75ed"
          ]
        },
        "id": "mk_9nRx3gW-J",
        "outputId": "fd00f6f6-cadd-4047-d981-bc769531c0f1"
      },
      "source": [
        "audio_dataset = DiarizationDataSet(root_dir='./audio_pres/',\n",
        "                                   label_dir = './label_pres/',\n",
        "                                   sr = 16000, window_len = 1500, \n",
        "                                   window_step = 750,\n",
        "                                   transform = None,\n",
        "                                   batch_size_for_ecapa=512)\n",
        "print(\"Number of audio files:\",len(audio_dataset))"
      ],
      "execution_count": 8,
      "outputs": [
        {
          "output_type": "display_data",
          "data": {
            "application/vnd.jupyter.widget-view+json": {
              "model_id": "1c405e0193e147a9ba6759f04a8219a9",
              "version_minor": 0,
              "version_major": 2
            },
            "text/plain": [
              "HBox(children=(FloatProgress(value=0.0, description='Downloading', max=1920.0, style=ProgressStyle(description…"
            ]
          },
          "metadata": {
            "tags": []
          }
        },
        {
          "output_type": "stream",
          "text": [
            "\n"
          ],
          "name": "stdout"
        },
        {
          "output_type": "display_data",
          "data": {
            "application/vnd.jupyter.widget-view+json": {
              "model_id": "1d54f0bc3f494155a90075a03899ced0",
              "version_minor": 0,
              "version_major": 2
            },
            "text/plain": [
              "HBox(children=(FloatProgress(value=0.0, description='Downloading', max=83316686.0, style=ProgressStyle(descrip…"
            ]
          },
          "metadata": {
            "tags": []
          }
        },
        {
          "output_type": "stream",
          "text": [
            "\n"
          ],
          "name": "stdout"
        },
        {
          "output_type": "display_data",
          "data": {
            "application/vnd.jupyter.widget-view+json": {
              "model_id": "acbabae35ba744c3a922a0a21d13d717",
              "version_minor": 0,
              "version_major": 2
            },
            "text/plain": [
              "HBox(children=(FloatProgress(value=0.0, description='Downloading', max=1921.0, style=ProgressStyle(description…"
            ]
          },
          "metadata": {
            "tags": []
          }
        },
        {
          "output_type": "stream",
          "text": [
            "\n"
          ],
          "name": "stdout"
        },
        {
          "output_type": "display_data",
          "data": {
            "application/vnd.jupyter.widget-view+json": {
              "model_id": "c7bdead6a0e444f2b773330e11460993",
              "version_minor": 0,
              "version_major": 2
            },
            "text/plain": [
              "HBox(children=(FloatProgress(value=0.0, description='Downloading', max=5534328.0, style=ProgressStyle(descript…"
            ]
          },
          "metadata": {
            "tags": []
          }
        },
        {
          "output_type": "stream",
          "text": [
            "\n"
          ],
          "name": "stdout"
        },
        {
          "output_type": "display_data",
          "data": {
            "application/vnd.jupyter.widget-view+json": {
              "model_id": "f4113422c3494074aab7270c34f0840b",
              "version_minor": 0,
              "version_major": 2
            },
            "text/plain": [
              "HBox(children=(FloatProgress(value=0.0, description='Downloading', max=128619.0, style=ProgressStyle(descripti…"
            ]
          },
          "metadata": {
            "tags": []
          }
        },
        {
          "output_type": "stream",
          "text": [
            "\n"
          ],
          "name": "stdout"
        },
        {
          "output_type": "stream",
          "text": [
            "Downloading: \"https://github.com/snakers4/silero-vad/archive/master.zip\" to /root/.cache/torch/hub/master.zip\n"
          ],
          "name": "stderr"
        },
        {
          "output_type": "stream",
          "text": [
            "Number of audio files: 1\n"
          ],
          "name": "stdout"
        }
      ]
    },
    {
      "cell_type": "code",
      "metadata": {
        "colab": {
          "base_uri": "https://localhost:8080/",
          "height": 117,
          "referenced_widgets": [
            "7dfc4f0cd27740f9a548d938f6a5b7b9",
            "8d397c1582334d4dad98c5cee49360d7",
            "4d6393fa48c34656b0dc452763e5933d",
            "b56eb79e6fa14b74b5cf89528dfd2705",
            "48626d69bdd643ba888876e7bae0d966",
            "8b858f1b28504da2a3f13ce3de5bb852",
            "54c8557c67304d4eb8beab77a397c830",
            "51deb32256fe45289794f2443a9fd31f"
          ]
        },
        "id": "SfhUrR5tgeOX",
        "outputId": "aff15cc5-2162-4bf4-acc0-8d98547a83c3"
      },
      "source": [
        "hypothesis_dir = diarizationDEC(audio_dataset)"
      ],
      "execution_count": 9,
      "outputs": [
        {
          "output_type": "display_data",
          "data": {
            "application/vnd.jupyter.widget-view+json": {
              "model_id": "7dfc4f0cd27740f9a548d938f6a5b7b9",
              "version_minor": 0,
              "version_major": 2
            },
            "text/plain": [
              "HBox(children=(FloatProgress(value=0.0, max=1.0), HTML(value='')))"
            ]
          },
          "metadata": {
            "tags": []
          }
        },
        {
          "output_type": "stream",
          "text": [
            "Downloading pre-trained weights for auto encoder...\n",
            "Downloading Complete!\n",
            "\n",
            "\n"
          ],
          "name": "stdout"
        }
      ]
    },
    {
      "cell_type": "code",
      "metadata": {
        "id": "PSpsz8NGgeu8",
        "colab": {
          "base_uri": "https://localhost:8080/"
        },
        "outputId": "4cc27751-f7c5-44a8-dc50-35f3357f4153"
      },
      "source": [
        "metric = DiarizationErrorRate()\n",
        "filename = 'presentation.rttm'\n",
        "groundtruth = load_rttm('./label_pres/presentation.rttm')['presentation']\n",
        "hypothesis = load_rttm('./rttm_output/presentation.rttm')['presentation']\n",
        "metric(groundtruth, hypothesis)\n",
        "print(metric)"
      ],
      "execution_count": 10,
      "outputs": [
        {
          "output_type": "stream",
          "text": [
            "             diarization error rate  total correct correct false alarm false alarm missed detection missed detection confusion confusion\n",
            "                                  %                      %                       %                                 %                   %\n",
            "item                                                                                                                                    \n",
            "presentation                  72.64 143.00   40.50   28.32        1.38        0.96            11.62             8.13     90.88     63.55\n",
            "TOTAL                         72.64 143.00   40.50   28.32        1.38        0.96            11.62             8.13     90.88     63.55\n"
          ],
          "name": "stdout"
        }
      ]
    },
    {
      "cell_type": "code",
      "metadata": {
        "id": "c18Xpdg0giEa",
        "colab": {
          "base_uri": "https://localhost:8080/",
          "height": 225
        },
        "outputId": "1319395c-7c34-45d7-cc03-eb37d8dc42f7"
      },
      "source": [
        "notebook.width = 10\n",
        "plt.rcParams['figure.figsize'] = (notebook.width, 3)\n",
        "\n",
        "notebook.crop = Segment(0, 224)\n",
        "# plot reference\n",
        "plt.subplot(211)\n",
        "notebook.plot_annotation(groundtruth, legend=True, time=False)\n",
        "plt.gca().text(0.6, 0.15, 'groundtruth', fontsize=16)\n",
        "\n",
        "# plot hypothesis   \n",
        "plt.subplot(212)\n",
        "mapping = metric.optimal_mapping(groundtruth, hypothesis)\n",
        "notebook.plot_annotation(hypothesis.rename_labels(mapping = mapping), legend=True, time=True)\n",
        "plt.gca().text(0.6, 0.15, 'hypothesis', fontsize=16)\n",
        "\n",
        "plt.tight_layout()\n",
        "\n",
        "plt.show()"
      ],
      "execution_count": 11,
      "outputs": [
        {
          "output_type": "display_data",
          "data": {
            "image/png": "[encoded data removed]",
            "text/plain": [
              "<Figure size 720x216 with 2 Axes>"
            ]
          },
          "metadata": {
            "tags": [],
            "needs_background": "light"
          }
        }
      ]
    },
    {
      "cell_type": "markdown",
      "metadata": {
        "id": "mrFpYtzsubZX"
      },
      "source": [
        "## **VIDEO PROCESSING**"
      ]
    },
    {
      "cell_type": "code",
      "metadata": {
        "id": "wmn0tGktuddW",
        "colab": {
          "base_uri": "https://localhost:8080/"
        },
        "outputId": "c9dc4b7a-3827-4875-df11-00a46c37b993"
      },
      "source": [
        "from IPython.display import display\n",
        "from PIL import Image\n",
        "!pip install scikit-video -q\n",
        "from skvideo.io import FFmpegWriter as VideoWriter\n",
        "!pip install moviepy -q\n",
        "import moviepy.editor as mpe"
      ],
      "execution_count": 12,
      "outputs": [
        {
          "output_type": "stream",
          "text": [
            "\u001b[K     |████████████████████████████████| 2.3MB 8.2MB/s \n",
            "\u001b[?25hImageio: 'ffmpeg-linux64-v3.3.1' was not found on your computer; downloading it now.\n",
            "Try 1. Download from https://github.com/imageio/imageio-binaries/raw/master/ffmpeg/ffmpeg-linux64-v3.3.1 (43.8 MB)\n",
            "Downloading: 8192/45929032 bytes (0.0%)\b\b\b\b\b\b\b\b\b\b\b\b\b\b\b\b\b\b\b\b\b\b\b\b\b\b2916352/45929032 bytes (6.3%)\b\b\b\b\b\b\b\b\b\b\b\b\b\b\b\b\b\b\b\b\b\b\b\b\b\b\b\b\b5890048/45929032 bytes (12.8%)\b\b\b\b\b\b\b\b\b\b\b\b\b\b\b\b\b\b\b\b\b\b\b\b\b\b\b\b\b\b9469952/45929032 bytes (20.6%)\b\b\b\b\b\b\b\b\b\b\b\b\b\b\b\b\b\b\b\b\b\b\b\b\b\b\b\b\b\b13139968/45929032 bytes (28.6%)\b\b\b\b\b\b\b\b\b\b\b\b\b\b\b\b\b\b\b\b\b\b\b\b\b\b\b\b\b\b\b16637952/45929032 bytes (36.2%)\b\b\b\b\b\b\b\b\b\b\b\b\b\b\b\b\b\b\b\b\b\b\b\b\b\b\b\b\b\b\b20299776/45929032 bytes (44.2%)\b\b\b\b\b\b\b\b\b\b\b\b\b\b\b\b\b\b\b\b\b\b\b\b\b\b\b\b\b\b\b23912448/45929032 bytes (52.1%)\b\b\b\b\b\b\b\b\b\b\b\b\b\b\b\b\b\b\b\b\b\b\b\b\b\b\b\b\b\b\b27500544/45929032 bytes (59.9%)\b\b\b\b\b\b\b\b\b\b\b\b\b\b\b\b\b\b\b\b\b\b\b\b\b\b\b\b\b\b\b31113216/45929032 bytes (67.7%)\b\b\b\b\b\b\b\b\b\b\b\b\b\b\b\b\b\b\b\b\b\b\b\b\b\b\b\b\b\b\b34570240/45929032 bytes (75.3%)\b\b\b\b\b\b\b\b\b\b\b\b\b\b\b\b\b\b\b\b\b\b\b\b\b\b\b\b\b\b\b37683200/45929032 bytes (82.0%)\b\b\b\b\b\b\b\b\b\b\b\b\b\b\b\b\b\b\b\b\b\b\b\b\b\b\b\b\b\b\b39968768/45929032 bytes (87.0%)\b\b\b\b\b\b\b\b\b\b\b\b\b\b\b\b\b\b\b\b\b\b\b\b\b\b\b\b\b\b\b43384832/45929032 bytes (94.5%)\b\b\b\b\b\b\b\b\b\b\b\b\b\b\b\b\b\b\b\b\b\b\b\b\b\b\b\b\b\b\b45929032/45929032 bytes (100.0%)\n",
            "  Done\n",
            "File saved as /root/.imageio/ffmpeg/ffmpeg-linux64-v3.3.1.\n"
          ],
          "name": "stdout"
        }
      ]
    },
    {
      "cell_type": "code",
      "metadata": {
        "id": "MR2-uBq0uhuy"
      },
      "source": [
        "def read_rttm(path):\n",
        "        '''\n",
        "        Read RTTM Diarization file\n",
        "        '''\n",
        "        rttm_out = [] # returns list of list containing start frame, end frame, spkid\n",
        "        with open(path, \"r\") as f:\n",
        "            for line in f:\n",
        "                entry = line[:-2].split()\n",
        "                indexes = [0, 1, 2, 5, 6, 8, 9]\n",
        "                for index in sorted(indexes, reverse=True):\n",
        "                    del entry[index]\n",
        "\n",
        "                entry[0] = int(float(entry[0])*16000) # Start frame\n",
        "                entry[1] = entry[0] + int(float(entry[1])*16000) # End frame\n",
        "                entry[2] = int(entry[2][-1:]) # Label\n",
        "                rttm_out.append(entry)\n",
        "                \n",
        "            # Sort rttm list according to start frame\n",
        "            rttm_out.sort(key = lambda x: x[0])\n",
        "\n",
        "        return np.array(rttm_out)\n",
        "\n",
        "def combine_audio(vidname, audname, outname, fps=25):\n",
        "    my_clip = mpe.VideoFileClip(vidname)\n",
        "    audio_background = mpe.AudioFileClip(audname)\n",
        "    final_clip = my_clip.set_audio(audio_background)\n",
        "    final_clip.write_videofile(outname,fps=fps)"
      ],
      "execution_count": 13,
      "outputs": []
    },
    {
      "cell_type": "code",
      "metadata": {
        "id": "6tEpborqx2eR"
      },
      "source": [
        "orig_video_dir = 'presentation.mp4'\n",
        "cap = cv2.VideoCapture(orig_video_dir)\n",
        "n_frames = int(cap.get(cv2.CAP_PROP_FRAME_COUNT))\n",
        "W = int(cap.get(cv2.CAP_PROP_FRAME_WIDTH)) \n",
        "H = int(cap.get(cv2.CAP_PROP_FRAME_HEIGHT))\n",
        "fps = cap.get(cv2.CAP_PROP_FPS)"
      ],
      "execution_count": 14,
      "outputs": []
    },
    {
      "cell_type": "code",
      "metadata": {
        "id": "GcpjAl64zM3O"
      },
      "source": [
        "hypothesis_labels = read_rttm('./rttm_output/presentation.rttm')\n",
        "hypothesis_labels[:,0] = hypothesis_labels[:,0]*fps/16000 # start time in frames\n",
        "hypothesis_labels[:,1] = hypothesis_labels[:,1]*fps/16000 # end time in frames\n",
        "spk_dict = {\n",
        "    0: \"00\",\n",
        "    1: \"01\",\n",
        "    2: \"02\",\n",
        "    3: \"03\",\n",
        "    4: \"04\",\n",
        "    5: \"05\",\n",
        "    6: \"06\"\n",
        "}"
      ],
      "execution_count": 15,
      "outputs": []
    },
    {
      "cell_type": "code",
      "metadata": {
        "id": "ctTlPp7PzjJn"
      },
      "source": [
        "# Create video writer\n",
        "out = VideoWriter('./presentation_annotated.mp4', inputdict={'-r': str(fps)}, outputdict={'-r': str(fps)})\n",
        "\n",
        "if not cap.isOpened(): # check if video file is opened\n",
        "    cap.open()\n",
        "frame_count = 0\n",
        "curr_idx_hypo_array = 0\n",
        "currspk = \"Speaker: None\"\n",
        "while True:\n",
        "  ret, frame = cap.read()\n",
        "  frame_count = frame_count + 1\n",
        "  if ret == False:\n",
        "    break\n",
        "  \n",
        "  # font\n",
        "  font = cv2.FONT_HERSHEY_TRIPLEX \n",
        "  # org\n",
        "  org = (W//12 , H*3//4)\n",
        "  # fontScale\n",
        "  fontScale = 1\n",
        "  # WHITE color in BGR\n",
        "  color = (255, 255, 255)\n",
        "  # Line thickness of 2 px\n",
        "  thickness = 2\n",
        "  \n",
        "  # Get current speaker from hypothesis_labels array\n",
        "  if hypothesis_labels[curr_idx_hypo_array, 0] > frame_count:\n",
        "    currspk = \"Speaker: None\"\n",
        "  elif hypothesis_labels[curr_idx_hypo_array, 0] <= frame_count and\\\n",
        "    hypothesis_labels[curr_idx_hypo_array, 1] >= frame_count:\n",
        "    currspk = \"Speaker: \" + spk_dict[hypothesis_labels[curr_idx_hypo_array, 2]]\n",
        "  else:\n",
        "    curr_idx_hypo_array = min(curr_idx_hypo_array + 1, len(hypothesis_labels) - 1)\n",
        "    currspk = \"Speaker: None\"\n",
        "\n",
        "  # Using cv2.putText() method\n",
        "  frame_annotated = cv2.putText(frame, currspk, org, font, \n",
        "                    fontScale, [0,0,0], 2*thickness, cv2.LINE_AA) # Give black outline to text\n",
        "  frame_annotated = cv2.putText(frame, currspk, org, font, \n",
        "                    fontScale, color, thickness, cv2.LINE_AA)\n",
        "  frame_annotated = cv2.cvtColor(frame_annotated, cv2.COLOR_BGR2RGB)\n",
        "  out.writeFrame(frame_annotated)\n",
        "cap.release()\n",
        "out.close()\n",
        "cv2.destroyAllWindows()"
      ],
      "execution_count": 16,
      "outputs": []
    },
    {
      "cell_type": "code",
      "metadata": {
        "colab": {
          "base_uri": "https://localhost:8080/"
        },
        "id": "G5YQl9TIzq4h",
        "outputId": "dbafd7b0-b5cb-47d8-83c1-cb4f6e9de1fb"
      },
      "source": [
        "combine_audio('./presentation_annotated.mp4', './audio_pres/presentation.wav', './presentation_DER_output.mp4',fps = fps)"
      ],
      "execution_count": 17,
      "outputs": [
        {
          "output_type": "stream",
          "text": [
            "[MoviePy] >>>> Building video ./presentation_DER_output.mp4\n",
            "[MoviePy] Writing audio in presentation_DER_outputTEMP_MPY_wvf_snd.mp3\n"
          ],
          "name": "stdout"
        },
        {
          "output_type": "stream",
          "text": [
            "100%|██████████| 3392/3392 [00:04<00:00, 691.39it/s]"
          ],
          "name": "stderr"
        },
        {
          "output_type": "stream",
          "text": [
            "[MoviePy] Done.\n",
            "[MoviePy] Writing video ./presentation_DER_output.mp4\n"
          ],
          "name": "stdout"
        },
        {
          "output_type": "stream",
          "text": [
            "\n",
            "100%|██████████| 4610/4610 [04:08<00:00, 18.59it/s]\n"
          ],
          "name": "stderr"
        },
        {
          "output_type": "stream",
          "text": [
            "[MoviePy] Done.\n",
            "[MoviePy] >>>> Video ready: ./presentation_DER_output.mp4 \n",
            "\n"
          ],
          "name": "stdout"
        }
      ]
    },
    {
      "cell_type": "code",
      "metadata": {
        "colab": {
          "base_uri": "https://localhost:8080/",
          "height": 17
        },
        "id": "mJ1iBImr0R7o",
        "outputId": "def659dd-161f-49a0-9ad7-772b3008b4b0"
      },
      "source": [
        "from google.colab import files\n",
        "files.download('presentation_DER_output.mp4') "
      ],
      "execution_count": 18,
      "outputs": [
        {
          "output_type": "display_data",
          "data": {
            "application/javascript": [
              "\n",
              "    async function download(id, filename, size) {\n",
              "      if (!google.colab.kernel.accessAllowed) {\n",
              "        return;\n",
              "      }\n",
              "      const div = document.createElement('div');\n",
              "      const label = document.createElement('label');\n",
              "      label.textContent = `Downloading \"${filename}\": `;\n",
              "      div.appendChild(label);\n",
              "      const progress = document.createElement('progress');\n",
              "      progress.max = size;\n",
              "      div.appendChild(progress);\n",
              "      document.body.appendChild(div);\n",
              "\n",
              "      const buffers = [];\n",
              "      let downloaded = 0;\n",
              "\n",
              "      const channel = await google.colab.kernel.comms.open(id);\n",
              "      // Send a message to notify the kernel that we're ready.\n",
              "      channel.send({})\n",
              "\n",
              "      for await (const message of channel.messages) {\n",
              "        // Send a message to notify the kernel that we're ready.\n",
              "        channel.send({})\n",
              "        if (message.buffers) {\n",
              "          for (const buffer of message.buffers) {\n",
              "            buffers.push(buffer);\n",
              "            downloaded += buffer.byteLength;\n",
              "            progress.value = downloaded;\n",
              "          }\n",
              "        }\n",
              "      }\n",
              "      const blob = new Blob(buffers, {type: 'application/binary'});\n",
              "      const a = document.createElement('a');\n",
              "      a.href = window.URL.createObjectURL(blob);\n",
              "      a.download = filename;\n",
              "      div.appendChild(a);\n",
              "      a.click();\n",
              "      div.remove();\n",
              "    }\n",
              "  "
            ],
            "text/plain": [
              "<IPython.core.display.Javascript object>"
            ]
          },
          "metadata": {
            "tags": []
          }
        },
        {
          "output_type": "display_data",
          "data": {
            "application/javascript": [
              "download(\"download_d9046fb6-03f9-4830-83ec-2bb27a9d7bac\", \"presentation_DER_output.mp4\", 18550211)"
            ],
            "text/plain": [
              "<IPython.core.display.Javascript object>"
            ]
          },
          "metadata": {
            "tags": []
          }
        }
      ]
    },
    {
      "cell_type": "markdown",
      "metadata": {
        "id": "I-uIIFzjEtqZ"
      },
      "source": [
        "# **DEMO ON MOVIE CLIP**"
      ]
    },
    {
      "cell_type": "markdown",
      "metadata": {
        "id": "Jfq1uBhTE0z7"
      },
      "source": [
        "## **IMPORT FILES**"
      ]
    },
    {
      "cell_type": "code",
      "metadata": {
        "colab": {
          "base_uri": "https://localhost:8080/"
        },
        "id": "hmqj54tgEs6s",
        "outputId": "5b62a590-1e5f-43c3-f68b-330a745719e0"
      },
      "source": [
        "# Demo movie video\n",
        "!gdown --id 1HhQmVx9E27upvyWvUlZJ7ZLEzsNa7hMC\n",
        "\n",
        "# Demo movie audio\n",
        "!gdown --id 1PvXgj1xENBszQ72PTKsD6We7oVJJDDAJ\n",
        "\n",
        "# Demo movie rttm\n",
        "!gdown --id 1hBCqCk0C3iMmwjjoztzLcJPCM6pDrVd-"
      ],
      "execution_count": 35,
      "outputs": [
        {
          "output_type": "stream",
          "text": [
            "Downloading...\n",
            "From: https://drive.google.com/uc?id=1HhQmVx9E27upvyWvUlZJ7ZLEzsNa7hMC\n",
            "To: /content/movie.mp4\n",
            "15.5MB [00:00, 72.0MB/s]\n",
            "Downloading...\n",
            "From: https://drive.google.com/uc?id=1PvXgj1xENBszQ72PTKsD6We7oVJJDDAJ\n",
            "To: /content/movie.wav\n",
            "49.3MB [00:00, 135MB/s] \n",
            "Downloading...\n",
            "From: https://drive.google.com/uc?id=1hBCqCk0C3iMmwjjoztzLcJPCM6pDrVd-\n",
            "To: /content/movie.rttm\n",
            "100% 62.0/62.0 [00:00<00:00, 91.7kB/s]\n"
          ],
          "name": "stdout"
        }
      ]
    },
    {
      "cell_type": "code",
      "metadata": {
        "colab": {
          "base_uri": "https://localhost:8080/"
        },
        "id": "eukLFGThHWQX",
        "outputId": "3fd9cf2e-f89a-4ee3-9f04-7324c595a0ee"
      },
      "source": [
        "!mkdir audio_movie\n",
        "!mkdir label_movie\n",
        "shutil.move('./movie.wav','./audio_movie/movie.wav')\n",
        "shutil.move('./movie.rttm','./label_movie/movie.rttm')\n",
        "print(\"Files loaded for demo\")"
      ],
      "execution_count": 36,
      "outputs": [
        {
          "output_type": "stream",
          "text": [
            "Files loaded for demo\n"
          ],
          "name": "stdout"
        }
      ]
    },
    {
      "cell_type": "code",
      "metadata": {
        "colab": {
          "base_uri": "https://localhost:8080/"
        },
        "id": "xZbAvrDsIIqF",
        "outputId": "c21dfc5a-04ec-43ca-b89a-95de520e5804"
      },
      "source": [
        "if torch.cuda.is_available() == True:\n",
        "  print(\"GPU:\",torch.cuda.get_device_name(0))\n",
        "else:\n",
        "  print('CPU')"
      ],
      "execution_count": 37,
      "outputs": [
        {
          "output_type": "stream",
          "text": [
            "GPU: Tesla K80\n"
          ],
          "name": "stdout"
        }
      ]
    },
    {
      "cell_type": "markdown",
      "metadata": {
        "id": "tVO2WtARILP9"
      },
      "source": [
        "## **Run Diarization**"
      ]
    },
    {
      "cell_type": "code",
      "metadata": {
        "colab": {
          "base_uri": "https://localhost:8080/"
        },
        "id": "f1acezsWIN83",
        "outputId": "780c860f-7974-4967-bd26-49f0fdb4785e"
      },
      "source": [
        "audio_dataset = DiarizationDataSet(root_dir='./audio_movie/',\n",
        "                                   label_dir = './label_movie/',\n",
        "                                   sr = 16000, window_len = 1500, \n",
        "                                   window_step = 750,\n",
        "                                   transform = None,\n",
        "                                   batch_size_for_ecapa=512)\n",
        "print(\"Number of audio files:\",len(audio_dataset))"
      ],
      "execution_count": 38,
      "outputs": [
        {
          "output_type": "stream",
          "text": [
            "Downloading: \"https://github.com/snakers4/silero-vad/archive/master.zip\" to /root/.cache/torch/hub/master.zip\n"
          ],
          "name": "stderr"
        },
        {
          "output_type": "stream",
          "text": [
            "Number of audio files: 1\n"
          ],
          "name": "stdout"
        }
      ]
    },
    {
      "cell_type": "code",
      "metadata": {
        "colab": {
          "base_uri": "https://localhost:8080/",
          "height": 66,
          "referenced_widgets": [
            "f05e619456e44bb1bb1b42c9a94e3261",
            "33df61528fd2482f8a70e7942067d0cf",
            "0849ce2d22594ca8963ce743ab5bd544",
            "db0a9dcd591144bca133cdf088ff9ddb",
            "1e0c07ed4edb4701b3323578b6bf9ba1",
            "3e55182729614acfa0d6c06561931398",
            "1eea577ecc174f32b84228a9b9e72f43",
            "12163c3baacc442b96c660c89ea62345"
          ]
        },
        "id": "Xoo8IIKpIYsX",
        "outputId": "c509ae85-f0e4-42b0-a06c-394087adc624"
      },
      "source": [
        "hypothesis_dir = diarizationDEC(audio_dataset)"
      ],
      "execution_count": 39,
      "outputs": [
        {
          "output_type": "display_data",
          "data": {
            "application/vnd.jupyter.widget-view+json": {
              "model_id": "f05e619456e44bb1bb1b42c9a94e3261",
              "version_minor": 0,
              "version_major": 2
            },
            "text/plain": [
              "HBox(children=(FloatProgress(value=0.0, max=1.0), HTML(value='')))"
            ]
          },
          "metadata": {
            "tags": []
          }
        },
        {
          "output_type": "stream",
          "text": [
            "\n"
          ],
          "name": "stdout"
        }
      ]
    },
    {
      "cell_type": "code",
      "metadata": {
        "colab": {
          "base_uri": "https://localhost:8080/"
        },
        "id": "t9U0QDzHIZOk",
        "outputId": "8b93b764-6dcc-4c08-b814-b00890d89637"
      },
      "source": [
        "metric = DiarizationErrorRate()\n",
        "filename = 'movie.rttm'\n",
        "groundtruth = load_rttm('./label_movie/movie.rttm')['movie']\n",
        "hypothesis = load_rttm('./rttm_output/movie.rttm')['movie']\n",
        "metric(groundtruth, hypothesis)\n",
        "print(metric)"
      ],
      "execution_count": 40,
      "outputs": [
        {
          "output_type": "stream",
          "text": [
            "      diarization error rate  total correct correct false alarm false alarm missed detection missed detection confusion confusion\n",
            "                           %                      %                       %                                 %                   %\n",
            "item                                                                                                                             \n",
            "movie                  65.05 279.00   97.50   34.95        0.00        0.00            67.50            24.19    114.00     40.86\n",
            "TOTAL                  65.05 279.00   97.50   34.95        0.00        0.00            67.50            24.19    114.00     40.86\n"
          ],
          "name": "stdout"
        }
      ]
    },
    {
      "cell_type": "code",
      "metadata": {
        "colab": {
          "base_uri": "https://localhost:8080/",
          "height": 225
        },
        "id": "OQOLosELJkUy",
        "outputId": "f0770e85-bf26-493a-b133-3b13eb9880aa"
      },
      "source": [
        "notebook.width = 10\n",
        "plt.rcParams['figure.figsize'] = (notebook.width, 3)\n",
        "\n",
        "notebook.crop = Segment(0, 224)\n",
        "# plot reference\n",
        "plt.subplot(211)\n",
        "notebook.plot_annotation(groundtruth, legend=True, time=False)\n",
        "plt.gca().text(0.6, 0.15, 'groundtruth', fontsize=16)\n",
        "\n",
        "# plot hypothesis   \n",
        "plt.subplot(212)\n",
        "mapping = metric.optimal_mapping(groundtruth, hypothesis)\n",
        "notebook.plot_annotation(hypothesis.rename_labels(mapping = mapping), legend=True, time=True)\n",
        "plt.gca().text(0.6, 0.15, 'hypothesis', fontsize=16)\n",
        "\n",
        "plt.tight_layout()\n",
        "\n",
        "plt.show()"
      ],
      "execution_count": 41,
      "outputs": [
        {
          "output_type": "display_data",
          "data": {
            "image/png": "[encoded data removed]",
            "text/plain": [
              "<Figure size 720x216 with 2 Axes>"
            ]
          },
          "metadata": {
            "tags": [],
            "needs_background": "light"
          }
        }
      ]
    },
    {
      "cell_type": "markdown",
      "metadata": {
        "id": "KEgXbIX3Jn_f"
      },
      "source": [
        "## **Video Processing**"
      ]
    },
    {
      "cell_type": "code",
      "metadata": {
        "id": "cgGaBlsOJs4c"
      },
      "source": [
        "from IPython.display import display\n",
        "from PIL import Image\n",
        "!pip install scikit-video -q\n",
        "from skvideo.io import FFmpegWriter as VideoWriter\n",
        "!pip install moviepy -q\n",
        "import moviepy.editor as mpe"
      ],
      "execution_count": 42,
      "outputs": []
    },
    {
      "cell_type": "code",
      "metadata": {
        "id": "ZgjeX2BmJvOg"
      },
      "source": [
        "def read_rttm(path):\n",
        "        '''\n",
        "        Read RTTM Diarization file\n",
        "        '''\n",
        "        rttm_out = [] # returns list of list containing start frame, end frame, spkid\n",
        "        with open(path, \"r\") as f:\n",
        "            for line in f:\n",
        "                entry = line[:-2].split()\n",
        "                indexes = [0, 1, 2, 5, 6, 8, 9]\n",
        "                for index in sorted(indexes, reverse=True):\n",
        "                    del entry[index]\n",
        "\n",
        "                entry[0] = int(float(entry[0])*16000) # Start frame\n",
        "                entry[1] = entry[0] + int(float(entry[1])*16000) # End frame\n",
        "                entry[2] = int(entry[2][-1:]) # Label\n",
        "                rttm_out.append(entry)\n",
        "                \n",
        "            # Sort rttm list according to start frame\n",
        "            rttm_out.sort(key = lambda x: x[0])\n",
        "\n",
        "        return np.array(rttm_out)\n",
        "\n",
        "def combine_audio(vidname, audname, outname, fps=25):\n",
        "    my_clip = mpe.VideoFileClip(vidname)\n",
        "    audio_background = mpe.AudioFileClip(audname)\n",
        "    final_clip = my_clip.set_audio(audio_background)\n",
        "    final_clip.write_videofile(outname,fps=fps)"
      ],
      "execution_count": 43,
      "outputs": []
    },
    {
      "cell_type": "code",
      "metadata": {
        "id": "QQYnS0hGJ2Fp"
      },
      "source": [
        "orig_video_dir = 'movie.mp4'\n",
        "cap = cv2.VideoCapture(orig_video_dir)\n",
        "n_frames = int(cap.get(cv2.CAP_PROP_FRAME_COUNT))\n",
        "W = int(cap.get(cv2.CAP_PROP_FRAME_WIDTH)) \n",
        "H = int(cap.get(cv2.CAP_PROP_FRAME_HEIGHT))\n",
        "fps = cap.get(cv2.CAP_PROP_FPS)"
      ],
      "execution_count": 59,
      "outputs": []
    },
    {
      "cell_type": "code",
      "metadata": {
        "id": "rmG2jOrrJ3xC"
      },
      "source": [
        "hypothesis_labels = read_rttm('./rttm_output/movie.rttm')\n",
        "hypothesis_labels[:,0] = hypothesis_labels[:,0]*fps/16000 # start time in frames\n",
        "hypothesis_labels[:,1] = hypothesis_labels[:,1]*fps/16000 # end time in frames\n",
        "spk_dict = {\n",
        "    0: \"00\",\n",
        "    1: \"01\",\n",
        "    2: \"02\",\n",
        "    3: \"03\",\n",
        "    4: \"04\",\n",
        "    5: \"05\",\n",
        "    6: \"06\",\n",
        "    7: \"07\",\n",
        "    8: \"08\",\n",
        "    9: \"09\",\n",
        "    10: \"10\"\n",
        "}"
      ],
      "execution_count": 55,
      "outputs": []
    },
    {
      "cell_type": "code",
      "metadata": {
        "id": "wi-ILVTKJ8ol"
      },
      "source": [
        "# Create video writer\n",
        "out = VideoWriter('./movie_annotated.mp4', inputdict={'-r': str(fps)}, outputdict={'-r': str(fps)})\n",
        "\n",
        "if not cap.isOpened(): # check if video file is opened\n",
        "    cap.open()\n",
        "frame_count = 0\n",
        "curr_idx_hypo_array = 0\n",
        "currspk = \"Speaker: None\"\n",
        "while True:\n",
        "  ret, frame = cap.read()\n",
        "  frame_count = frame_count + 1\n",
        "  if ret == False:\n",
        "    break\n",
        "  \n",
        "  # font\n",
        "  font = cv2.FONT_HERSHEY_TRIPLEX \n",
        "  # org\n",
        "  org = (W//12 , H*3//4)\n",
        "  # fontScale\n",
        "  fontScale = 1\n",
        "  # WHITE color in BGR\n",
        "  color = (255, 255, 255)\n",
        "  # Line thickness of 2 px\n",
        "  thickness = 2\n",
        "\n",
        "  # Get current speaker from hypothesis_labels array\n",
        "  if hypothesis_labels[curr_idx_hypo_array, 0] > max(0, frame_count - 25):\n",
        "    currspk = \"Speaker: None\"\n",
        "  elif hypothesis_labels[curr_idx_hypo_array, 0] <= max(0, frame_count - 25) and\\\n",
        "    hypothesis_labels[curr_idx_hypo_array, 1] >= max(0, frame_count - 25):\n",
        "    currspk = \"Speaker: \" + spk_dict[hypothesis_labels[curr_idx_hypo_array, 2]]\n",
        "  else:\n",
        "    curr_idx_hypo_array = min(curr_idx_hypo_array + 1, len(hypothesis_labels) - 1)\n",
        "    currspk = \"Speaker: None\"\n",
        "\n",
        "  # Using cv2.putText() method\n",
        "  frame_annotated = cv2.putText(frame, currspk, org, font, \n",
        "                    fontScale, [0,0,0], 2*thickness, cv2.LINE_AA) # Give black outline to text\n",
        "  frame_annotated = cv2.putText(frame, currspk, org, font, \n",
        "                    fontScale, color, thickness, cv2.LINE_AA)\n",
        "  frame_annotated = cv2.cvtColor(frame_annotated, cv2.COLOR_BGR2RGB)\n",
        "  out.writeFrame(frame_annotated)\n",
        "cap.release()\n",
        "out.close()\n",
        "cv2.destroyAllWindows()"
      ],
      "execution_count": 60,
      "outputs": []
    },
    {
      "cell_type": "code",
      "metadata": {
        "colab": {
          "base_uri": "https://localhost:8080/"
        },
        "id": "G4NHWROOKF04",
        "outputId": "9e15ac99-749a-457f-bd0f-55f49962e79e"
      },
      "source": [
        "combine_audio('./movie_annotated.mp4', './audio_movie/movie.wav', './movie_DER_output.mp4',fps = fps)"
      ],
      "execution_count": 61,
      "outputs": [
        {
          "output_type": "stream",
          "text": [
            "[MoviePy] >>>> Building video ./movie_DER_output.mp4\n",
            "[MoviePy] Writing audio in movie_DER_outputTEMP_MPY_wvf_snd.mp3\n"
          ],
          "name": "stdout"
        },
        {
          "output_type": "stream",
          "text": [
            "100%|██████████| 6158/6158 [00:06<00:00, 936.11it/s]"
          ],
          "name": "stderr"
        },
        {
          "output_type": "stream",
          "text": [
            "[MoviePy] Done.\n",
            "[MoviePy] Writing video ./movie_DER_output.mp4\n"
          ],
          "name": "stdout"
        },
        {
          "output_type": "stream",
          "text": [
            "\n",
            "100%|██████████| 6696/6696 [04:53<00:00, 22.79it/s]\n"
          ],
          "name": "stderr"
        },
        {
          "output_type": "stream",
          "text": [
            "[MoviePy] Done.\n",
            "[MoviePy] >>>> Video ready: ./movie_DER_output.mp4 \n",
            "\n"
          ],
          "name": "stdout"
        }
      ]
    },
    {
      "cell_type": "code",
      "metadata": {
        "colab": {
          "base_uri": "https://localhost:8080/",
          "height": 17
        },
        "id": "pZ0bAMa0KNnK",
        "outputId": "c40e7d4c-9c0f-4e1d-8880-628c685ea967"
      },
      "source": [
        "from google.colab import files\n",
        "files.download('movie_DER_output.mp4') "
      ],
      "execution_count": 62,
      "outputs": [
        {
          "output_type": "display_data",
          "data": {
            "application/javascript": [
              "\n",
              "    async function download(id, filename, size) {\n",
              "      if (!google.colab.kernel.accessAllowed) {\n",
              "        return;\n",
              "      }\n",
              "      const div = document.createElement('div');\n",
              "      const label = document.createElement('label');\n",
              "      label.textContent = `Downloading \"${filename}\": `;\n",
              "      div.appendChild(label);\n",
              "      const progress = document.createElement('progress');\n",
              "      progress.max = size;\n",
              "      div.appendChild(progress);\n",
              "      document.body.appendChild(div);\n",
              "\n",
              "      const buffers = [];\n",
              "      let downloaded = 0;\n",
              "\n",
              "      const channel = await google.colab.kernel.comms.open(id);\n",
              "      // Send a message to notify the kernel that we're ready.\n",
              "      channel.send({})\n",
              "\n",
              "      for await (const message of channel.messages) {\n",
              "        // Send a message to notify the kernel that we're ready.\n",
              "        channel.send({})\n",
              "        if (message.buffers) {\n",
              "          for (const buffer of message.buffers) {\n",
              "            buffers.push(buffer);\n",
              "            downloaded += buffer.byteLength;\n",
              "            progress.value = downloaded;\n",
              "          }\n",
              "        }\n",
              "      }\n",
              "      const blob = new Blob(buffers, {type: 'application/binary'});\n",
              "      const a = document.createElement('a');\n",
              "      a.href = window.URL.createObjectURL(blob);\n",
              "      a.download = filename;\n",
              "      div.appendChild(a);\n",
              "      a.click();\n",
              "      div.remove();\n",
              "    }\n",
              "  "
            ],
            "text/plain": [
              "<IPython.core.display.Javascript object>"
            ]
          },
          "metadata": {
            "tags": []
          }
        },
        {
          "output_type": "display_data",
          "data": {
            "application/javascript": [
              "download(\"download_909e720f-2297-4cd6-ade1-de916b50b9ee\", \"movie_DER_output.mp4\", 27782685)"
            ],
            "text/plain": [
              "<IPython.core.display.Javascript object>"
            ]
          },
          "metadata": {
            "tags": []
          }
        }
      ]
    }
  ]
}