{
  "nbformat": 4,
  "nbformat_minor": 0,
  "metadata": {
    "accelerator": "GPU",
    "colab": {
      "name": "LIVE-DEMO.ipynb",
      "provenance": [],
      "collapsed_sections": [
        "pGlRbfb6p_Ru",
        "Fkneghn9p3gu",
        "EH4ubS-iDMd8",
        "1acRQd-hyIEB",
        "mrFpYtzsubZX"
      ],
      "toc_visible": true,
      "include_colab_link": true
    },
    "kernelspec": {
      "display_name": "Python 3",
      "name": "python3"
    },
    "language_info": {
      "name": "python"
    },
    "widgets": {
      "application/vnd.jupyter.widget-state+json": {
        "4700f09e9bfd4322827b4ed9e7ba1cfb": {
          "model_module": "@jupyter-widgets/controls",
          "model_name": "HBoxModel",
          "state": {
            "_view_name": "HBoxView",
            "_dom_classes": [],
            "_model_name": "HBoxModel",
            "_view_module": "@jupyter-widgets/controls",
            "_model_module_version": "1.5.0",
            "_view_count": null,
            "_view_module_version": "1.5.0",
            "box_style": "",
            "layout": "IPY_MODEL_84fab95bcf1c4e56b0366e54921f09b6",
            "_model_module": "@jupyter-widgets/controls",
            "children": [
              "IPY_MODEL_50a027e739ae4edabe7df849169039a3",
              "IPY_MODEL_5896f0b80a0140c891a1362eff0fed5d"
            ]
          }
        },
        "84fab95bcf1c4e56b0366e54921f09b6": {
          "model_module": "@jupyter-widgets/base",
          "model_name": "LayoutModel",
          "state": {
            "_view_name": "LayoutView",
            "grid_template_rows": null,
            "right": null,
            "justify_content": null,
            "_view_module": "@jupyter-widgets/base",
            "overflow": null,
            "_model_module_version": "1.2.0",
            "_view_count": null,
            "flex_flow": null,
            "width": null,
            "min_width": null,
            "border": null,
            "align_items": null,
            "bottom": null,
            "_model_module": "@jupyter-widgets/base",
            "top": null,
            "grid_column": null,
            "overflow_y": null,
            "overflow_x": null,
            "grid_auto_flow": null,
            "grid_area": null,
            "grid_template_columns": null,
            "flex": null,
            "_model_name": "LayoutModel",
            "justify_items": null,
            "grid_row": null,
            "max_height": null,
            "align_content": null,
            "visibility": null,
            "align_self": null,
            "height": null,
            "min_height": null,
            "padding": null,
            "grid_auto_rows": null,
            "grid_gap": null,
            "max_width": null,
            "order": null,
            "_view_module_version": "1.2.0",
            "grid_template_areas": null,
            "object_position": null,
            "object_fit": null,
            "grid_auto_columns": null,
            "margin": null,
            "display": null,
            "left": null
          }
        },
        "50a027e739ae4edabe7df849169039a3": {
          "model_module": "@jupyter-widgets/controls",
          "model_name": "FloatProgressModel",
          "state": {
            "_view_name": "ProgressView",
            "style": "IPY_MODEL_ae97f7ace7e941f48baadfd3bb81658e",
            "_dom_classes": [],
            "description": "Downloading: 100%",
            "_model_name": "FloatProgressModel",
            "bar_style": "success",
            "max": 1920,
            "_view_module": "@jupyter-widgets/controls",
            "_model_module_version": "1.5.0",
            "value": 1920,
            "_view_count": null,
            "_view_module_version": "1.5.0",
            "orientation": "horizontal",
            "min": 0,
            "description_tooltip": null,
            "_model_module": "@jupyter-widgets/controls",
            "layout": "IPY_MODEL_d340af4993c6404db71df01a1cd429b9"
          }
        },
        "5896f0b80a0140c891a1362eff0fed5d": {
          "model_module": "@jupyter-widgets/controls",
          "model_name": "HTMLModel",
          "state": {
            "_view_name": "HTMLView",
            "style": "IPY_MODEL_ecf25bc4e93a48a1a2cecdb9f926607a",
            "_dom_classes": [],
            "description": "",
            "_model_name": "HTMLModel",
            "placeholder": "​",
            "_view_module": "@jupyter-widgets/controls",
            "_model_module_version": "1.5.0",
            "value": " 1.92k/1.92k [00:00&lt;00:00, 37.9kB/s]",
            "_view_count": null,
            "_view_module_version": "1.5.0",
            "description_tooltip": null,
            "_model_module": "@jupyter-widgets/controls",
            "layout": "IPY_MODEL_134a574180104cdda02897d9c5dd538a"
          }
        },
        "ae97f7ace7e941f48baadfd3bb81658e": {
          "model_module": "@jupyter-widgets/controls",
          "model_name": "ProgressStyleModel",
          "state": {
            "_view_name": "StyleView",
            "_model_name": "ProgressStyleModel",
            "description_width": "initial",
            "_view_module": "@jupyter-widgets/base",
            "_model_module_version": "1.5.0",
            "_view_count": null,
            "_view_module_version": "1.2.0",
            "bar_color": null,
            "_model_module": "@jupyter-widgets/controls"
          }
        },
        "d340af4993c6404db71df01a1cd429b9": {
          "model_module": "@jupyter-widgets/base",
          "model_name": "LayoutModel",
          "state": {
            "_view_name": "LayoutView",
            "grid_template_rows": null,
            "right": null,
            "justify_content": null,
            "_view_module": "@jupyter-widgets/base",
            "overflow": null,
            "_model_module_version": "1.2.0",
            "_view_count": null,
            "flex_flow": null,
            "width": null,
            "min_width": null,
            "border": null,
            "align_items": null,
            "bottom": null,
            "_model_module": "@jupyter-widgets/base",
            "top": null,
            "grid_column": null,
            "overflow_y": null,
            "overflow_x": null,
            "grid_auto_flow": null,
            "grid_area": null,
            "grid_template_columns": null,
            "flex": null,
            "_model_name": "LayoutModel",
            "justify_items": null,
            "grid_row": null,
            "max_height": null,
            "align_content": null,
            "visibility": null,
            "align_self": null,
            "height": null,
            "min_height": null,
            "padding": null,
            "grid_auto_rows": null,
            "grid_gap": null,
            "max_width": null,
            "order": null,
            "_view_module_version": "1.2.0",
            "grid_template_areas": null,
            "object_position": null,
            "object_fit": null,
            "grid_auto_columns": null,
            "margin": null,
            "display": null,
            "left": null
          }
        },
        "ecf25bc4e93a48a1a2cecdb9f926607a": {
          "model_module": "@jupyter-widgets/controls",
          "model_name": "DescriptionStyleModel",
          "state": {
            "_view_name": "StyleView",
            "_model_name": "DescriptionStyleModel",
            "description_width": "",
            "_view_module": "@jupyter-widgets/base",
            "_model_module_version": "1.5.0",
            "_view_count": null,
            "_view_module_version": "1.2.0",
            "_model_module": "@jupyter-widgets/controls"
          }
        },
        "134a574180104cdda02897d9c5dd538a": {
          "model_module": "@jupyter-widgets/base",
          "model_name": "LayoutModel",
          "state": {
            "_view_name": "LayoutView",
            "grid_template_rows": null,
            "right": null,
            "justify_content": null,
            "_view_module": "@jupyter-widgets/base",
            "overflow": null,
            "_model_module_version": "1.2.0",
            "_view_count": null,
            "flex_flow": null,
            "width": null,
            "min_width": null,
            "border": null,
            "align_items": null,
            "bottom": null,
            "_model_module": "@jupyter-widgets/base",
            "top": null,
            "grid_column": null,
            "overflow_y": null,
            "overflow_x": null,
            "grid_auto_flow": null,
            "grid_area": null,
            "grid_template_columns": null,
            "flex": null,
            "_model_name": "LayoutModel",
            "justify_items": null,
            "grid_row": null,
            "max_height": null,
            "align_content": null,
            "visibility": null,
            "align_self": null,
            "height": null,
            "min_height": null,
            "padding": null,
            "grid_auto_rows": null,
            "grid_gap": null,
            "max_width": null,
            "order": null,
            "_view_module_version": "1.2.0",
            "grid_template_areas": null,
            "object_position": null,
            "object_fit": null,
            "grid_auto_columns": null,
            "margin": null,
            "display": null,
            "left": null
          }
        },
        "d3507430ad6744818131606fc0a08eb5": {
          "model_module": "@jupyter-widgets/controls",
          "model_name": "HBoxModel",
          "state": {
            "_view_name": "HBoxView",
            "_dom_classes": [],
            "_model_name": "HBoxModel",
            "_view_module": "@jupyter-widgets/controls",
            "_model_module_version": "1.5.0",
            "_view_count": null,
            "_view_module_version": "1.5.0",
            "box_style": "",
            "layout": "IPY_MODEL_6383129042da4f508d1c45f7f75cb218",
            "_model_module": "@jupyter-widgets/controls",
            "children": [
              "IPY_MODEL_19d65eb08e3d4a859362707e3c0785ec",
              "IPY_MODEL_4bb0d4234a6340bf905879484c5fa07c"
            ]
          }
        },
        "6383129042da4f508d1c45f7f75cb218": {
          "model_module": "@jupyter-widgets/base",
          "model_name": "LayoutModel",
          "state": {
            "_view_name": "LayoutView",
            "grid_template_rows": null,
            "right": null,
            "justify_content": null,
            "_view_module": "@jupyter-widgets/base",
            "overflow": null,
            "_model_module_version": "1.2.0",
            "_view_count": null,
            "flex_flow": null,
            "width": null,
            "min_width": null,
            "border": null,
            "align_items": null,
            "bottom": null,
            "_model_module": "@jupyter-widgets/base",
            "top": null,
            "grid_column": null,
            "overflow_y": null,
            "overflow_x": null,
            "grid_auto_flow": null,
            "grid_area": null,
            "grid_template_columns": null,
            "flex": null,
            "_model_name": "LayoutModel",
            "justify_items": null,
            "grid_row": null,
            "max_height": null,
            "align_content": null,
            "visibility": null,
            "align_self": null,
            "height": null,
            "min_height": null,
            "padding": null,
            "grid_auto_rows": null,
            "grid_gap": null,
            "max_width": null,
            "order": null,
            "_view_module_version": "1.2.0",
            "grid_template_areas": null,
            "object_position": null,
            "object_fit": null,
            "grid_auto_columns": null,
            "margin": null,
            "display": null,
            "left": null
          }
        },
        "19d65eb08e3d4a859362707e3c0785ec": {
          "model_module": "@jupyter-widgets/controls",
          "model_name": "FloatProgressModel",
          "state": {
            "_view_name": "ProgressView",
            "style": "IPY_MODEL_37b16c5439aa4fe3a03de7028b74e132",
            "_dom_classes": [],
            "description": "Downloading: 100%",
            "_model_name": "FloatProgressModel",
            "bar_style": "success",
            "max": 83316686,
            "_view_module": "@jupyter-widgets/controls",
            "_model_module_version": "1.5.0",
            "value": 83316686,
            "_view_count": null,
            "_view_module_version": "1.5.0",
            "orientation": "horizontal",
            "min": 0,
            "description_tooltip": null,
            "_model_module": "@jupyter-widgets/controls",
            "layout": "IPY_MODEL_3493e6915ddb42b1bcd8846f59597d6c"
          }
        },
        "4bb0d4234a6340bf905879484c5fa07c": {
          "model_module": "@jupyter-widgets/controls",
          "model_name": "HTMLModel",
          "state": {
            "_view_name": "HTMLView",
            "style": "IPY_MODEL_f09dcb69a3fc4a40b90bf5cbe77eacf8",
            "_dom_classes": [],
            "description": "",
            "_model_name": "HTMLModel",
            "placeholder": "​",
            "_view_module": "@jupyter-widgets/controls",
            "_model_module_version": "1.5.0",
            "value": " 83.3M/83.3M [00:02&lt;00:00, 34.8MB/s]",
            "_view_count": null,
            "_view_module_version": "1.5.0",
            "description_tooltip": null,
            "_model_module": "@jupyter-widgets/controls",
            "layout": "IPY_MODEL_3762dc749532446aa59d02bfdbe274b2"
          }
        },
        "37b16c5439aa4fe3a03de7028b74e132": {
          "model_module": "@jupyter-widgets/controls",
          "model_name": "ProgressStyleModel",
          "state": {
            "_view_name": "StyleView",
            "_model_name": "ProgressStyleModel",
            "description_width": "initial",
            "_view_module": "@jupyter-widgets/base",
            "_model_module_version": "1.5.0",
            "_view_count": null,
            "_view_module_version": "1.2.0",
            "bar_color": null,
            "_model_module": "@jupyter-widgets/controls"
          }
        },
        "3493e6915ddb42b1bcd8846f59597d6c": {
          "model_module": "@jupyter-widgets/base",
          "model_name": "LayoutModel",
          "state": {
            "_view_name": "LayoutView",
            "grid_template_rows": null,
            "right": null,
            "justify_content": null,
            "_view_module": "@jupyter-widgets/base",
            "overflow": null,
            "_model_module_version": "1.2.0",
            "_view_count": null,
            "flex_flow": null,
            "width": null,
            "min_width": null,
            "border": null,
            "align_items": null,
            "bottom": null,
            "_model_module": "@jupyter-widgets/base",
            "top": null,
            "grid_column": null,
            "overflow_y": null,
            "overflow_x": null,
            "grid_auto_flow": null,
            "grid_area": null,
            "grid_template_columns": null,
            "flex": null,
            "_model_name": "LayoutModel",
            "justify_items": null,
            "grid_row": null,
            "max_height": null,
            "align_content": null,
            "visibility": null,
            "align_self": null,
            "height": null,
            "min_height": null,
            "padding": null,
            "grid_auto_rows": null,
            "grid_gap": null,
            "max_width": null,
            "order": null,
            "_view_module_version": "1.2.0",
            "grid_template_areas": null,
            "object_position": null,
            "object_fit": null,
            "grid_auto_columns": null,
            "margin": null,
            "display": null,
            "left": null
          }
        },
        "f09dcb69a3fc4a40b90bf5cbe77eacf8": {
          "model_module": "@jupyter-widgets/controls",
          "model_name": "DescriptionStyleModel",
          "state": {
            "_view_name": "StyleView",
            "_model_name": "DescriptionStyleModel",
            "description_width": "",
            "_view_module": "@jupyter-widgets/base",
            "_model_module_version": "1.5.0",
            "_view_count": null,
            "_view_module_version": "1.2.0",
            "_model_module": "@jupyter-widgets/controls"
          }
        },
        "3762dc749532446aa59d02bfdbe274b2": {
          "model_module": "@jupyter-widgets/base",
          "model_name": "LayoutModel",
          "state": {
            "_view_name": "LayoutView",
            "grid_template_rows": null,
            "right": null,
            "justify_content": null,
            "_view_module": "@jupyter-widgets/base",
            "overflow": null,
            "_model_module_version": "1.2.0",
            "_view_count": null,
            "flex_flow": null,
            "width": null,
            "min_width": null,
            "border": null,
            "align_items": null,
            "bottom": null,
            "_model_module": "@jupyter-widgets/base",
            "top": null,
            "grid_column": null,
            "overflow_y": null,
            "overflow_x": null,
            "grid_auto_flow": null,
            "grid_area": null,
            "grid_template_columns": null,
            "flex": null,
            "_model_name": "LayoutModel",
            "justify_items": null,
            "grid_row": null,
            "max_height": null,
            "align_content": null,
            "visibility": null,
            "align_self": null,
            "height": null,
            "min_height": null,
            "padding": null,
            "grid_auto_rows": null,
            "grid_gap": null,
            "max_width": null,
            "order": null,
            "_view_module_version": "1.2.0",
            "grid_template_areas": null,
            "object_position": null,
            "object_fit": null,
            "grid_auto_columns": null,
            "margin": null,
            "display": null,
            "left": null
          }
        },
        "36037db53931484fb1c70337dcdd1a76": {
          "model_module": "@jupyter-widgets/controls",
          "model_name": "HBoxModel",
          "state": {
            "_view_name": "HBoxView",
            "_dom_classes": [],
            "_model_name": "HBoxModel",
            "_view_module": "@jupyter-widgets/controls",
            "_model_module_version": "1.5.0",
            "_view_count": null,
            "_view_module_version": "1.5.0",
            "box_style": "",
            "layout": "IPY_MODEL_5d33d3acf8b04d3083b7a572114f5d37",
            "_model_module": "@jupyter-widgets/controls",
            "children": [
              "IPY_MODEL_06c2cb6dc736412ab0fee0b74dac7a8c",
              "IPY_MODEL_1dfce916351b41cbac5533a5bff67bd9"
            ]
          }
        },
        "5d33d3acf8b04d3083b7a572114f5d37": {
          "model_module": "@jupyter-widgets/base",
          "model_name": "LayoutModel",
          "state": {
            "_view_name": "LayoutView",
            "grid_template_rows": null,
            "right": null,
            "justify_content": null,
            "_view_module": "@jupyter-widgets/base",
            "overflow": null,
            "_model_module_version": "1.2.0",
            "_view_count": null,
            "flex_flow": null,
            "width": null,
            "min_width": null,
            "border": null,
            "align_items": null,
            "bottom": null,
            "_model_module": "@jupyter-widgets/base",
            "top": null,
            "grid_column": null,
            "overflow_y": null,
            "overflow_x": null,
            "grid_auto_flow": null,
            "grid_area": null,
            "grid_template_columns": null,
            "flex": null,
            "_model_name": "LayoutModel",
            "justify_items": null,
            "grid_row": null,
            "max_height": null,
            "align_content": null,
            "visibility": null,
            "align_self": null,
            "height": null,
            "min_height": null,
            "padding": null,
            "grid_auto_rows": null,
            "grid_gap": null,
            "max_width": null,
            "order": null,
            "_view_module_version": "1.2.0",
            "grid_template_areas": null,
            "object_position": null,
            "object_fit": null,
            "grid_auto_columns": null,
            "margin": null,
            "display": null,
            "left": null
          }
        },
        "06c2cb6dc736412ab0fee0b74dac7a8c": {
          "model_module": "@jupyter-widgets/controls",
          "model_name": "FloatProgressModel",
          "state": {
            "_view_name": "ProgressView",
            "style": "IPY_MODEL_89dfbc04eb5f470ba162742498e1736d",
            "_dom_classes": [],
            "description": "Downloading: 100%",
            "_model_name": "FloatProgressModel",
            "bar_style": "success",
            "max": 1921,
            "_view_module": "@jupyter-widgets/controls",
            "_model_module_version": "1.5.0",
            "value": 1921,
            "_view_count": null,
            "_view_module_version": "1.5.0",
            "orientation": "horizontal",
            "min": 0,
            "description_tooltip": null,
            "_model_module": "@jupyter-widgets/controls",
            "layout": "IPY_MODEL_eee32feb4363418899ac1373c236ff2a"
          }
        },
        "1dfce916351b41cbac5533a5bff67bd9": {
          "model_module": "@jupyter-widgets/controls",
          "model_name": "HTMLModel",
          "state": {
            "_view_name": "HTMLView",
            "style": "IPY_MODEL_ef7bd86544e44a288526bfe5ee539e98",
            "_dom_classes": [],
            "description": "",
            "_model_name": "HTMLModel",
            "placeholder": "​",
            "_view_module": "@jupyter-widgets/controls",
            "_model_module_version": "1.5.0",
            "value": " 1.92k/1.92k [00:00&lt;00:00, 8.46kB/s]",
            "_view_count": null,
            "_view_module_version": "1.5.0",
            "description_tooltip": null,
            "_model_module": "@jupyter-widgets/controls",
            "layout": "IPY_MODEL_78b2e38d68c24abea89a743c8c72f00f"
          }
        },
        "89dfbc04eb5f470ba162742498e1736d": {
          "model_module": "@jupyter-widgets/controls",
          "model_name": "ProgressStyleModel",
          "state": {
            "_view_name": "StyleView",
            "_model_name": "ProgressStyleModel",
            "description_width": "initial",
            "_view_module": "@jupyter-widgets/base",
            "_model_module_version": "1.5.0",
            "_view_count": null,
            "_view_module_version": "1.2.0",
            "bar_color": null,
            "_model_module": "@jupyter-widgets/controls"
          }
        },
        "eee32feb4363418899ac1373c236ff2a": {
          "model_module": "@jupyter-widgets/base",
          "model_name": "LayoutModel",
          "state": {
            "_view_name": "LayoutView",
            "grid_template_rows": null,
            "right": null,
            "justify_content": null,
            "_view_module": "@jupyter-widgets/base",
            "overflow": null,
            "_model_module_version": "1.2.0",
            "_view_count": null,
            "flex_flow": null,
            "width": null,
            "min_width": null,
            "border": null,
            "align_items": null,
            "bottom": null,
            "_model_module": "@jupyter-widgets/base",
            "top": null,
            "grid_column": null,
            "overflow_y": null,
            "overflow_x": null,
            "grid_auto_flow": null,
            "grid_area": null,
            "grid_template_columns": null,
            "flex": null,
            "_model_name": "LayoutModel",
            "justify_items": null,
            "grid_row": null,
            "max_height": null,
            "align_content": null,
            "visibility": null,
            "align_self": null,
            "height": null,
            "min_height": null,
            "padding": null,
            "grid_auto_rows": null,
            "grid_gap": null,
            "max_width": null,
            "order": null,
            "_view_module_version": "1.2.0",
            "grid_template_areas": null,
            "object_position": null,
            "object_fit": null,
            "grid_auto_columns": null,
            "margin": null,
            "display": null,
            "left": null
          }
        },
        "ef7bd86544e44a288526bfe5ee539e98": {
          "model_module": "@jupyter-widgets/controls",
          "model_name": "DescriptionStyleModel",
          "state": {
            "_view_name": "StyleView",
            "_model_name": "DescriptionStyleModel",
            "description_width": "",
            "_view_module": "@jupyter-widgets/base",
            "_model_module_version": "1.5.0",
            "_view_count": null,
            "_view_module_version": "1.2.0",
            "_model_module": "@jupyter-widgets/controls"
          }
        },
        "78b2e38d68c24abea89a743c8c72f00f": {
          "model_module": "@jupyter-widgets/base",
          "model_name": "LayoutModel",
          "state": {
            "_view_name": "LayoutView",
            "grid_template_rows": null,
            "right": null,
            "justify_content": null,
            "_view_module": "@jupyter-widgets/base",
            "overflow": null,
            "_model_module_version": "1.2.0",
            "_view_count": null,
            "flex_flow": null,
            "width": null,
            "min_width": null,
            "border": null,
            "align_items": null,
            "bottom": null,
            "_model_module": "@jupyter-widgets/base",
            "top": null,
            "grid_column": null,
            "overflow_y": null,
            "overflow_x": null,
            "grid_auto_flow": null,
            "grid_area": null,
            "grid_template_columns": null,
            "flex": null,
            "_model_name": "LayoutModel",
            "justify_items": null,
            "grid_row": null,
            "max_height": null,
            "align_content": null,
            "visibility": null,
            "align_self": null,
            "height": null,
            "min_height": null,
            "padding": null,
            "grid_auto_rows": null,
            "grid_gap": null,
            "max_width": null,
            "order": null,
            "_view_module_version": "1.2.0",
            "grid_template_areas": null,
            "object_position": null,
            "object_fit": null,
            "grid_auto_columns": null,
            "margin": null,
            "display": null,
            "left": null
          }
        },
        "d20a5423226146e0a2a7e3909a5e7d2c": {
          "model_module": "@jupyter-widgets/controls",
          "model_name": "HBoxModel",
          "state": {
            "_view_name": "HBoxView",
            "_dom_classes": [],
            "_model_name": "HBoxModel",
            "_view_module": "@jupyter-widgets/controls",
            "_model_module_version": "1.5.0",
            "_view_count": null,
            "_view_module_version": "1.5.0",
            "box_style": "",
            "layout": "IPY_MODEL_484922d230d94eea994f4dfd851534a8",
            "_model_module": "@jupyter-widgets/controls",
            "children": [
              "IPY_MODEL_7731d4a22af543359b4ca5cc95ad7705",
              "IPY_MODEL_d12cbc96d9694c16ad5a4a792d54be91"
            ]
          }
        },
        "484922d230d94eea994f4dfd851534a8": {
          "model_module": "@jupyter-widgets/base",
          "model_name": "LayoutModel",
          "state": {
            "_view_name": "LayoutView",
            "grid_template_rows": null,
            "right": null,
            "justify_content": null,
            "_view_module": "@jupyter-widgets/base",
            "overflow": null,
            "_model_module_version": "1.2.0",
            "_view_count": null,
            "flex_flow": null,
            "width": null,
            "min_width": null,
            "border": null,
            "align_items": null,
            "bottom": null,
            "_model_module": "@jupyter-widgets/base",
            "top": null,
            "grid_column": null,
            "overflow_y": null,
            "overflow_x": null,
            "grid_auto_flow": null,
            "grid_area": null,
            "grid_template_columns": null,
            "flex": null,
            "_model_name": "LayoutModel",
            "justify_items": null,
            "grid_row": null,
            "max_height": null,
            "align_content": null,
            "visibility": null,
            "align_self": null,
            "height": null,
            "min_height": null,
            "padding": null,
            "grid_auto_rows": null,
            "grid_gap": null,
            "max_width": null,
            "order": null,
            "_view_module_version": "1.2.0",
            "grid_template_areas": null,
            "object_position": null,
            "object_fit": null,
            "grid_auto_columns": null,
            "margin": null,
            "display": null,
            "left": null
          }
        },
        "7731d4a22af543359b4ca5cc95ad7705": {
          "model_module": "@jupyter-widgets/controls",
          "model_name": "FloatProgressModel",
          "state": {
            "_view_name": "ProgressView",
            "style": "IPY_MODEL_a69a1bc3c0034a8d9e62bd1fe194b311",
            "_dom_classes": [],
            "description": "Downloading: 100%",
            "_model_name": "FloatProgressModel",
            "bar_style": "success",
            "max": 5534328,
            "_view_module": "@jupyter-widgets/controls",
            "_model_module_version": "1.5.0",
            "value": 5534328,
            "_view_count": null,
            "_view_module_version": "1.5.0",
            "orientation": "horizontal",
            "min": 0,
            "description_tooltip": null,
            "_model_module": "@jupyter-widgets/controls",
            "layout": "IPY_MODEL_a51e9379dc784816ae6e3bdd5cee0ead"
          }
        },
        "d12cbc96d9694c16ad5a4a792d54be91": {
          "model_module": "@jupyter-widgets/controls",
          "model_name": "HTMLModel",
          "state": {
            "_view_name": "HTMLView",
            "style": "IPY_MODEL_566f18345dfd4894bfa1d98bf0685057",
            "_dom_classes": [],
            "description": "",
            "_model_name": "HTMLModel",
            "placeholder": "​",
            "_view_module": "@jupyter-widgets/controls",
            "_model_module_version": "1.5.0",
            "value": " 5.53M/5.53M [00:00&lt;00:00, 13.1MB/s]",
            "_view_count": null,
            "_view_module_version": "1.5.0",
            "description_tooltip": null,
            "_model_module": "@jupyter-widgets/controls",
            "layout": "IPY_MODEL_07a71b5bbef54010a1cd4c6554251df4"
          }
        },
        "a69a1bc3c0034a8d9e62bd1fe194b311": {
          "model_module": "@jupyter-widgets/controls",
          "model_name": "ProgressStyleModel",
          "state": {
            "_view_name": "StyleView",
            "_model_name": "ProgressStyleModel",
            "description_width": "initial",
            "_view_module": "@jupyter-widgets/base",
            "_model_module_version": "1.5.0",
            "_view_count": null,
            "_view_module_version": "1.2.0",
            "bar_color": null,
            "_model_module": "@jupyter-widgets/controls"
          }
        },
        "a51e9379dc784816ae6e3bdd5cee0ead": {
          "model_module": "@jupyter-widgets/base",
          "model_name": "LayoutModel",
          "state": {
            "_view_name": "LayoutView",
            "grid_template_rows": null,
            "right": null,
            "justify_content": null,
            "_view_module": "@jupyter-widgets/base",
            "overflow": null,
            "_model_module_version": "1.2.0",
            "_view_count": null,
            "flex_flow": null,
            "width": null,
            "min_width": null,
            "border": null,
            "align_items": null,
            "bottom": null,
            "_model_module": "@jupyter-widgets/base",
            "top": null,
            "grid_column": null,
            "overflow_y": null,
            "overflow_x": null,
            "grid_auto_flow": null,
            "grid_area": null,
            "grid_template_columns": null,
            "flex": null,
            "_model_name": "LayoutModel",
            "justify_items": null,
            "grid_row": null,
            "max_height": null,
            "align_content": null,
            "visibility": null,
            "align_self": null,
            "height": null,
            "min_height": null,
            "padding": null,
            "grid_auto_rows": null,
            "grid_gap": null,
            "max_width": null,
            "order": null,
            "_view_module_version": "1.2.0",
            "grid_template_areas": null,
            "object_position": null,
            "object_fit": null,
            "grid_auto_columns": null,
            "margin": null,
            "display": null,
            "left": null
          }
        },
        "566f18345dfd4894bfa1d98bf0685057": {
          "model_module": "@jupyter-widgets/controls",
          "model_name": "DescriptionStyleModel",
          "state": {
            "_view_name": "StyleView",
            "_model_name": "DescriptionStyleModel",
            "description_width": "",
            "_view_module": "@jupyter-widgets/base",
            "_model_module_version": "1.5.0",
            "_view_count": null,
            "_view_module_version": "1.2.0",
            "_model_module": "@jupyter-widgets/controls"
          }
        },
        "07a71b5bbef54010a1cd4c6554251df4": {
          "model_module": "@jupyter-widgets/base",
          "model_name": "LayoutModel",
          "state": {
            "_view_name": "LayoutView",
            "grid_template_rows": null,
            "right": null,
            "justify_content": null,
            "_view_module": "@jupyter-widgets/base",
            "overflow": null,
            "_model_module_version": "1.2.0",
            "_view_count": null,
            "flex_flow": null,
            "width": null,
            "min_width": null,
            "border": null,
            "align_items": null,
            "bottom": null,
            "_model_module": "@jupyter-widgets/base",
            "top": null,
            "grid_column": null,
            "overflow_y": null,
            "overflow_x": null,
            "grid_auto_flow": null,
            "grid_area": null,
            "grid_template_columns": null,
            "flex": null,
            "_model_name": "LayoutModel",
            "justify_items": null,
            "grid_row": null,
            "max_height": null,
            "align_content": null,
            "visibility": null,
            "align_self": null,
            "height": null,
            "min_height": null,
            "padding": null,
            "grid_auto_rows": null,
            "grid_gap": null,
            "max_width": null,
            "order": null,
            "_view_module_version": "1.2.0",
            "grid_template_areas": null,
            "object_position": null,
            "object_fit": null,
            "grid_auto_columns": null,
            "margin": null,
            "display": null,
            "left": null
          }
        },
        "b3c52b5654bd4aae83ceb01eda569391": {
          "model_module": "@jupyter-widgets/controls",
          "model_name": "HBoxModel",
          "state": {
            "_view_name": "HBoxView",
            "_dom_classes": [],
            "_model_name": "HBoxModel",
            "_view_module": "@jupyter-widgets/controls",
            "_model_module_version": "1.5.0",
            "_view_count": null,
            "_view_module_version": "1.5.0",
            "box_style": "",
            "layout": "IPY_MODEL_1ead304cbd3f47dda345f40e79d23cb4",
            "_model_module": "@jupyter-widgets/controls",
            "children": [
              "IPY_MODEL_ca944355afa848bdb6a21d902f73d197",
              "IPY_MODEL_6e04f085ff5b481f82229eb597d8cc62"
            ]
          }
        },
        "1ead304cbd3f47dda345f40e79d23cb4": {
          "model_module": "@jupyter-widgets/base",
          "model_name": "LayoutModel",
          "state": {
            "_view_name": "LayoutView",
            "grid_template_rows": null,
            "right": null,
            "justify_content": null,
            "_view_module": "@jupyter-widgets/base",
            "overflow": null,
            "_model_module_version": "1.2.0",
            "_view_count": null,
            "flex_flow": null,
            "width": null,
            "min_width": null,
            "border": null,
            "align_items": null,
            "bottom": null,
            "_model_module": "@jupyter-widgets/base",
            "top": null,
            "grid_column": null,
            "overflow_y": null,
            "overflow_x": null,
            "grid_auto_flow": null,
            "grid_area": null,
            "grid_template_columns": null,
            "flex": null,
            "_model_name": "LayoutModel",
            "justify_items": null,
            "grid_row": null,
            "max_height": null,
            "align_content": null,
            "visibility": null,
            "align_self": null,
            "height": null,
            "min_height": null,
            "padding": null,
            "grid_auto_rows": null,
            "grid_gap": null,
            "max_width": null,
            "order": null,
            "_view_module_version": "1.2.0",
            "grid_template_areas": null,
            "object_position": null,
            "object_fit": null,
            "grid_auto_columns": null,
            "margin": null,
            "display": null,
            "left": null
          }
        },
        "ca944355afa848bdb6a21d902f73d197": {
          "model_module": "@jupyter-widgets/controls",
          "model_name": "FloatProgressModel",
          "state": {
            "_view_name": "ProgressView",
            "style": "IPY_MODEL_9ee6c4d8275b4c59bd8ccd35a6eda98b",
            "_dom_classes": [],
            "description": "Downloading: 100%",
            "_model_name": "FloatProgressModel",
            "bar_style": "success",
            "max": 128619,
            "_view_module": "@jupyter-widgets/controls",
            "_model_module_version": "1.5.0",
            "value": 128619,
            "_view_count": null,
            "_view_module_version": "1.5.0",
            "orientation": "horizontal",
            "min": 0,
            "description_tooltip": null,
            "_model_module": "@jupyter-widgets/controls",
            "layout": "IPY_MODEL_cf0d6b12be1b48008b1a313e2091b37f"
          }
        },
        "6e04f085ff5b481f82229eb597d8cc62": {
          "model_module": "@jupyter-widgets/controls",
          "model_name": "HTMLModel",
          "state": {
            "_view_name": "HTMLView",
            "style": "IPY_MODEL_067added56664202b9b2badfb72020d8",
            "_dom_classes": [],
            "description": "",
            "_model_name": "HTMLModel",
            "placeholder": "​",
            "_view_module": "@jupyter-widgets/controls",
            "_model_module_version": "1.5.0",
            "value": " 129k/129k [00:00&lt;00:00, 1.14MB/s]",
            "_view_count": null,
            "_view_module_version": "1.5.0",
            "description_tooltip": null,
            "_model_module": "@jupyter-widgets/controls",
            "layout": "IPY_MODEL_f28e649ca3284d0e9cab577621f193f3"
          }
        },
        "9ee6c4d8275b4c59bd8ccd35a6eda98b": {
          "model_module": "@jupyter-widgets/controls",
          "model_name": "ProgressStyleModel",
          "state": {
            "_view_name": "StyleView",
            "_model_name": "ProgressStyleModel",
            "description_width": "initial",
            "_view_module": "@jupyter-widgets/base",
            "_model_module_version": "1.5.0",
            "_view_count": null,
            "_view_module_version": "1.2.0",
            "bar_color": null,
            "_model_module": "@jupyter-widgets/controls"
          }
        },
        "cf0d6b12be1b48008b1a313e2091b37f": {
          "model_module": "@jupyter-widgets/base",
          "model_name": "LayoutModel",
          "state": {
            "_view_name": "LayoutView",
            "grid_template_rows": null,
            "right": null,
            "justify_content": null,
            "_view_module": "@jupyter-widgets/base",
            "overflow": null,
            "_model_module_version": "1.2.0",
            "_view_count": null,
            "flex_flow": null,
            "width": null,
            "min_width": null,
            "border": null,
            "align_items": null,
            "bottom": null,
            "_model_module": "@jupyter-widgets/base",
            "top": null,
            "grid_column": null,
            "overflow_y": null,
            "overflow_x": null,
            "grid_auto_flow": null,
            "grid_area": null,
            "grid_template_columns": null,
            "flex": null,
            "_model_name": "LayoutModel",
            "justify_items": null,
            "grid_row": null,
            "max_height": null,
            "align_content": null,
            "visibility": null,
            "align_self": null,
            "height": null,
            "min_height": null,
            "padding": null,
            "grid_auto_rows": null,
            "grid_gap": null,
            "max_width": null,
            "order": null,
            "_view_module_version": "1.2.0",
            "grid_template_areas": null,
            "object_position": null,
            "object_fit": null,
            "grid_auto_columns": null,
            "margin": null,
            "display": null,
            "left": null
          }
        },
        "067added56664202b9b2badfb72020d8": {
          "model_module": "@jupyter-widgets/controls",
          "model_name": "DescriptionStyleModel",
          "state": {
            "_view_name": "StyleView",
            "_model_name": "DescriptionStyleModel",
            "description_width": "",
            "_view_module": "@jupyter-widgets/base",
            "_model_module_version": "1.5.0",
            "_view_count": null,
            "_view_module_version": "1.2.0",
            "_model_module": "@jupyter-widgets/controls"
          }
        },
        "f28e649ca3284d0e9cab577621f193f3": {
          "model_module": "@jupyter-widgets/base",
          "model_name": "LayoutModel",
          "state": {
            "_view_name": "LayoutView",
            "grid_template_rows": null,
            "right": null,
            "justify_content": null,
            "_view_module": "@jupyter-widgets/base",
            "overflow": null,
            "_model_module_version": "1.2.0",
            "_view_count": null,
            "flex_flow": null,
            "width": null,
            "min_width": null,
            "border": null,
            "align_items": null,
            "bottom": null,
            "_model_module": "@jupyter-widgets/base",
            "top": null,
            "grid_column": null,
            "overflow_y": null,
            "overflow_x": null,
            "grid_auto_flow": null,
            "grid_area": null,
            "grid_template_columns": null,
            "flex": null,
            "_model_name": "LayoutModel",
            "justify_items": null,
            "grid_row": null,
            "max_height": null,
            "align_content": null,
            "visibility": null,
            "align_self": null,
            "height": null,
            "min_height": null,
            "padding": null,
            "grid_auto_rows": null,
            "grid_gap": null,
            "max_width": null,
            "order": null,
            "_view_module_version": "1.2.0",
            "grid_template_areas": null,
            "object_position": null,
            "object_fit": null,
            "grid_auto_columns": null,
            "margin": null,
            "display": null,
            "left": null
          }
        },
        "b6c6440b675f47d68c5084cb52ff9f0b": {
          "model_module": "@jupyter-widgets/controls",
          "model_name": "HBoxModel",
          "state": {
            "_view_name": "HBoxView",
            "_dom_classes": [],
            "_model_name": "HBoxModel",
            "_view_module": "@jupyter-widgets/controls",
            "_model_module_version": "1.5.0",
            "_view_count": null,
            "_view_module_version": "1.5.0",
            "box_style": "",
            "layout": "IPY_MODEL_615c88f6c7b348db89967b298ccda064",
            "_model_module": "@jupyter-widgets/controls",
            "children": [
              "IPY_MODEL_952662566fee47a4b845e10ea888eeff",
              "IPY_MODEL_9a2d81b6e0dd4e3f9b029661ad22824f"
            ]
          }
        },
        "615c88f6c7b348db89967b298ccda064": {
          "model_module": "@jupyter-widgets/base",
          "model_name": "LayoutModel",
          "state": {
            "_view_name": "LayoutView",
            "grid_template_rows": null,
            "right": null,
            "justify_content": null,
            "_view_module": "@jupyter-widgets/base",
            "overflow": null,
            "_model_module_version": "1.2.0",
            "_view_count": null,
            "flex_flow": null,
            "width": null,
            "min_width": null,
            "border": null,
            "align_items": null,
            "bottom": null,
            "_model_module": "@jupyter-widgets/base",
            "top": null,
            "grid_column": null,
            "overflow_y": null,
            "overflow_x": null,
            "grid_auto_flow": null,
            "grid_area": null,
            "grid_template_columns": null,
            "flex": null,
            "_model_name": "LayoutModel",
            "justify_items": null,
            "grid_row": null,
            "max_height": null,
            "align_content": null,
            "visibility": null,
            "align_self": null,
            "height": null,
            "min_height": null,
            "padding": null,
            "grid_auto_rows": null,
            "grid_gap": null,
            "max_width": null,
            "order": null,
            "_view_module_version": "1.2.0",
            "grid_template_areas": null,
            "object_position": null,
            "object_fit": null,
            "grid_auto_columns": null,
            "margin": null,
            "display": null,
            "left": null
          }
        },
        "952662566fee47a4b845e10ea888eeff": {
          "model_module": "@jupyter-widgets/controls",
          "model_name": "FloatProgressModel",
          "state": {
            "_view_name": "ProgressView",
            "style": "IPY_MODEL_bb89f2e389af4b94929347d77763c262",
            "_dom_classes": [],
            "description": "100%",
            "_model_name": "FloatProgressModel",
            "bar_style": "success",
            "max": 1,
            "_view_module": "@jupyter-widgets/controls",
            "_model_module_version": "1.5.0",
            "value": 1,
            "_view_count": null,
            "_view_module_version": "1.5.0",
            "orientation": "horizontal",
            "min": 0,
            "description_tooltip": null,
            "_model_module": "@jupyter-widgets/controls",
            "layout": "IPY_MODEL_07ffb2f9c020421db5f00c351b2e55a3"
          }
        },
        "9a2d81b6e0dd4e3f9b029661ad22824f": {
          "model_module": "@jupyter-widgets/controls",
          "model_name": "HTMLModel",
          "state": {
            "_view_name": "HTMLView",
            "style": "IPY_MODEL_a24ac6fceeb74d109ebe2d1a1be6cb84",
            "_dom_classes": [],
            "description": "",
            "_model_name": "HTMLModel",
            "placeholder": "​",
            "_view_module": "@jupyter-widgets/controls",
            "_model_module_version": "1.5.0",
            "value": " 1/1 [02:55&lt;00:00, 175.32s/it]",
            "_view_count": null,
            "_view_module_version": "1.5.0",
            "description_tooltip": null,
            "_model_module": "@jupyter-widgets/controls",
            "layout": "IPY_MODEL_52c7f9bcdb234866887a18a3fbb43527"
          }
        },
        "bb89f2e389af4b94929347d77763c262": {
          "model_module": "@jupyter-widgets/controls",
          "model_name": "ProgressStyleModel",
          "state": {
            "_view_name": "StyleView",
            "_model_name": "ProgressStyleModel",
            "description_width": "initial",
            "_view_module": "@jupyter-widgets/base",
            "_model_module_version": "1.5.0",
            "_view_count": null,
            "_view_module_version": "1.2.0",
            "bar_color": null,
            "_model_module": "@jupyter-widgets/controls"
          }
        },
        "07ffb2f9c020421db5f00c351b2e55a3": {
          "model_module": "@jupyter-widgets/base",
          "model_name": "LayoutModel",
          "state": {
            "_view_name": "LayoutView",
            "grid_template_rows": null,
            "right": null,
            "justify_content": null,
            "_view_module": "@jupyter-widgets/base",
            "overflow": null,
            "_model_module_version": "1.2.0",
            "_view_count": null,
            "flex_flow": null,
            "width": null,
            "min_width": null,
            "border": null,
            "align_items": null,
            "bottom": null,
            "_model_module": "@jupyter-widgets/base",
            "top": null,
            "grid_column": null,
            "overflow_y": null,
            "overflow_x": null,
            "grid_auto_flow": null,
            "grid_area": null,
            "grid_template_columns": null,
            "flex": null,
            "_model_name": "LayoutModel",
            "justify_items": null,
            "grid_row": null,
            "max_height": null,
            "align_content": null,
            "visibility": null,
            "align_self": null,
            "height": null,
            "min_height": null,
            "padding": null,
            "grid_auto_rows": null,
            "grid_gap": null,
            "max_width": null,
            "order": null,
            "_view_module_version": "1.2.0",
            "grid_template_areas": null,
            "object_position": null,
            "object_fit": null,
            "grid_auto_columns": null,
            "margin": null,
            "display": null,
            "left": null
          }
        },
        "a24ac6fceeb74d109ebe2d1a1be6cb84": {
          "model_module": "@jupyter-widgets/controls",
          "model_name": "DescriptionStyleModel",
          "state": {
            "_view_name": "StyleView",
            "_model_name": "DescriptionStyleModel",
            "description_width": "",
            "_view_module": "@jupyter-widgets/base",
            "_model_module_version": "1.5.0",
            "_view_count": null,
            "_view_module_version": "1.2.0",
            "_model_module": "@jupyter-widgets/controls"
          }
        },
        "52c7f9bcdb234866887a18a3fbb43527": {
          "model_module": "@jupyter-widgets/base",
          "model_name": "LayoutModel",
          "state": {
            "_view_name": "LayoutView",
            "grid_template_rows": null,
            "right": null,
            "justify_content": null,
            "_view_module": "@jupyter-widgets/base",
            "overflow": null,
            "_model_module_version": "1.2.0",
            "_view_count": null,
            "flex_flow": null,
            "width": null,
            "min_width": null,
            "border": null,
            "align_items": null,
            "bottom": null,
            "_model_module": "@jupyter-widgets/base",
            "top": null,
            "grid_column": null,
            "overflow_y": null,
            "overflow_x": null,
            "grid_auto_flow": null,
            "grid_area": null,
            "grid_template_columns": null,
            "flex": null,
            "_model_name": "LayoutModel",
            "justify_items": null,
            "grid_row": null,
            "max_height": null,
            "align_content": null,
            "visibility": null,
            "align_self": null,
            "height": null,
            "min_height": null,
            "padding": null,
            "grid_auto_rows": null,
            "grid_gap": null,
            "max_width": null,
            "order": null,
            "_view_module_version": "1.2.0",
            "grid_template_areas": null,
            "object_position": null,
            "object_fit": null,
            "grid_auto_columns": null,
            "margin": null,
            "display": null,
            "left": null
          }
        },
        "c128b58cb45c46f39087d4deac740193": {
          "model_module": "@jupyter-widgets/controls",
          "model_name": "HBoxModel",
          "state": {
            "_view_name": "HBoxView",
            "_dom_classes": [],
            "_model_name": "HBoxModel",
            "_view_module": "@jupyter-widgets/controls",
            "_model_module_version": "1.5.0",
            "_view_count": null,
            "_view_module_version": "1.5.0",
            "box_style": "",
            "layout": "IPY_MODEL_d301ce18ef944537b37445acb3cde6ac",
            "_model_module": "@jupyter-widgets/controls",
            "children": [
              "IPY_MODEL_23dc431881a24911bb6489b6beb31ca6",
              "IPY_MODEL_d4001c1410e645619e96a95da0e40fb1"
            ]
          }
        },
        "d301ce18ef944537b37445acb3cde6ac": {
          "model_module": "@jupyter-widgets/base",
          "model_name": "LayoutModel",
          "state": {
            "_view_name": "LayoutView",
            "grid_template_rows": null,
            "right": null,
            "justify_content": null,
            "_view_module": "@jupyter-widgets/base",
            "overflow": null,
            "_model_module_version": "1.2.0",
            "_view_count": null,
            "flex_flow": null,
            "width": null,
            "min_width": null,
            "border": null,
            "align_items": null,
            "bottom": null,
            "_model_module": "@jupyter-widgets/base",
            "top": null,
            "grid_column": null,
            "overflow_y": null,
            "overflow_x": null,
            "grid_auto_flow": null,
            "grid_area": null,
            "grid_template_columns": null,
            "flex": null,
            "_model_name": "LayoutModel",
            "justify_items": null,
            "grid_row": null,
            "max_height": null,
            "align_content": null,
            "visibility": null,
            "align_self": null,
            "height": null,
            "min_height": null,
            "padding": null,
            "grid_auto_rows": null,
            "grid_gap": null,
            "max_width": null,
            "order": null,
            "_view_module_version": "1.2.0",
            "grid_template_areas": null,
            "object_position": null,
            "object_fit": null,
            "grid_auto_columns": null,
            "margin": null,
            "display": null,
            "left": null
          }
        },
        "23dc431881a24911bb6489b6beb31ca6": {
          "model_module": "@jupyter-widgets/controls",
          "model_name": "FloatProgressModel",
          "state": {
            "_view_name": "ProgressView",
            "style": "IPY_MODEL_2b5506bba5714622826f9469b2d76dd6",
            "_dom_classes": [],
            "description": "100%",
            "_model_name": "FloatProgressModel",
            "bar_style": "success",
            "max": 1,
            "_view_module": "@jupyter-widgets/controls",
            "_model_module_version": "1.5.0",
            "value": 1,
            "_view_count": null,
            "_view_module_version": "1.5.0",
            "orientation": "horizontal",
            "min": 0,
            "description_tooltip": null,
            "_model_module": "@jupyter-widgets/controls",
            "layout": "IPY_MODEL_cb262770001342aabf8d003375601456"
          }
        },
        "d4001c1410e645619e96a95da0e40fb1": {
          "model_module": "@jupyter-widgets/controls",
          "model_name": "HTMLModel",
          "state": {
            "_view_name": "HTMLView",
            "style": "IPY_MODEL_c04b53246f754554b8e53bbad1df399e",
            "_dom_classes": [],
            "description": "",
            "_model_name": "HTMLModel",
            "placeholder": "​",
            "_view_module": "@jupyter-widgets/controls",
            "_model_module_version": "1.5.0",
            "value": " 1/1 [00:10&lt;00:00, 10.21s/it]",
            "_view_count": null,
            "_view_module_version": "1.5.0",
            "description_tooltip": null,
            "_model_module": "@jupyter-widgets/controls",
            "layout": "IPY_MODEL_7069ad2ffcb042a19a392b095e8ec7df"
          }
        },
        "2b5506bba5714622826f9469b2d76dd6": {
          "model_module": "@jupyter-widgets/controls",
          "model_name": "ProgressStyleModel",
          "state": {
            "_view_name": "StyleView",
            "_model_name": "ProgressStyleModel",
            "description_width": "initial",
            "_view_module": "@jupyter-widgets/base",
            "_model_module_version": "1.5.0",
            "_view_count": null,
            "_view_module_version": "1.2.0",
            "bar_color": null,
            "_model_module": "@jupyter-widgets/controls"
          }
        },
        "cb262770001342aabf8d003375601456": {
          "model_module": "@jupyter-widgets/base",
          "model_name": "LayoutModel",
          "state": {
            "_view_name": "LayoutView",
            "grid_template_rows": null,
            "right": null,
            "justify_content": null,
            "_view_module": "@jupyter-widgets/base",
            "overflow": null,
            "_model_module_version": "1.2.0",
            "_view_count": null,
            "flex_flow": null,
            "width": null,
            "min_width": null,
            "border": null,
            "align_items": null,
            "bottom": null,
            "_model_module": "@jupyter-widgets/base",
            "top": null,
            "grid_column": null,
            "overflow_y": null,
            "overflow_x": null,
            "grid_auto_flow": null,
            "grid_area": null,
            "grid_template_columns": null,
            "flex": null,
            "_model_name": "LayoutModel",
            "justify_items": null,
            "grid_row": null,
            "max_height": null,
            "align_content": null,
            "visibility": null,
            "align_self": null,
            "height": null,
            "min_height": null,
            "padding": null,
            "grid_auto_rows": null,
            "grid_gap": null,
            "max_width": null,
            "order": null,
            "_view_module_version": "1.2.0",
            "grid_template_areas": null,
            "object_position": null,
            "object_fit": null,
            "grid_auto_columns": null,
            "margin": null,
            "display": null,
            "left": null
          }
        },
        "c04b53246f754554b8e53bbad1df399e": {
          "model_module": "@jupyter-widgets/controls",
          "model_name": "DescriptionStyleModel",
          "state": {
            "_view_name": "StyleView",
            "_model_name": "DescriptionStyleModel",
            "description_width": "",
            "_view_module": "@jupyter-widgets/base",
            "_model_module_version": "1.5.0",
            "_view_count": null,
            "_view_module_version": "1.2.0",
            "_model_module": "@jupyter-widgets/controls"
          }
        },
        "7069ad2ffcb042a19a392b095e8ec7df": {
          "model_module": "@jupyter-widgets/base",
          "model_name": "LayoutModel",
          "state": {
            "_view_name": "LayoutView",
            "grid_template_rows": null,
            "right": null,
            "justify_content": null,
            "_view_module": "@jupyter-widgets/base",
            "overflow": null,
            "_model_module_version": "1.2.0",
            "_view_count": null,
            "flex_flow": null,
            "width": null,
            "min_width": null,
            "border": null,
            "align_items": null,
            "bottom": null,
            "_model_module": "@jupyter-widgets/base",
            "top": null,
            "grid_column": null,
            "overflow_y": null,
            "overflow_x": null,
            "grid_auto_flow": null,
            "grid_area": null,
            "grid_template_columns": null,
            "flex": null,
            "_model_name": "LayoutModel",
            "justify_items": null,
            "grid_row": null,
            "max_height": null,
            "align_content": null,
            "visibility": null,
            "align_self": null,
            "height": null,
            "min_height": null,
            "padding": null,
            "grid_auto_rows": null,
            "grid_gap": null,
            "max_width": null,
            "order": null,
            "_view_module_version": "1.2.0",
            "grid_template_areas": null,
            "object_position": null,
            "object_fit": null,
            "grid_auto_columns": null,
            "margin": null,
            "display": null,
            "left": null
          }
        },
        "602f1b98e6c545e0a15557dad9a3a6a2": {
          "model_module": "@jupyter-widgets/controls",
          "model_name": "HBoxModel",
          "state": {
            "_view_name": "HBoxView",
            "_dom_classes": [],
            "_model_name": "HBoxModel",
            "_view_module": "@jupyter-widgets/controls",
            "_model_module_version": "1.5.0",
            "_view_count": null,
            "_view_module_version": "1.5.0",
            "box_style": "",
            "layout": "IPY_MODEL_69bdc5e33fe04ab48c3e664e70a39726",
            "_model_module": "@jupyter-widgets/controls",
            "children": [
              "IPY_MODEL_2a088dc5d9864f84ad56b44bb2c98832",
              "IPY_MODEL_58fb4d7b50524e9da4848ef82a5718f0"
            ]
          }
        },
        "69bdc5e33fe04ab48c3e664e70a39726": {
          "model_module": "@jupyter-widgets/base",
          "model_name": "LayoutModel",
          "state": {
            "_view_name": "LayoutView",
            "grid_template_rows": null,
            "right": null,
            "justify_content": null,
            "_view_module": "@jupyter-widgets/base",
            "overflow": null,
            "_model_module_version": "1.2.0",
            "_view_count": null,
            "flex_flow": null,
            "width": null,
            "min_width": null,
            "border": null,
            "align_items": null,
            "bottom": null,
            "_model_module": "@jupyter-widgets/base",
            "top": null,
            "grid_column": null,
            "overflow_y": null,
            "overflow_x": null,
            "grid_auto_flow": null,
            "grid_area": null,
            "grid_template_columns": null,
            "flex": null,
            "_model_name": "LayoutModel",
            "justify_items": null,
            "grid_row": null,
            "max_height": null,
            "align_content": null,
            "visibility": null,
            "align_self": null,
            "height": null,
            "min_height": null,
            "padding": null,
            "grid_auto_rows": null,
            "grid_gap": null,
            "max_width": null,
            "order": null,
            "_view_module_version": "1.2.0",
            "grid_template_areas": null,
            "object_position": null,
            "object_fit": null,
            "grid_auto_columns": null,
            "margin": null,
            "display": null,
            "left": null
          }
        },
        "2a088dc5d9864f84ad56b44bb2c98832": {
          "model_module": "@jupyter-widgets/controls",
          "model_name": "FloatProgressModel",
          "state": {
            "_view_name": "ProgressView",
            "style": "IPY_MODEL_2a6310258f564b0bbaf29b0db0f921a0",
            "_dom_classes": [],
            "description": "100%",
            "_model_name": "FloatProgressModel",
            "bar_style": "success",
            "max": 1,
            "_view_module": "@jupyter-widgets/controls",
            "_model_module_version": "1.5.0",
            "value": 1,
            "_view_count": null,
            "_view_module_version": "1.5.0",
            "orientation": "horizontal",
            "min": 0,
            "description_tooltip": null,
            "_model_module": "@jupyter-widgets/controls",
            "layout": "IPY_MODEL_6f105710069c453a8d7fda2f9bd963b9"
          }
        },
        "58fb4d7b50524e9da4848ef82a5718f0": {
          "model_module": "@jupyter-widgets/controls",
          "model_name": "HTMLModel",
          "state": {
            "_view_name": "HTMLView",
            "style": "IPY_MODEL_ac95f47060cd4502b7eb85b7be270b0a",
            "_dom_classes": [],
            "description": "",
            "_model_name": "HTMLModel",
            "placeholder": "​",
            "_view_module": "@jupyter-widgets/controls",
            "_model_module_version": "1.5.0",
            "value": " 1/1 [00:06&lt;00:00,  6.26s/it]",
            "_view_count": null,
            "_view_module_version": "1.5.0",
            "description_tooltip": null,
            "_model_module": "@jupyter-widgets/controls",
            "layout": "IPY_MODEL_502bc9b654ef44ff9ec5ed114a565c7a"
          }
        },
        "2a6310258f564b0bbaf29b0db0f921a0": {
          "model_module": "@jupyter-widgets/controls",
          "model_name": "ProgressStyleModel",
          "state": {
            "_view_name": "StyleView",
            "_model_name": "ProgressStyleModel",
            "description_width": "initial",
            "_view_module": "@jupyter-widgets/base",
            "_model_module_version": "1.5.0",
            "_view_count": null,
            "_view_module_version": "1.2.0",
            "bar_color": null,
            "_model_module": "@jupyter-widgets/controls"
          }
        },
        "6f105710069c453a8d7fda2f9bd963b9": {
          "model_module": "@jupyter-widgets/base",
          "model_name": "LayoutModel",
          "state": {
            "_view_name": "LayoutView",
            "grid_template_rows": null,
            "right": null,
            "justify_content": null,
            "_view_module": "@jupyter-widgets/base",
            "overflow": null,
            "_model_module_version": "1.2.0",
            "_view_count": null,
            "flex_flow": null,
            "width": null,
            "min_width": null,
            "border": null,
            "align_items": null,
            "bottom": null,
            "_model_module": "@jupyter-widgets/base",
            "top": null,
            "grid_column": null,
            "overflow_y": null,
            "overflow_x": null,
            "grid_auto_flow": null,
            "grid_area": null,
            "grid_template_columns": null,
            "flex": null,
            "_model_name": "LayoutModel",
            "justify_items": null,
            "grid_row": null,
            "max_height": null,
            "align_content": null,
            "visibility": null,
            "align_self": null,
            "height": null,
            "min_height": null,
            "padding": null,
            "grid_auto_rows": null,
            "grid_gap": null,
            "max_width": null,
            "order": null,
            "_view_module_version": "1.2.0",
            "grid_template_areas": null,
            "object_position": null,
            "object_fit": null,
            "grid_auto_columns": null,
            "margin": null,
            "display": null,
            "left": null
          }
        },
        "ac95f47060cd4502b7eb85b7be270b0a": {
          "model_module": "@jupyter-widgets/controls",
          "model_name": "DescriptionStyleModel",
          "state": {
            "_view_name": "StyleView",
            "_model_name": "DescriptionStyleModel",
            "description_width": "",
            "_view_module": "@jupyter-widgets/base",
            "_model_module_version": "1.5.0",
            "_view_count": null,
            "_view_module_version": "1.2.0",
            "_model_module": "@jupyter-widgets/controls"
          }
        },
        "502bc9b654ef44ff9ec5ed114a565c7a": {
          "model_module": "@jupyter-widgets/base",
          "model_name": "LayoutModel",
          "state": {
            "_view_name": "LayoutView",
            "grid_template_rows": null,
            "right": null,
            "justify_content": null,
            "_view_module": "@jupyter-widgets/base",
            "overflow": null,
            "_model_module_version": "1.2.0",
            "_view_count": null,
            "flex_flow": null,
            "width": null,
            "min_width": null,
            "border": null,
            "align_items": null,
            "bottom": null,
            "_model_module": "@jupyter-widgets/base",
            "top": null,
            "grid_column": null,
            "overflow_y": null,
            "overflow_x": null,
            "grid_auto_flow": null,
            "grid_area": null,
            "grid_template_columns": null,
            "flex": null,
            "_model_name": "LayoutModel",
            "justify_items": null,
            "grid_row": null,
            "max_height": null,
            "align_content": null,
            "visibility": null,
            "align_self": null,
            "height": null,
            "min_height": null,
            "padding": null,
            "grid_auto_rows": null,
            "grid_gap": null,
            "max_width": null,
            "order": null,
            "_view_module_version": "1.2.0",
            "grid_template_areas": null,
            "object_position": null,
            "object_fit": null,
            "grid_auto_columns": null,
            "margin": null,
            "display": null,
            "left": null
          }
        }
      }
    }
  },
  "cells": [
    {
      "cell_type": "markdown",
      "metadata": {
        "id": "view-in-github",
        "colab_type": "text"
      },
      "source": [
        "<a href=\"https://colab.research.google.com/github/shashikg/speaker_diarization_ee698/blob/main/LIVE_DEMO.ipynb\" target=\"_parent\"><img src=\"https://colab.research.google.com/assets/colab-badge.svg\" alt=\"Open In Colab\"/></a>"
      ]
    },
    {
      "cell_type": "markdown",
      "metadata": {
        "id": "pGlRbfb6p_Ru"
      },
      "source": [
        "# **Import libraries and packages**"
      ]
    },
    {
      "cell_type": "code",
      "metadata": {
        "id": "sGLSR68nkxmW",
        "colab": {
          "base_uri": "https://localhost:8080/"
        },
        "outputId": "b31c8931-2300-410d-eb71-8a651daf2ba0"
      },
      "source": [
        "!pip install gdown -q\n",
        "!pip install torchaudio -q --no-deps\n",
        "!pip install speechbrain -q\n",
        "!pip install spectralcluster -q\n",
        "!pip install pyannote.metrics -q"
      ],
      "execution_count": 1,
      "outputs": [
        {
          "output_type": "stream",
          "text": [
            "\u001b[K     |████████████████████████████████| 1.9MB 30.2MB/s \n",
            "\u001b[K     |████████████████████████████████| 358kB 28.9MB/s \n",
            "\u001b[K     |████████████████████████████████| 1.2MB 40.6MB/s \n",
            "\u001b[K     |████████████████████████████████| 102kB 11.5MB/s \n",
            "\u001b[K     |████████████████████████████████| 645kB 44.1MB/s \n",
            "\u001b[K     |████████████████████████████████| 552kB 42.2MB/s \n",
            "\u001b[K     |████████████████████████████████| 51kB 7.1MB/s \n",
            "\u001b[K     |████████████████████████████████| 61kB 9.4MB/s \n",
            "\u001b[K     |████████████████████████████████| 51kB 8.4MB/s \n",
            "\u001b[K     |████████████████████████████████| 133kB 42.9MB/s \n",
            "\u001b[?25h"
          ],
          "name": "stdout"
        }
      ]
    },
    {
      "cell_type": "code",
      "metadata": {
        "colab": {
          "base_uri": "https://localhost:8080/"
        },
        "id": "SsAbMm58musp",
        "outputId": "cd70e3e7-d755-41a8-ba16-4d0f5bb39657"
      },
      "source": [
        "%pylab inline"
      ],
      "execution_count": 2,
      "outputs": [
        {
          "output_type": "stream",
          "text": [
            "Populating the interactive namespace from numpy and matplotlib\n"
          ],
          "name": "stdout"
        }
      ]
    },
    {
      "cell_type": "code",
      "metadata": {
        "colab": {
          "base_uri": "https://localhost:8080/"
        },
        "id": "17S8w5unlbYa",
        "outputId": "af1eb579-c49d-4e45-d545-5d9f0620b226"
      },
      "source": [
        "import os\n",
        "# Download utilDemo module\n",
        "!gdown --id 1XttlFwJScsaGnWSrGJFNBECBTJ1inyE-\n",
        "os.rename('utilsDemo.py', 'utils.py')\n",
        "\n",
        "# Download DEC module\n",
        "!gdown --id 1FWIRF2Kq6JB0fFHwjkZmVfEuGq0-SSC5\n",
        "\n",
        "# Download optimalSpeaker.py\n",
        "!gdown --id 1hbepzjAxHTQS5QoAlKNP9zK0nMxdjauJ"
      ],
      "execution_count": 3,
      "outputs": [
        {
          "output_type": "stream",
          "text": [
            "Downloading...\n",
            "From: https://drive.google.com/uc?id=1XttlFwJScsaGnWSrGJFNBECBTJ1inyE-\n",
            "To: /content/utilsDemo.py\n",
            "100% 9.65k/9.65k [00:00<00:00, 15.9MB/s]\n",
            "Downloading...\n",
            "From: https://drive.google.com/uc?id=1FWIRF2Kq6JB0fFHwjkZmVfEuGq0-SSC5\n",
            "To: /content/DEC.py\n",
            "100% 10.1k/10.1k [00:00<00:00, 16.2MB/s]\n",
            "Downloading...\n",
            "From: https://drive.google.com/uc?id=1hbepzjAxHTQS5QoAlKNP9zK0nMxdjauJ\n",
            "To: /content/optimumSpeaker.py\n",
            "100% 7.08k/7.08k [00:00<00:00, 21.3MB/s]\n"
          ],
          "name": "stdout"
        }
      ]
    },
    {
      "cell_type": "code",
      "metadata": {
        "id": "NoBR6Vs5m2YU"
      },
      "source": [
        "from __future__ import print_function, division\n",
        "import numpy as np\n",
        "import matplotlib.pyplot as plt\n",
        "import torchaudio\n",
        "import os\n",
        "import torch\n",
        "from torch.utils.data import Dataset, DataLoader\n",
        "from speechbrain.pretrained import SpeakerRecognition\n",
        "import warnings\n",
        "warnings.filterwarnings('ignore')\n",
        "\n",
        "from pyannote.database.util import load_rttm\n",
        "from pyannote.metrics.diarization import DiarizationErrorRate\n",
        "from pyannote.core import Annotation, Segment, notebook\n",
        "\n",
        "import cv2\n",
        "from google.colab.patches import cv2_imshow\n",
        "from skimage import io\n",
        "from PIL import Image \n",
        "import matplotlib.pylab as plt\n",
        "\n",
        "from sklearn.cluster import KMeans, SpectralClustering\n",
        "from sklearn import decomposition\n",
        "from tqdm.auto import tqdm\n",
        "\n",
        "from utils import DiarizationDataSet, make_rttm, get_metrics\n",
        "import optimumSpeaker\n",
        "from DEC import diarizationDEC\n",
        "\n",
        "import shutil\n",
        "import pandas as pd\n",
        "from google.colab import files"
      ],
      "execution_count": 4,
      "outputs": []
    },
    {
      "cell_type": "markdown",
      "metadata": {
        "id": "Fkneghn9p3gu"
      },
      "source": [
        "# **DEMO ON NEWS DEBATE NDTV**"
      ]
    },
    {
      "cell_type": "markdown",
      "metadata": {
        "id": "EH4ubS-iDMd8"
      },
      "source": [
        "## **Import Debate Data**"
      ]
    },
    {
      "cell_type": "code",
      "metadata": {
        "colab": {
          "base_uri": "https://localhost:8080/"
        },
        "id": "W7YaQR4xnEk6",
        "outputId": "0f096272-ccdb-4539-a5bd-1a3e695c6c1b"
      },
      "source": [
        "# Demo debate video\n",
        "!gdown --id 18ukjckXFO4zm6UeR6CDiz3hJQdFammPX\n",
        "\n",
        "# Demo debate audio\n",
        "!gdown --id 12yxgfvcK-rqKC1Wd-Ba_fQQji6krGpW-\n",
        "\n",
        "# Demo debate true labels\n",
        "!gdown --id 1grAU_M8piW8IhGKkvEliv2HVAL20uRqJ"
      ],
      "execution_count": 5,
      "outputs": [
        {
          "output_type": "stream",
          "text": [
            "Downloading...\n",
            "From: https://drive.google.com/uc?id=18ukjckXFO4zm6UeR6CDiz3hJQdFammPX\n",
            "To: /content/debate.mp4\n",
            "30.8MB [00:00, 98.1MB/s]\n",
            "Downloading...\n",
            "From: https://drive.google.com/uc?id=12yxgfvcK-rqKC1Wd-Ba_fQQji6krGpW-\n",
            "To: /content/debate.wav\n",
            "57.1MB [00:00, 79.9MB/s]\n",
            "Downloading...\n",
            "From: https://drive.google.com/uc?id=1grAU_M8piW8IhGKkvEliv2HVAL20uRqJ\n",
            "To: /content/debate.rttm\n",
            "100% 886/886 [00:00<00:00, 767kB/s]\n"
          ],
          "name": "stdout"
        }
      ]
    },
    {
      "cell_type": "code",
      "metadata": {
        "colab": {
          "base_uri": "https://localhost:8080/"
        },
        "id": "-s-K_pNOqRfA",
        "outputId": "e3b86c4b-af76-47ea-a04a-84e37bc1d240"
      },
      "source": [
        "!mkdir audio\n",
        "!mkdir label\n",
        "shutil.move('./debate.wav','./audio/debate.wav')\n",
        "shutil.move('./debate.rttm','./label/debate.rttm')\n",
        "print(\"Files loaded for demo\")"
      ],
      "execution_count": 6,
      "outputs": [
        {
          "output_type": "stream",
          "text": [
            "Files loaded for demo\n"
          ],
          "name": "stdout"
        }
      ]
    },
    {
      "cell_type": "markdown",
      "metadata": {
        "id": "1acRQd-hyIEB"
      },
      "source": [
        "## **Run Diarization**"
      ]
    },
    {
      "cell_type": "code",
      "metadata": {
        "colab": {
          "base_uri": "https://localhost:8080/"
        },
        "id": "3CtgLVonR4UH",
        "outputId": "06d64392-249e-42cc-b077-57ec77cc0ff3"
      },
      "source": [
        "if torch.cuda.is_available() == True:\n",
        "  print(\"GPU:\",torch.cuda.get_device_name(0))\n",
        "else:\n",
        "  print('CPU')"
      ],
      "execution_count": 7,
      "outputs": [
        {
          "output_type": "stream",
          "text": [
            "GPU: Tesla T4\n"
          ],
          "name": "stdout"
        }
      ]
    },
    {
      "cell_type": "code",
      "metadata": {
        "colab": {
          "base_uri": "https://localhost:8080/",
          "height": 296,
          "referenced_widgets": [
            "4700f09e9bfd4322827b4ed9e7ba1cfb",
            "84fab95bcf1c4e56b0366e54921f09b6",
            "50a027e739ae4edabe7df849169039a3",
            "5896f0b80a0140c891a1362eff0fed5d",
            "ae97f7ace7e941f48baadfd3bb81658e",
            "d340af4993c6404db71df01a1cd429b9",
            "ecf25bc4e93a48a1a2cecdb9f926607a",
            "134a574180104cdda02897d9c5dd538a",
            "d3507430ad6744818131606fc0a08eb5",
            "6383129042da4f508d1c45f7f75cb218",
            "19d65eb08e3d4a859362707e3c0785ec",
            "4bb0d4234a6340bf905879484c5fa07c",
            "37b16c5439aa4fe3a03de7028b74e132",
            "3493e6915ddb42b1bcd8846f59597d6c",
            "f09dcb69a3fc4a40b90bf5cbe77eacf8",
            "3762dc749532446aa59d02bfdbe274b2",
            "36037db53931484fb1c70337dcdd1a76",
            "5d33d3acf8b04d3083b7a572114f5d37",
            "06c2cb6dc736412ab0fee0b74dac7a8c",
            "1dfce916351b41cbac5533a5bff67bd9",
            "89dfbc04eb5f470ba162742498e1736d",
            "eee32feb4363418899ac1373c236ff2a",
            "ef7bd86544e44a288526bfe5ee539e98",
            "78b2e38d68c24abea89a743c8c72f00f",
            "d20a5423226146e0a2a7e3909a5e7d2c",
            "484922d230d94eea994f4dfd851534a8",
            "7731d4a22af543359b4ca5cc95ad7705",
            "d12cbc96d9694c16ad5a4a792d54be91",
            "a69a1bc3c0034a8d9e62bd1fe194b311",
            "a51e9379dc784816ae6e3bdd5cee0ead",
            "566f18345dfd4894bfa1d98bf0685057",
            "07a71b5bbef54010a1cd4c6554251df4",
            "b3c52b5654bd4aae83ceb01eda569391",
            "1ead304cbd3f47dda345f40e79d23cb4",
            "ca944355afa848bdb6a21d902f73d197",
            "6e04f085ff5b481f82229eb597d8cc62",
            "9ee6c4d8275b4c59bd8ccd35a6eda98b",
            "cf0d6b12be1b48008b1a313e2091b37f",
            "067added56664202b9b2badfb72020d8",
            "f28e649ca3284d0e9cab577621f193f3"
          ]
        },
        "id": "ua_sCT9xp216",
        "outputId": "f179564f-43c3-44cc-d6d7-0de7d5a51dbc"
      },
      "source": [
        "audio_dataset = DiarizationDataSet(root_dir='./audio/',\n",
        "                                   label_dir = './label/',\n",
        "                                   sr = 16000, window_len = 1500, \n",
        "                                   window_step = 750,\n",
        "                                   transform = None,\n",
        "                                   batch_size_for_ecapa=512)\n",
        "print(\"Number of audio files:\",len(audio_dataset))"
      ],
      "execution_count": 8,
      "outputs": [
        {
          "output_type": "display_data",
          "data": {
            "application/vnd.jupyter.widget-view+json": {
              "model_id": "4700f09e9bfd4322827b4ed9e7ba1cfb",
              "version_minor": 0,
              "version_major": 2
            },
            "text/plain": [
              "HBox(children=(FloatProgress(value=0.0, description='Downloading', max=1920.0, style=ProgressStyle(description…"
            ]
          },
          "metadata": {
            "tags": []
          }
        },
        {
          "output_type": "stream",
          "text": [
            "\n"
          ],
          "name": "stdout"
        },
        {
          "output_type": "display_data",
          "data": {
            "application/vnd.jupyter.widget-view+json": {
              "model_id": "d3507430ad6744818131606fc0a08eb5",
              "version_minor": 0,
              "version_major": 2
            },
            "text/plain": [
              "HBox(children=(FloatProgress(value=0.0, description='Downloading', max=83316686.0, style=ProgressStyle(descrip…"
            ]
          },
          "metadata": {
            "tags": []
          }
        },
        {
          "output_type": "stream",
          "text": [
            "\n"
          ],
          "name": "stdout"
        },
        {
          "output_type": "display_data",
          "data": {
            "application/vnd.jupyter.widget-view+json": {
              "model_id": "36037db53931484fb1c70337dcdd1a76",
              "version_minor": 0,
              "version_major": 2
            },
            "text/plain": [
              "HBox(children=(FloatProgress(value=0.0, description='Downloading', max=1921.0, style=ProgressStyle(description…"
            ]
          },
          "metadata": {
            "tags": []
          }
        },
        {
          "output_type": "stream",
          "text": [
            "\n"
          ],
          "name": "stdout"
        },
        {
          "output_type": "display_data",
          "data": {
            "application/vnd.jupyter.widget-view+json": {
              "model_id": "d20a5423226146e0a2a7e3909a5e7d2c",
              "version_minor": 0,
              "version_major": 2
            },
            "text/plain": [
              "HBox(children=(FloatProgress(value=0.0, description='Downloading', max=5534328.0, style=ProgressStyle(descript…"
            ]
          },
          "metadata": {
            "tags": []
          }
        },
        {
          "output_type": "stream",
          "text": [
            "\n"
          ],
          "name": "stdout"
        },
        {
          "output_type": "display_data",
          "data": {
            "application/vnd.jupyter.widget-view+json": {
              "model_id": "b3c52b5654bd4aae83ceb01eda569391",
              "version_minor": 0,
              "version_major": 2
            },
            "text/plain": [
              "HBox(children=(FloatProgress(value=0.0, description='Downloading', max=128619.0, style=ProgressStyle(descripti…"
            ]
          },
          "metadata": {
            "tags": []
          }
        },
        {
          "output_type": "stream",
          "text": [
            "\n"
          ],
          "name": "stdout"
        },
        {
          "output_type": "stream",
          "text": [
            "Downloading: \"https://github.com/snakers4/silero-vad/archive/master.zip\" to /root/.cache/torch/hub/master.zip\n"
          ],
          "name": "stderr"
        },
        {
          "output_type": "stream",
          "text": [
            "Number of audio files: 1\n"
          ],
          "name": "stdout"
        }
      ]
    },
    {
      "cell_type": "code",
      "metadata": {
        "colab": {
          "base_uri": "https://localhost:8080/",
          "height": 117,
          "referenced_widgets": [
            "b6c6440b675f47d68c5084cb52ff9f0b",
            "615c88f6c7b348db89967b298ccda064",
            "952662566fee47a4b845e10ea888eeff",
            "9a2d81b6e0dd4e3f9b029661ad22824f",
            "bb89f2e389af4b94929347d77763c262",
            "07ffb2f9c020421db5f00c351b2e55a3",
            "a24ac6fceeb74d109ebe2d1a1be6cb84",
            "52c7f9bcdb234866887a18a3fbb43527"
          ]
        },
        "id": "x_snap1nO4U1",
        "outputId": "a9e485f0-286d-4bf1-bc6a-7da930f930ab"
      },
      "source": [
        "hypothesis_dir = diarizationDEC(audio_dataset)"
      ],
      "execution_count": 9,
      "outputs": [
        {
          "output_type": "display_data",
          "data": {
            "application/vnd.jupyter.widget-view+json": {
              "model_id": "b6c6440b675f47d68c5084cb52ff9f0b",
              "version_minor": 0,
              "version_major": 2
            },
            "text/plain": [
              "HBox(children=(FloatProgress(value=0.0, max=1.0), HTML(value='')))"
            ]
          },
          "metadata": {
            "tags": []
          }
        },
        {
          "output_type": "stream",
          "text": [
            "Downloading pre-trained weights for auto encoder...\n",
            "Downloading Complete!\n",
            "\n",
            "\n"
          ],
          "name": "stdout"
        }
      ]
    },
    {
      "cell_type": "code",
      "metadata": {
        "colab": {
          "base_uri": "https://localhost:8080/"
        },
        "id": "Z62j7XSb9Rg6",
        "outputId": "dec68ff3-848d-4c1a-ef27-8549567eb1b1"
      },
      "source": [
        "metric = DiarizationErrorRate()\n",
        "filename = 'debate.rttm'\n",
        "groundtruth = load_rttm('./label/debate.rttm')['debate']\n",
        "hypothesis = load_rttm('./rttm_output/debate.rttm')['debate']\n",
        "metric(groundtruth, hypothesis)\n",
        "print(metric)"
      ],
      "execution_count": 10,
      "outputs": [
        {
          "output_type": "stream",
          "text": [
            "       diarization error rate  total correct correct false alarm false alarm missed detection missed detection confusion confusion\n",
            "                            %                      %                       %                                 %                   %\n",
            "item                                                                                                                              \n",
            "debate                   4.39 328.28  315.53   96.12        1.67        0.51             7.07             2.16      5.68      1.73\n",
            "TOTAL                    4.39 328.28  315.53   96.12        1.67        0.51             7.07             2.16      5.68      1.73\n"
          ],
          "name": "stdout"
        }
      ]
    },
    {
      "cell_type": "code",
      "metadata": {
        "colab": {
          "base_uri": "https://localhost:8080/",
          "height": 225
        },
        "id": "g4bRuD9XIVSP",
        "outputId": "de925ac0-d8eb-45e0-808c-0d89fb1249ae"
      },
      "source": [
        "notebook.width = 10\n",
        "plt.rcParams['figure.figsize'] = (notebook.width, 3)\n",
        "# plot reference\n",
        "plt.subplot(211)\n",
        "notebook.plot_annotation(groundtruth, legend=True, time=False)\n",
        "plt.gca().text(0.6, 0.15, 'groundtruth', fontsize=16)\n",
        "\n",
        "# plot hypothesis\n",
        "plt.subplot(212)\n",
        "mapping = metric.optimal_mapping(groundtruth, hypothesis)\n",
        "notebook.plot_annotation(hypothesis.rename_labels(mapping = mapping), legend=True, time=True)\n",
        "plt.gca().text(0.6, 0.15, 'hypothesis', fontsize=16)\n",
        "\n",
        "plt.tight_layout()\n",
        "\n",
        "plt.show()"
      ],
      "execution_count": 11,
      "outputs": [
        {
          "output_type": "display_data",
          "data": {
            "image/png": "[encoded data removed]",
            "text/plain": [
              "<Figure size 720x216 with 2 Axes>"
            ]
          },
          "metadata": {
            "tags": [],
            "needs_background": "light"
          }
        }
      ]
    },
    {
      "cell_type": "markdown",
      "metadata": {
        "id": "FDBSMsTVXGl5"
      },
      "source": [
        "## **Video Processing**"
      ]
    },
    {
      "cell_type": "code",
      "metadata": {
        "id": "LSX_FJaZP-_B",
        "colab": {
          "base_uri": "https://localhost:8080/"
        },
        "outputId": "f0aa73c9-311a-4a21-87e3-bf11cefd1843"
      },
      "source": [
        "from IPython.display import display\n",
        "from PIL import Image\n",
        "!pip install scikit-video -q\n",
        "from skvideo.io import FFmpegWriter as VideoWriter\n",
        "!pip install moviepy -q\n",
        "import moviepy.editor as mpe"
      ],
      "execution_count": 12,
      "outputs": [
        {
          "output_type": "stream",
          "text": [
            "\u001b[?25l\r\u001b[K     |▏                               | 10kB 22.6MB/s eta 0:00:01\r\u001b[K     |▎                               | 20kB 29.8MB/s eta 0:00:01\r\u001b[K     |▍                               | 30kB 34.9MB/s eta 0:00:01\r\u001b[K     |▋                               | 40kB 31.9MB/s eta 0:00:01\r\u001b[K     |▊                               | 51kB 33.4MB/s eta 0:00:01\r\u001b[K     |▉                               | 61kB 33.3MB/s eta 0:00:01\r\u001b[K     |█                               | 71kB 27.3MB/s eta 0:00:01\r\u001b[K     |█▏                              | 81kB 28.4MB/s eta 0:00:01\r\u001b[K     |█▎                              | 92kB 27.1MB/s eta 0:00:01\r\u001b[K     |█▌                              | 102kB 28.7MB/s eta 0:00:01\r\u001b[K     |█▋                              | 112kB 28.7MB/s eta 0:00:01\r\u001b[K     |█▊                              | 122kB 28.7MB/s eta 0:00:01\r\u001b[K     |██                              | 133kB 28.7MB/s eta 0:00:01\r\u001b[K     |██                              | 143kB 28.7MB/s eta 0:00:01\r\u001b[K     |██▏                             | 153kB 28.7MB/s eta 0:00:01\r\u001b[K     |██▎                             | 163kB 28.7MB/s eta 0:00:01\r\u001b[K     |██▌                             | 174kB 28.7MB/s eta 0:00:01\r\u001b[K     |██▋                             | 184kB 28.7MB/s eta 0:00:01\r\u001b[K     |██▊                             | 194kB 28.7MB/s eta 0:00:01\r\u001b[K     |███                             | 204kB 28.7MB/s eta 0:00:01\r\u001b[K     |███                             | 215kB 28.7MB/s eta 0:00:01\r\u001b[K     |███▏                            | 225kB 28.7MB/s eta 0:00:01\r\u001b[K     |███▍                            | 235kB 28.7MB/s eta 0:00:01\r\u001b[K     |███▌                            | 245kB 28.7MB/s eta 0:00:01\r\u001b[K     |███▋                            | 256kB 28.7MB/s eta 0:00:01\r\u001b[K     |███▉                            | 266kB 28.7MB/s eta 0:00:01\r\u001b[K     |████                            | 276kB 28.7MB/s eta 0:00:01\r\u001b[K     |████                            | 286kB 28.7MB/s eta 0:00:01\r\u001b[K     |████▏                           | 296kB 28.7MB/s eta 0:00:01\r\u001b[K     |████▍                           | 307kB 28.7MB/s eta 0:00:01\r\u001b[K     |████▌                           | 317kB 28.7MB/s eta 0:00:01\r\u001b[K     |████▋                           | 327kB 28.7MB/s eta 0:00:01\r\u001b[K     |████▉                           | 337kB 28.7MB/s eta 0:00:01\r\u001b[K     |█████                           | 348kB 28.7MB/s eta 0:00:01\r\u001b[K     |█████                           | 358kB 28.7MB/s eta 0:00:01\r\u001b[K     |█████▎                          | 368kB 28.7MB/s eta 0:00:01\r\u001b[K     |█████▍                          | 378kB 28.7MB/s eta 0:00:01\r\u001b[K     |█████▌                          | 389kB 28.7MB/s eta 0:00:01\r\u001b[K     |█████▊                          | 399kB 28.7MB/s eta 0:00:01\r\u001b[K     |█████▉                          | 409kB 28.7MB/s eta 0:00:01\r\u001b[K     |██████                          | 419kB 28.7MB/s eta 0:00:01\r\u001b[K     |██████                          | 430kB 28.7MB/s eta 0:00:01\r\u001b[K     |██████▎                         | 440kB 28.7MB/s eta 0:00:01\r\u001b[K     |██████▍                         | 450kB 28.7MB/s eta 0:00:01\r\u001b[K     |██████▌                         | 460kB 28.7MB/s eta 0:00:01\r\u001b[K     |██████▊                         | 471kB 28.7MB/s eta 0:00:01\r\u001b[K     |██████▉                         | 481kB 28.7MB/s eta 0:00:01\r\u001b[K     |███████                         | 491kB 28.7MB/s eta 0:00:01\r\u001b[K     |███████▏                        | 501kB 28.7MB/s eta 0:00:01\r\u001b[K     |███████▎                        | 512kB 28.7MB/s eta 0:00:01\r\u001b[K     |███████▍                        | 522kB 28.7MB/s eta 0:00:01\r\u001b[K     |███████▋                        | 532kB 28.7MB/s eta 0:00:01\r\u001b[K     |███████▊                        | 542kB 28.7MB/s eta 0:00:01\r\u001b[K     |███████▉                        | 552kB 28.7MB/s eta 0:00:01\r\u001b[K     |████████                        | 563kB 28.7MB/s eta 0:00:01\r\u001b[K     |████████▏                       | 573kB 28.7MB/s eta 0:00:01\r\u001b[K     |████████▎                       | 583kB 28.7MB/s eta 0:00:01\r\u001b[K     |████████▍                       | 593kB 28.7MB/s eta 0:00:01\r\u001b[K     |████████▋                       | 604kB 28.7MB/s eta 0:00:01\r\u001b[K     |████████▊                       | 614kB 28.7MB/s eta 0:00:01\r\u001b[K     |████████▉                       | 624kB 28.7MB/s eta 0:00:01\r\u001b[K     |█████████                       | 634kB 28.7MB/s eta 0:00:01\r\u001b[K     |█████████▏                      | 645kB 28.7MB/s eta 0:00:01\r\u001b[K     |█████████▎                      | 655kB 28.7MB/s eta 0:00:01\r\u001b[K     |█████████▌                      | 665kB 28.7MB/s eta 0:00:01\r\u001b[K     |█████████▋                      | 675kB 28.7MB/s eta 0:00:01\r\u001b[K     |█████████▊                      | 686kB 28.7MB/s eta 0:00:01\r\u001b[K     |█████████▉                      | 696kB 28.7MB/s eta 0:00:01\r\u001b[K     |██████████                      | 706kB 28.7MB/s eta 0:00:01\r\u001b[K     |██████████▏                     | 716kB 28.7MB/s eta 0:00:01\r\u001b[K     |██████████▎                     | 727kB 28.7MB/s eta 0:00:01\r\u001b[K     |██████████▌                     | 737kB 28.7MB/s eta 0:00:01\r\u001b[K     |██████████▋                     | 747kB 28.7MB/s eta 0:00:01\r\u001b[K     |██████████▊                     | 757kB 28.7MB/s eta 0:00:01\r\u001b[K     |███████████                     | 768kB 28.7MB/s eta 0:00:01\r\u001b[K     |███████████                     | 778kB 28.7MB/s eta 0:00:01\r\u001b[K     |███████████▏                    | 788kB 28.7MB/s eta 0:00:01\r\u001b[K     |███████████▍                    | 798kB 28.7MB/s eta 0:00:01\r\u001b[K     |███████████▌                    | 808kB 28.7MB/s eta 0:00:01\r\u001b[K     |███████████▋                    | 819kB 28.7MB/s eta 0:00:01\r\u001b[K     |███████████▊                    | 829kB 28.7MB/s eta 0:00:01\r\u001b[K     |████████████                    | 839kB 28.7MB/s eta 0:00:01\r\u001b[K     |████████████                    | 849kB 28.7MB/s eta 0:00:01\r\u001b[K     |████████████▏                   | 860kB 28.7MB/s eta 0:00:01\r\u001b[K     |████████████▍                   | 870kB 28.7MB/s eta 0:00:01\r\u001b[K     |████████████▌                   | 880kB 28.7MB/s eta 0:00:01\r\u001b[K     |████████████▋                   | 890kB 28.7MB/s eta 0:00:01\r\u001b[K     |████████████▉                   | 901kB 28.7MB/s eta 0:00:01\r\u001b[K     |█████████████                   | 911kB 28.7MB/s eta 0:00:01\r\u001b[K     |█████████████                   | 921kB 28.7MB/s eta 0:00:01\r\u001b[K     |█████████████▎                  | 931kB 28.7MB/s eta 0:00:01\r\u001b[K     |█████████████▍                  | 942kB 28.7MB/s eta 0:00:01\r\u001b[K     |█████████████▌                  | 952kB 28.7MB/s eta 0:00:01\r\u001b[K     |█████████████▋                  | 962kB 28.7MB/s eta 0:00:01\r\u001b[K     |█████████████▉                  | 972kB 28.7MB/s eta 0:00:01\r\u001b[K     |██████████████                  | 983kB 28.7MB/s eta 0:00:01\r\u001b[K     |██████████████                  | 993kB 28.7MB/s eta 0:00:01\r\u001b[K     |██████████████▎                 | 1.0MB 28.7MB/s eta 0:00:01\r\u001b[K     |██████████████▍                 | 1.0MB 28.7MB/s eta 0:00:01\r\u001b[K     |██████████████▌                 | 1.0MB 28.7MB/s eta 0:00:01\r\u001b[K     |██████████████▊                 | 1.0MB 28.7MB/s eta 0:00:01\r\u001b[K     |██████████████▉                 | 1.0MB 28.7MB/s eta 0:00:01\r\u001b[K     |███████████████                 | 1.1MB 28.7MB/s eta 0:00:01\r\u001b[K     |███████████████▏                | 1.1MB 28.7MB/s eta 0:00:01\r\u001b[K     |███████████████▎                | 1.1MB 28.7MB/s eta 0:00:01\r\u001b[K     |███████████████▍                | 1.1MB 28.7MB/s eta 0:00:01\r\u001b[K     |███████████████▌                | 1.1MB 28.7MB/s eta 0:00:01\r\u001b[K     |███████████████▊                | 1.1MB 28.7MB/s eta 0:00:01\r\u001b[K     |███████████████▉                | 1.1MB 28.7MB/s eta 0:00:01\r\u001b[K     |████████████████                | 1.1MB 28.7MB/s eta 0:00:01\r\u001b[K     |████████████████▏               | 1.1MB 28.7MB/s eta 0:00:01\r\u001b[K     |████████████████▎               | 1.1MB 28.7MB/s eta 0:00:01\r\u001b[K     |████████████████▍               | 1.2MB 28.7MB/s eta 0:00:01\r\u001b[K     |████████████████▋               | 1.2MB 28.7MB/s eta 0:00:01\r\u001b[K     |████████████████▊               | 1.2MB 28.7MB/s eta 0:00:01\r\u001b[K     |████████████████▉               | 1.2MB 28.7MB/s eta 0:00:01\r\u001b[K     |█████████████████               | 1.2MB 28.7MB/s eta 0:00:01\r\u001b[K     |█████████████████▏              | 1.2MB 28.7MB/s eta 0:00:01\r\u001b[K     |█████████████████▎              | 1.2MB 28.7MB/s eta 0:00:01\r\u001b[K     |█████████████████▍              | 1.2MB 28.7MB/s eta 0:00:01\r\u001b[K     |█████████████████▋              | 1.2MB 28.7MB/s eta 0:00:01\r\u001b[K     |█████████████████▊              | 1.2MB 28.7MB/s eta 0:00:01\r\u001b[K     |█████████████████▉              | 1.3MB 28.7MB/s eta 0:00:01\r\u001b[K     |██████████████████              | 1.3MB 28.7MB/s eta 0:00:01\r\u001b[K     |██████████████████▏             | 1.3MB 28.7MB/s eta 0:00:01\r\u001b[K     |██████████████████▎             | 1.3MB 28.7MB/s eta 0:00:01\r\u001b[K     |██████████████████▌             | 1.3MB 28.7MB/s eta 0:00:01\r\u001b[K     |██████████████████▋             | 1.3MB 28.7MB/s eta 0:00:01\r\u001b[K     |██████████████████▊             | 1.3MB 28.7MB/s eta 0:00:01\r\u001b[K     |███████████████████             | 1.3MB 28.7MB/s eta 0:00:01\r\u001b[K     |███████████████████             | 1.3MB 28.7MB/s eta 0:00:01\r\u001b[K     |███████████████████▏            | 1.4MB 28.7MB/s eta 0:00:01\r\u001b[K     |███████████████████▎            | 1.4MB 28.7MB/s eta 0:00:01\r\u001b[K     |███████████████████▌            | 1.4MB 28.7MB/s eta 0:00:01\r\u001b[K     |███████████████████▋            | 1.4MB 28.7MB/s eta 0:00:01\r\u001b[K     |███████████████████▊            | 1.4MB 28.7MB/s eta 0:00:01\r\u001b[K     |████████████████████            | 1.4MB 28.7MB/s eta 0:00:01\r\u001b[K     |████████████████████            | 1.4MB 28.7MB/s eta 0:00:01\r\u001b[K     |████████████████████▏           | 1.4MB 28.7MB/s eta 0:00:01\r\u001b[K     |████████████████████▍           | 1.4MB 28.7MB/s eta 0:00:01\r\u001b[K     |████████████████████▌           | 1.4MB 28.7MB/s eta 0:00:01\r\u001b[K     |████████████████████▋           | 1.5MB 28.7MB/s eta 0:00:01\r\u001b[K     |████████████████████▉           | 1.5MB 28.7MB/s eta 0:00:01\r\u001b[K     |█████████████████████           | 1.5MB 28.7MB/s eta 0:00:01\r\u001b[K     |█████████████████████           | 1.5MB 28.7MB/s eta 0:00:01\r\u001b[K     |█████████████████████▏          | 1.5MB 28.7MB/s eta 0:00:01\r\u001b[K     |█████████████████████▍          | 1.5MB 28.7MB/s eta 0:00:01\r\u001b[K     |█████████████████████▌          | 1.5MB 28.7MB/s eta 0:00:01\r\u001b[K     |█████████████████████▋          | 1.5MB 28.7MB/s eta 0:00:01\r\u001b[K     |█████████████████████▉          | 1.5MB 28.7MB/s eta 0:00:01\r\u001b[K     |██████████████████████          | 1.5MB 28.7MB/s eta 0:00:01\r\u001b[K     |██████████████████████          | 1.6MB 28.7MB/s eta 0:00:01\r\u001b[K     |██████████████████████▎         | 1.6MB 28.7MB/s eta 0:00:01\r\u001b[K     |██████████████████████▍         | 1.6MB 28.7MB/s eta 0:00:01\r\u001b[K     |██████████████████████▌         | 1.6MB 28.7MB/s eta 0:00:01\r\u001b[K     |██████████████████████▊         | 1.6MB 28.7MB/s eta 0:00:01\r\u001b[K     |██████████████████████▉         | 1.6MB 28.7MB/s eta 0:00:01\r\u001b[K     |███████████████████████         | 1.6MB 28.7MB/s eta 0:00:01\r\u001b[K     |███████████████████████         | 1.6MB 28.7MB/s eta 0:00:01\r\u001b[K     |███████████████████████▎        | 1.6MB 28.7MB/s eta 0:00:01\r\u001b[K     |███████████████████████▍        | 1.6MB 28.7MB/s eta 0:00:01\r\u001b[K     |███████████████████████▌        | 1.7MB 28.7MB/s eta 0:00:01\r\u001b[K     |███████████████████████▊        | 1.7MB 28.7MB/s eta 0:00:01\r\u001b[K     |███████████████████████▉        | 1.7MB 28.7MB/s eta 0:00:01\r\u001b[K     |████████████████████████        | 1.7MB 28.7MB/s eta 0:00:01\r\u001b[K     |████████████████████████▏       | 1.7MB 28.7MB/s eta 0:00:01\r\u001b[K     |████████████████████████▎       | 1.7MB 28.7MB/s eta 0:00:01\r\u001b[K     |████████████████████████▍       | 1.7MB 28.7MB/s eta 0:00:01\r\u001b[K     |████████████████████████▋       | 1.7MB 28.7MB/s eta 0:00:01\r\u001b[K     |████████████████████████▊       | 1.7MB 28.7MB/s eta 0:00:01\r\u001b[K     |████████████████████████▉       | 1.8MB 28.7MB/s eta 0:00:01\r\u001b[K     |█████████████████████████       | 1.8MB 28.7MB/s eta 0:00:01\r\u001b[K     |█████████████████████████▏      | 1.8MB 28.7MB/s eta 0:00:01\r\u001b[K     |█████████████████████████▎      | 1.8MB 28.7MB/s eta 0:00:01\r\u001b[K     |█████████████████████████▍      | 1.8MB 28.7MB/s eta 0:00:01\r\u001b[K     |█████████████████████████▋      | 1.8MB 28.7MB/s eta 0:00:01\r\u001b[K     |█████████████████████████▊      | 1.8MB 28.7MB/s eta 0:00:01\r\u001b[K     |█████████████████████████▉      | 1.8MB 28.7MB/s eta 0:00:01\r\u001b[K     |██████████████████████████      | 1.8MB 28.7MB/s eta 0:00:01\r\u001b[K     |██████████████████████████▏     | 1.8MB 28.7MB/s eta 0:00:01\r\u001b[K     |██████████████████████████▎     | 1.9MB 28.7MB/s eta 0:00:01\r\u001b[K     |██████████████████████████▌     | 1.9MB 28.7MB/s eta 0:00:01\r\u001b[K     |██████████████████████████▋     | 1.9MB 28.7MB/s eta 0:00:01\r\u001b[K     |██████████████████████████▊     | 1.9MB 28.7MB/s eta 0:00:01\r\u001b[K     |██████████████████████████▉     | 1.9MB 28.7MB/s eta 0:00:01\r\u001b[K     |███████████████████████████     | 1.9MB 28.7MB/s eta 0:00:01\r\u001b[K     |███████████████████████████▏    | 1.9MB 28.7MB/s eta 0:00:01\r\u001b[K     |███████████████████████████▎    | 1.9MB 28.7MB/s eta 0:00:01\r\u001b[K     |███████████████████████████▌    | 1.9MB 28.7MB/s eta 0:00:01\r\u001b[K     |███████████████████████████▋    | 1.9MB 28.7MB/s eta 0:00:01\r\u001b[K     |███████████████████████████▊    | 2.0MB 28.7MB/s eta 0:00:01\r\u001b[K     |████████████████████████████    | 2.0MB 28.7MB/s eta 0:00:01\r\u001b[K     |████████████████████████████    | 2.0MB 28.7MB/s eta 0:00:01\r\u001b[K     |████████████████████████████▏   | 2.0MB 28.7MB/s eta 0:00:01\r\u001b[K     |████████████████████████████▍   | 2.0MB 28.7MB/s eta 0:00:01\r\u001b[K     |████████████████████████████▌   | 2.0MB 28.7MB/s eta 0:00:01\r\u001b[K     |████████████████████████████▋   | 2.0MB 28.7MB/s eta 0:00:01\r\u001b[K     |████████████████████████████▊   | 2.0MB 28.7MB/s eta 0:00:01\r\u001b[K     |█████████████████████████████   | 2.0MB 28.7MB/s eta 0:00:01\r\u001b[K     |█████████████████████████████   | 2.0MB 28.7MB/s eta 0:00:01\r\u001b[K     |█████████████████████████████▏  | 2.1MB 28.7MB/s eta 0:00:01\r\u001b[K     |█████████████████████████████▍  | 2.1MB 28.7MB/s eta 0:00:01\r\u001b[K     |█████████████████████████████▌  | 2.1MB 28.7MB/s eta 0:00:01\r\u001b[K     |█████████████████████████████▋  | 2.1MB 28.7MB/s eta 0:00:01\r\u001b[K     |█████████████████████████████▉  | 2.1MB 28.7MB/s eta 0:00:01\r\u001b[K     |██████████████████████████████  | 2.1MB 28.7MB/s eta 0:00:01\r\u001b[K     |██████████████████████████████  | 2.1MB 28.7MB/s eta 0:00:01\r\u001b[K     |██████████████████████████████▎ | 2.1MB 28.7MB/s eta 0:00:01\r\u001b[K     |██████████████████████████████▍ | 2.1MB 28.7MB/s eta 0:00:01\r\u001b[K     |██████████████████████████████▌ | 2.2MB 28.7MB/s eta 0:00:01\r\u001b[K     |██████████████████████████████▋ | 2.2MB 28.7MB/s eta 0:00:01\r\u001b[K     |██████████████████████████████▉ | 2.2MB 28.7MB/s eta 0:00:01\r\u001b[K     |███████████████████████████████ | 2.2MB 28.7MB/s eta 0:00:01\r\u001b[K     |███████████████████████████████ | 2.2MB 28.7MB/s eta 0:00:01\r\u001b[K     |███████████████████████████████▎| 2.2MB 28.7MB/s eta 0:00:01\r\u001b[K     |███████████████████████████████▍| 2.2MB 28.7MB/s eta 0:00:01\r\u001b[K     |███████████████████████████████▌| 2.2MB 28.7MB/s eta 0:00:01\r\u001b[K     |███████████████████████████████▊| 2.2MB 28.7MB/s eta 0:00:01\r\u001b[K     |███████████████████████████████▉| 2.2MB 28.7MB/s eta 0:00:01\r\u001b[K     |████████████████████████████████| 2.3MB 28.7MB/s eta 0:00:01\r\u001b[K     |████████████████████████████████| 2.3MB 28.7MB/s \n",
            "\u001b[?25hImageio: 'ffmpeg-linux64-v3.3.1' was not found on your computer; downloading it now.\n",
            "Try 1. Download from https://github.com/imageio/imageio-binaries/raw/master/ffmpeg/ffmpeg-linux64-v3.3.1 (43.8 MB)\n",
            "Downloading: 8192/45929032 bytes (0.0%)\b\b\b\b\b\b\b\b\b\b\b\b\b\b\b\b\b\b\b\b\b\b\b\b\b\b3645440/45929032 bytes (7.9%)\b\b\b\b\b\b\b\b\b\b\b\b\b\b\b\b\b\b\b\b\b\b\b\b\b\b\b\b\b7503872/45929032 bytes (16.3%)\b\b\b\b\b\b\b\b\b\b\b\b\b\b\b\b\b\b\b\b\b\b\b\b\b\b\b\b\b\b11165696/45929032 bytes (24.3%)\b\b\b\b\b\b\b\b\b\b\b\b\b\b\b\b\b\b\b\b\b\b\b\b\b\b\b\b\b\b\b14958592/45929032 bytes (32.6%)\b\b\b\b\b\b\b\b\b\b\b\b\b\b\b\b\b\b\b\b\b\b\b\b\b\b\b\b\b\b\b18751488/45929032 bytes (40.8%)\b\b\b\b\b\b\b\b\b\b\b\b\b\b\b\b\b\b\b\b\b\b\b\b\b\b\b\b\b\b\b22487040/45929032 bytes (49.0%)\b\b\b\b\b\b\b\b\b\b\b\b\b\b\b\b\b\b\b\b\b\b\b\b\b\b\b\b\b\b\b26214400/45929032 bytes (57.1%)\b\b\b\b\b\b\b\b\b\b\b\b\b\b\b\b\b\b\b\b\b\b\b\b\b\b\b\b\b\b\b30113792/45929032 bytes (65.6%)\b\b\b\b\b\b\b\b\b\b\b\b\b\b\b\b\b\b\b\b\b\b\b\b\b\b\b\b\b\b\b33718272/45929032 bytes (73.4%)\b\b\b\b\b\b\b\b\b\b\b\b\b\b\b\b\b\b\b\b\b\b\b\b\b\b\b\b\b\b\b37273600/45929032 bytes (81.2%)\b\b\b\b\b\b\b\b\b\b\b\b\b\b\b\b\b\b\b\b\b\b\b\b\b\b\b\b\b\b\b41033728/45929032 bytes (89.3%)\b\b\b\b\b\b\b\b\b\b\b\b\b\b\b\b\b\b\b\b\b\b\b\b\b\b\b\b\b\b\b44711936/45929032 bytes (97.4%)\b\b\b\b\b\b\b\b\b\b\b\b\b\b\b\b\b\b\b\b\b\b\b\b\b\b\b\b\b\b\b45929032/45929032 bytes (100.0%)\n",
            "  Done\n",
            "File saved as /root/.imageio/ffmpeg/ffmpeg-linux64-v3.3.1.\n"
          ],
          "name": "stdout"
        }
      ]
    },
    {
      "cell_type": "code",
      "metadata": {
        "id": "8MHcN79vrpC7"
      },
      "source": [
        "def read_rttm(path):\n",
        "        '''\n",
        "        Read RTTM Diarization file\n",
        "        '''\n",
        "        rttm_out = [] # returns list of list containing start frame, end frame, spkid\n",
        "        with open(path, \"r\") as f:\n",
        "            for line in f:\n",
        "                entry = line[:-2].split()\n",
        "                indexes = [0, 1, 2, 5, 6, 8, 9]\n",
        "                for index in sorted(indexes, reverse=True):\n",
        "                    del entry[index]\n",
        "\n",
        "                entry[0] = int(float(entry[0])*16000) # Start frame\n",
        "                entry[1] = entry[0] + int(float(entry[1])*16000) # End frame\n",
        "                entry[2] = int(entry[2][-1:]) # Label\n",
        "                rttm_out.append(entry)\n",
        "                \n",
        "            # Sort rttm list according to start frame\n",
        "            rttm_out.sort(key = lambda x: x[0])\n",
        "\n",
        "        return np.array(rttm_out)\n",
        "\n",
        "def combine_audio(vidname, audname, outname, fps=25):\n",
        "    my_clip = mpe.VideoFileClip(vidname)\n",
        "    audio_background = mpe.AudioFileClip(audname)\n",
        "    final_clip = my_clip.set_audio(audio_background)\n",
        "    final_clip.write_videofile(outname,fps=fps)"
      ],
      "execution_count": 13,
      "outputs": []
    },
    {
      "cell_type": "code",
      "metadata": {
        "id": "iw3rUEFUlQr6"
      },
      "source": [
        "orig_video_dir = 'debate.mp4'\n",
        "cap = cv2.VideoCapture(orig_video_dir)\n",
        "n_frames = int(cap.get(cv2.CAP_PROP_FRAME_COUNT))\n",
        "W = int(cap.get(cv2.CAP_PROP_FRAME_WIDTH)) \n",
        "H = int(cap.get(cv2.CAP_PROP_FRAME_HEIGHT))\n",
        "fps = cap.get(cv2.CAP_PROP_FPS)"
      ],
      "execution_count": 14,
      "outputs": []
    },
    {
      "cell_type": "code",
      "metadata": {
        "id": "BgU3c6t0vdjS"
      },
      "source": [
        "hypothesis_labels = read_rttm('./rttm_output/debate.rttm')\n",
        "hypothesis_labels[:,0] = hypothesis_labels[:,0]*fps/16000 # start time in frames\n",
        "hypothesis_labels[:,1] = hypothesis_labels[:,1]*fps/16000 # end time in frames\n",
        "spk_dict = {\n",
        "    0: \"00\",\n",
        "    1: \"01\",\n",
        "    2: \"02\"\n",
        "}"
      ],
      "execution_count": 15,
      "outputs": []
    },
    {
      "cell_type": "code",
      "metadata": {
        "id": "GDfc7OGibn2X"
      },
      "source": [
        "# Create video writer\n",
        "out = VideoWriter('./debate_annotated.mp4', inputdict={'-r': str(fps)}, outputdict={'-r': str(fps)})\n",
        "\n",
        "if not cap.isOpened(): # check if video file is opened\n",
        "    cap.open()\n",
        "frame_count = 0\n",
        "curr_idx_hypo_array = 0\n",
        "currspk = \"Speaker: None\"\n",
        "while True:\n",
        "  ret, frame = cap.read()\n",
        "  frame_count = frame_count + 1\n",
        "  if ret == False:\n",
        "    break\n",
        "  \n",
        "  # font\n",
        "  font = cv2.FONT_HERSHEY_TRIPLEX \n",
        "  # org\n",
        "  org = (W//12 , H*3//4)\n",
        "  # fontScale\n",
        "  fontScale = 1\n",
        "  # WHITE color in BGR\n",
        "  color = (255, 255, 255)\n",
        "  # Line thickness of 2 px\n",
        "  thickness = 2\n",
        "  \n",
        "  # Get current speaker from hypothesis_labels array\n",
        "  if hypothesis_labels[curr_idx_hypo_array, 0] > frame_count:\n",
        "    currspk = \"Speaker: None\"\n",
        "  elif hypothesis_labels[curr_idx_hypo_array, 0] <= frame_count and\\\n",
        "    hypothesis_labels[curr_idx_hypo_array, 1] >= frame_count:\n",
        "    currspk = \"Speaker: \" + spk_dict[hypothesis_labels[curr_idx_hypo_array, 2]]\n",
        "  else:\n",
        "    curr_idx_hypo_array = min(curr_idx_hypo_array + 1, len(hypothesis_labels) - 1)\n",
        "    currspk = \"Speaker: None\"\n",
        "\n",
        "  # Using cv2.putText() method\n",
        "  frame_annotated = cv2.putText(frame, currspk, org, font, \n",
        "                    fontScale, [0,0,0], 2*thickness, cv2.LINE_AA) # Give black outline to text\n",
        "  frame_annotated = cv2.putText(frame, currspk, org, font, \n",
        "                    fontScale, color, thickness, cv2.LINE_AA)\n",
        "  frame_annotated = cv2.cvtColor(frame_annotated, cv2.COLOR_BGR2RGB)\n",
        "  out.writeFrame(frame_annotated)\n",
        "cap.release()\n",
        "out.close()\n",
        "cv2.destroyAllWindows()"
      ],
      "execution_count": 16,
      "outputs": []
    },
    {
      "cell_type": "code",
      "metadata": {
        "colab": {
          "base_uri": "https://localhost:8080/"
        },
        "id": "do0OoaxN5ofW",
        "outputId": "69622437-9f87-4db3-e25d-5339dfa6e45c"
      },
      "source": [
        "combine_audio('./debate_annotated.mp4', './audio/debate.wav', './debate_DER_output.mp4',fps = fps)"
      ],
      "execution_count": 17,
      "outputs": [
        {
          "output_type": "stream",
          "text": [
            "[MoviePy] >>>> Building video ./debate_DER_output.mp4\n",
            "[MoviePy] Writing audio in debate_DER_outputTEMP_MPY_wvf_snd.mp3\n"
          ],
          "name": "stdout"
        },
        {
          "output_type": "stream",
          "text": [
            "100%|██████████| 7139/7139 [00:06<00:00, 1060.58it/s]"
          ],
          "name": "stderr"
        },
        {
          "output_type": "stream",
          "text": [
            "[MoviePy] Done.\n",
            "[MoviePy] Writing video ./debate_DER_output.mp4\n"
          ],
          "name": "stdout"
        },
        {
          "output_type": "stream",
          "text": [
            "\n",
            "100%|█████████▉| 8090/8091 [01:01<00:00, 130.70it/s]\n"
          ],
          "name": "stderr"
        },
        {
          "output_type": "stream",
          "text": [
            "[MoviePy] Done.\n",
            "[MoviePy] >>>> Video ready: ./debate_DER_output.mp4 \n",
            "\n"
          ],
          "name": "stdout"
        }
      ]
    },
    {
      "cell_type": "code",
      "metadata": {
        "id": "dsJLsrQmycyq"
      },
      "source": [
        "from google.colab import files\n",
        "files.download('debate_DER_output.mp4') "
      ],
      "execution_count": null,
      "outputs": []
    },
    {
      "cell_type": "markdown",
      "metadata": {
        "id": "OGIXBO2vZJRa"
      },
      "source": [
        "# **DEMO ON RANDOM PRESENTATION**"
      ]
    },
    {
      "cell_type": "markdown",
      "metadata": {
        "id": "qzm0farZgJHh"
      },
      "source": [
        "## **Import Files**"
      ]
    },
    {
      "cell_type": "code",
      "metadata": {
        "colab": {
          "base_uri": "https://localhost:8080/"
        },
        "id": "70NqKWj7f0cs",
        "outputId": "c3126507-f1f5-438e-d5dd-cd52179cdd7f"
      },
      "source": [
        "# Demo presentation video\n",
        "!gdown --id 1JjrVmehlEVGqWaBxjcWgsSo8LLVVnsfx \n",
        "\n",
        "# Demo presentation audio\n",
        "!gdown --id 1lmpa7obLUjxCdlepM4grXLM6KQzYnibe\n",
        "\n",
        "# Demo presentation rttm\n",
        "!gdown --id 1DI91jSTh8lWBu8ffhad6B6BhiVmwyWto"
      ],
      "execution_count": 48,
      "outputs": [
        {
          "output_type": "stream",
          "text": [
            "Downloading...\n",
            "From: https://drive.google.com/uc?id=1JjrVmehlEVGqWaBxjcWgsSo8LLVVnsfx\n",
            "To: /content/presentation.mp4\n",
            "22.6MB [00:00, 72.0MB/s]\n",
            "Downloading...\n",
            "From: https://drive.google.com/uc?id=1lmpa7obLUjxCdlepM4grXLM6KQzYnibe\n",
            "To: /content/presentation.wav\n",
            "27.1MB [00:01, 21.4MB/s]\n",
            "Downloading...\n",
            "From: https://drive.google.com/uc?id=1DI91jSTh8lWBu8ffhad6B6BhiVmwyWto\n",
            "To: /content/presentation.rttm\n",
            "100% 960/960 [00:00<00:00, 1.57MB/s]\n"
          ],
          "name": "stdout"
        }
      ]
    },
    {
      "cell_type": "code",
      "metadata": {
        "id": "zypsPrLvgHe-",
        "colab": {
          "base_uri": "https://localhost:8080/"
        },
        "outputId": "a39d87df-529f-4ae6-a8e4-1197046c6238"
      },
      "source": [
        "!mkdir audio_pres\n",
        "!mkdir label_pres\n",
        "shutil.move('./presentation.wav','./audio_pres/presentation.wav')\n",
        "shutil.move('./presentation.rttm','./label_pres/presentation.rttm')\n",
        "print(\"Files loaded for demo\")"
      ],
      "execution_count": 49,
      "outputs": [
        {
          "output_type": "stream",
          "text": [
            "Files loaded for demo\n"
          ],
          "name": "stdout"
        }
      ]
    },
    {
      "cell_type": "code",
      "metadata": {
        "colab": {
          "base_uri": "https://localhost:8080/"
        },
        "id": "XP2KNypzgTuP",
        "outputId": "4cb36496-88cb-4379-b70d-d32e0b9db1b3"
      },
      "source": [
        "if torch.cuda.is_available() == True:\n",
        "  print(\"GPU:\",torch.cuda.get_device_name(0))\n",
        "else:\n",
        "  print('CPU')"
      ],
      "execution_count": 50,
      "outputs": [
        {
          "output_type": "stream",
          "text": [
            "GPU: Tesla T4\n"
          ],
          "name": "stdout"
        }
      ]
    },
    {
      "cell_type": "markdown",
      "metadata": {
        "id": "3VZa7jVKgURq"
      },
      "source": [
        "## **Run Diarization**"
      ]
    },
    {
      "cell_type": "code",
      "metadata": {
        "colab": {
          "base_uri": "https://localhost:8080/"
        },
        "id": "mk_9nRx3gW-J",
        "outputId": "f479a8a4-1382-4f71-de01-2564412c2d2e"
      },
      "source": [
        "audio_dataset = DiarizationDataSet(root_dir='./audio_pres/',\n",
        "                                   label_dir = './label_pres/',\n",
        "                                   sr = 16000, window_len = 1500, \n",
        "                                   window_step = 750,\n",
        "                                   transform = None,\n",
        "                                   batch_size_for_ecapa=512)\n",
        "print(\"Number of audio files:\",len(audio_dataset))"
      ],
      "execution_count": 81,
      "outputs": [
        {
          "output_type": "stream",
          "text": [
            "Downloading: \"https://github.com/snakers4/silero-vad/archive/master.zip\" to /root/.cache/torch/hub/master.zip\n"
          ],
          "name": "stderr"
        },
        {
          "output_type": "stream",
          "text": [
            "Number of audio files: 1\n"
          ],
          "name": "stdout"
        }
      ]
    },
    {
      "cell_type": "code",
      "metadata": {
        "colab": {
          "base_uri": "https://localhost:8080/",
          "height": 66,
          "referenced_widgets": [
            "c128b58cb45c46f39087d4deac740193",
            "d301ce18ef944537b37445acb3cde6ac",
            "23dc431881a24911bb6489b6beb31ca6",
            "d4001c1410e645619e96a95da0e40fb1",
            "2b5506bba5714622826f9469b2d76dd6",
            "cb262770001342aabf8d003375601456",
            "c04b53246f754554b8e53bbad1df399e",
            "7069ad2ffcb042a19a392b095e8ec7df"
          ]
        },
        "id": "SfhUrR5tgeOX",
        "outputId": "0117429c-9b86-4e6f-9805-5dbeca4f79e7"
      },
      "source": [
        "hypothesis_dir = diarizationDEC(audio_dataset)"
      ],
      "execution_count": 82,
      "outputs": [
        {
          "output_type": "display_data",
          "data": {
            "application/vnd.jupyter.widget-view+json": {
              "model_id": "c128b58cb45c46f39087d4deac740193",
              "version_minor": 0,
              "version_major": 2
            },
            "text/plain": [
              "HBox(children=(FloatProgress(value=0.0, max=1.0), HTML(value='')))"
            ]
          },
          "metadata": {
            "tags": []
          }
        },
        {
          "output_type": "stream",
          "text": [
            "\n"
          ],
          "name": "stdout"
        }
      ]
    },
    {
      "cell_type": "code",
      "metadata": {
        "id": "PSpsz8NGgeu8",
        "colab": {
          "base_uri": "https://localhost:8080/"
        },
        "outputId": "be0814c3-2e75-4f73-aaee-850d9805d42b"
      },
      "source": [
        "metric = DiarizationErrorRate()\n",
        "filename = 'presentation.rttm'\n",
        "groundtruth = load_rttm('./label_pres/presentation.rttm')['presentation']\n",
        "hypothesis = load_rttm('./rttm_output/presentation.rttm')['presentation']\n",
        "metric(groundtruth, hypothesis)\n",
        "print(metric)"
      ],
      "execution_count": 83,
      "outputs": [
        {
          "output_type": "stream",
          "text": [
            "             diarization error rate  total correct correct false alarm false alarm missed detection missed detection confusion confusion\n",
            "                                  %                      %                       %                                 %                   %\n",
            "item                                                                                                                                    \n",
            "presentation                   9.48 130.63  121.13   92.73        2.88        2.20             0.76             0.58      8.74      6.69\n",
            "TOTAL                          9.48 130.63  121.13   92.73        2.88        2.20             0.76             0.58      8.74      6.69\n"
          ],
          "name": "stdout"
        }
      ]
    },
    {
      "cell_type": "code",
      "metadata": {
        "id": "c18Xpdg0giEa",
        "colab": {
          "base_uri": "https://localhost:8080/",
          "height": 225
        },
        "outputId": "e9d77227-46cf-4ffa-a050-cdb62367bc6a"
      },
      "source": [
        "notebook.width = 10\n",
        "plt.rcParams['figure.figsize'] = (notebook.width, 3)\n",
        "\n",
        "notebook.crop = Segment(0, 150)\n",
        "# plot reference\n",
        "plt.subplot(211)\n",
        "notebook.plot_annotation(groundtruth, legend=True, time=False)\n",
        "plt.gca().text(0.6, 0.15, 'groundtruth', fontsize=16)\n",
        "\n",
        "# plot hypothesis   \n",
        "plt.subplot(212)\n",
        "mapping = metric.optimal_mapping(groundtruth, hypothesis)\n",
        "notebook.plot_annotation(hypothesis.rename_labels(mapping = mapping), legend=True, time=True)\n",
        "plt.gca().text(0.6, 0.15, 'hypothesis', fontsize=16)\n",
        "\n",
        "plt.tight_layout()\n",
        "\n",
        "plt.show()"
      ],
      "execution_count": 84,
      "outputs": [
        {
          "output_type": "display_data",
          "data": {
            "image/png": "[encoded data removed]",
            "text/plain": [
              "<Figure size 720x216 with 2 Axes>"
            ]
          },
          "metadata": {
            "tags": [],
            "needs_background": "light"
          }
        }
      ]
    },
    {
      "cell_type": "markdown",
      "metadata": {
        "id": "mrFpYtzsubZX"
      },
      "source": [
        "## **Video Processing**"
      ]
    },
    {
      "cell_type": "code",
      "metadata": {
        "id": "wmn0tGktuddW"
      },
      "source": [
        "from IPython.display import display\n",
        "from PIL import Image\n",
        "!pip install scikit-video -q\n",
        "from skvideo.io import FFmpegWriter as VideoWriter\n",
        "!pip install moviepy -q\n",
        "import moviepy.editor as mpe"
      ],
      "execution_count": 26,
      "outputs": []
    },
    {
      "cell_type": "code",
      "metadata": {
        "id": "MR2-uBq0uhuy"
      },
      "source": [
        "def read_rttm(path):\n",
        "        '''\n",
        "        Read RTTM Diarization file\n",
        "        '''\n",
        "        rttm_out = [] # returns list of list containing start frame, end frame, spkid\n",
        "        with open(path, \"r\") as f:\n",
        "            for line in f:\n",
        "                entry = line[:-2].split()\n",
        "                indexes = [0, 1, 2, 5, 6, 8, 9]\n",
        "                for index in sorted(indexes, reverse=True):\n",
        "                    del entry[index]\n",
        "\n",
        "                entry[0] = int(float(entry[0])*16000) # Start frame\n",
        "                entry[1] = entry[0] + int(float(entry[1])*16000) # End frame\n",
        "                entry[2] = int(entry[2][-1:]) # Label\n",
        "                rttm_out.append(entry)\n",
        "                \n",
        "            # Sort rttm list according to start frame\n",
        "            rttm_out.sort(key = lambda x: x[0])\n",
        "\n",
        "        return np.array(rttm_out)\n",
        "\n",
        "def combine_audio(vidname, audname, outname, fps=25):\n",
        "    my_clip = mpe.VideoFileClip(vidname)\n",
        "    audio_background = mpe.AudioFileClip(audname)\n",
        "    final_clip = my_clip.set_audio(audio_background)\n",
        "    final_clip.write_videofile(outname,fps=fps)"
      ],
      "execution_count": 27,
      "outputs": []
    },
    {
      "cell_type": "code",
      "metadata": {
        "id": "6tEpborqx2eR"
      },
      "source": [
        "orig_video_dir = 'presentation.mp4'\n",
        "cap = cv2.VideoCapture(orig_video_dir)\n",
        "n_frames = int(cap.get(cv2.CAP_PROP_FRAME_COUNT))\n",
        "W = int(cap.get(cv2.CAP_PROP_FRAME_WIDTH)) \n",
        "H = int(cap.get(cv2.CAP_PROP_FRAME_HEIGHT))\n",
        "fps = cap.get(cv2.CAP_PROP_FPS)"
      ],
      "execution_count": 28,
      "outputs": []
    },
    {
      "cell_type": "code",
      "metadata": {
        "id": "GcpjAl64zM3O"
      },
      "source": [
        "hypothesis_labels = read_rttm('./rttm_output/presentation.rttm')\n",
        "hypothesis_labels[:,0] = hypothesis_labels[:,0]*fps/16000 # start time in frames\n",
        "hypothesis_labels[:,1] = hypothesis_labels[:,1]*fps/16000 # end time in frames\n",
        "spk_dict = {\n",
        "    0: \"00\",\n",
        "    1: \"01\",\n",
        "    2: \"02\",\n",
        "    3: \"03\",\n",
        "    4: \"04\",\n",
        "    5: \"05\",\n",
        "    6: \"06\"\n",
        "}"
      ],
      "execution_count": 29,
      "outputs": []
    },
    {
      "cell_type": "code",
      "metadata": {
        "id": "ctTlPp7PzjJn"
      },
      "source": [
        "# Create video writer\n",
        "out = VideoWriter('./presentation_annotated.mp4', inputdict={'-r': str(fps)}, outputdict={'-r': str(fps)})\n",
        "\n",
        "if not cap.isOpened(): # check if video file is opened\n",
        "    cap.open()\n",
        "frame_count = 0\n",
        "curr_idx_hypo_array = 0\n",
        "currspk = \"Speaker: None\"\n",
        "while True:\n",
        "  ret, frame = cap.read()\n",
        "  frame_count = frame_count + 1\n",
        "  if ret == False:\n",
        "    break\n",
        "  \n",
        "  # font\n",
        "  font = cv2.FONT_HERSHEY_TRIPLEX \n",
        "  # org\n",
        "  org = (W//12 , H*3//4)\n",
        "  # fontScale\n",
        "  fontScale = 1\n",
        "  # WHITE color in BGR\n",
        "  color = (255, 255, 255)\n",
        "  # Line thickness of 2 px\n",
        "  thickness = 2\n",
        "  \n",
        "  # Get current speaker from hypothesis_labels array\n",
        "  if hypothesis_labels[curr_idx_hypo_array, 0] > frame_count:\n",
        "    currspk = \"Speaker: None\"\n",
        "  elif hypothesis_labels[curr_idx_hypo_array, 0] <= frame_count and\\\n",
        "    hypothesis_labels[curr_idx_hypo_array, 1] >= frame_count:\n",
        "    currspk = \"Speaker: \" + spk_dict[hypothesis_labels[curr_idx_hypo_array, 2]]\n",
        "  else:\n",
        "    curr_idx_hypo_array = min(curr_idx_hypo_array + 1, len(hypothesis_labels) - 1)\n",
        "    currspk = \"Speaker: None\"\n",
        "\n",
        "  # Using cv2.putText() method\n",
        "  frame_annotated = cv2.putText(frame, currspk, org, font, \n",
        "                    fontScale, [0,0,0], 2*thickness, cv2.LINE_AA) # Give black outline to text\n",
        "  frame_annotated = cv2.putText(frame, currspk, org, font, \n",
        "                    fontScale, color, thickness, cv2.LINE_AA)\n",
        "  frame_annotated = cv2.cvtColor(frame_annotated, cv2.COLOR_BGR2RGB)\n",
        "  out.writeFrame(frame_annotated)\n",
        "cap.release()\n",
        "out.close()\n",
        "cv2.destroyAllWindows()"
      ],
      "execution_count": 30,
      "outputs": []
    },
    {
      "cell_type": "code",
      "metadata": {
        "colab": {
          "base_uri": "https://localhost:8080/"
        },
        "id": "G5YQl9TIzq4h",
        "outputId": "b48dc085-979e-4193-a591-692684d2c8db"
      },
      "source": [
        "combine_audio('./presentation_annotated.mp4', './audio_pres/presentation.wav', './presentation_DER_output.mp4',fps = fps)"
      ],
      "execution_count": 31,
      "outputs": [
        {
          "output_type": "stream",
          "text": [
            "[MoviePy] >>>> Building video ./presentation_DER_output.mp4\n",
            "[MoviePy] Writing audio in presentation_DER_outputTEMP_MPY_wvf_snd.mp3\n"
          ],
          "name": "stdout"
        },
        {
          "output_type": "stream",
          "text": [
            "100%|██████████| 3392/3392 [00:04<00:00, 787.09it/s]"
          ],
          "name": "stderr"
        },
        {
          "output_type": "stream",
          "text": [
            "[MoviePy] Done.\n",
            "[MoviePy] Writing video ./presentation_DER_output.mp4\n"
          ],
          "name": "stdout"
        },
        {
          "output_type": "stream",
          "text": [
            "\n",
            "100%|██████████| 4610/4610 [03:02<00:00, 25.33it/s]\n"
          ],
          "name": "stderr"
        },
        {
          "output_type": "stream",
          "text": [
            "[MoviePy] Done.\n",
            "[MoviePy] >>>> Video ready: ./presentation_DER_output.mp4 \n",
            "\n"
          ],
          "name": "stdout"
        }
      ]
    },
    {
      "cell_type": "code",
      "metadata": {
        "colab": {
          "base_uri": "https://localhost:8080/",
          "height": 17
        },
        "id": "mJ1iBImr0R7o",
        "outputId": "01bc705d-9eef-44d5-faaa-02a3e0d2638d"
      },
      "source": [
        "from google.colab import files\n",
        "files.download('presentation_DER_output.mp4') "
      ],
      "execution_count": 32,
      "outputs": [
        {
          "output_type": "display_data",
          "data": {
            "application/javascript": [
              "\n",
              "    async function download(id, filename, size) {\n",
              "      if (!google.colab.kernel.accessAllowed) {\n",
              "        return;\n",
              "      }\n",
              "      const div = document.createElement('div');\n",
              "      const label = document.createElement('label');\n",
              "      label.textContent = `Downloading \"${filename}\": `;\n",
              "      div.appendChild(label);\n",
              "      const progress = document.createElement('progress');\n",
              "      progress.max = size;\n",
              "      div.appendChild(progress);\n",
              "      document.body.appendChild(div);\n",
              "\n",
              "      const buffers = [];\n",
              "      let downloaded = 0;\n",
              "\n",
              "      const channel = await google.colab.kernel.comms.open(id);\n",
              "      // Send a message to notify the kernel that we're ready.\n",
              "      channel.send({})\n",
              "\n",
              "      for await (const message of channel.messages) {\n",
              "        // Send a message to notify the kernel that we're ready.\n",
              "        channel.send({})\n",
              "        if (message.buffers) {\n",
              "          for (const buffer of message.buffers) {\n",
              "            buffers.push(buffer);\n",
              "            downloaded += buffer.byteLength;\n",
              "            progress.value = downloaded;\n",
              "          }\n",
              "        }\n",
              "      }\n",
              "      const blob = new Blob(buffers, {type: 'application/binary'});\n",
              "      const a = document.createElement('a');\n",
              "      a.href = window.URL.createObjectURL(blob);\n",
              "      a.download = filename;\n",
              "      div.appendChild(a);\n",
              "      a.click();\n",
              "      div.remove();\n",
              "    }\n",
              "  "
            ],
            "text/plain": [
              "<IPython.core.display.Javascript object>"
            ]
          },
          "metadata": {
            "tags": []
          }
        },
        {
          "output_type": "display_data",
          "data": {
            "application/javascript": [
              "download(\"download_2e61d8aa-e786-4440-a73a-d31df94f794c\", \"presentation_DER_output.mp4\", 18559137)"
            ],
            "text/plain": [
              "<IPython.core.display.Javascript object>"
            ]
          },
          "metadata": {
            "tags": []
          }
        }
      ]
    },
    {
      "cell_type": "markdown",
      "metadata": {
        "id": "I-uIIFzjEtqZ"
      },
      "source": [
        "# **DEMO ON MOVIE CLIP**"
      ]
    },
    {
      "cell_type": "markdown",
      "metadata": {
        "id": "Jfq1uBhTE0z7"
      },
      "source": [
        "## **Import Files**"
      ]
    },
    {
      "cell_type": "code",
      "metadata": {
        "colab": {
          "base_uri": "https://localhost:8080/"
        },
        "id": "hmqj54tgEs6s",
        "outputId": "f27fa0cb-3a94-480a-f233-f077c3cd5e26"
      },
      "source": [
        "# Demo movie video\n",
        "!gdown --id 1HhQmVx9E27upvyWvUlZJ7ZLEzsNa7hMC\n",
        "\n",
        "# Demo movie audio\n",
        "!gdown --id 1PvXgj1xENBszQ72PTKsD6We7oVJJDDAJ\n",
        "\n",
        "# Demo movie rttm\n",
        "!gdown --id 1hBCqCk0C3iMmwjjoztzLcJPCM6pDrVd-"
      ],
      "execution_count": 97,
      "outputs": [
        {
          "output_type": "stream",
          "text": [
            "Downloading...\n",
            "From: https://drive.google.com/uc?id=1HhQmVx9E27upvyWvUlZJ7ZLEzsNa7hMC\n",
            "To: /content/movie.mp4\n",
            "15.5MB [00:00, 136MB/s]\n",
            "Downloading...\n",
            "From: https://drive.google.com/uc?id=1PvXgj1xENBszQ72PTKsD6We7oVJJDDAJ\n",
            "To: /content/movie.wav\n",
            "49.3MB [00:00, 186MB/s]\n",
            "Downloading...\n",
            "From: https://drive.google.com/uc?id=1hBCqCk0C3iMmwjjoztzLcJPCM6pDrVd-\n",
            "To: /content/movie.rttm\n",
            "100% 1.55k/1.55k [00:00<00:00, 2.30MB/s]\n"
          ],
          "name": "stdout"
        }
      ]
    },
    {
      "cell_type": "code",
      "metadata": {
        "colab": {
          "base_uri": "https://localhost:8080/"
        },
        "id": "eukLFGThHWQX",
        "outputId": "4cc81acd-7e84-4320-ed6f-40d1dd6f9f77"
      },
      "source": [
        "!rm -r audio_movie\n",
        "!rm -r label_movie\n",
        "!mkdir audio_movie\n",
        "!mkdir label_movie\n",
        "shutil.move('./movie.wav','./audio_movie/movie.wav')\n",
        "shutil.move('./movie.rttm','./label_movie/movie.rttm')\n",
        "print(\"Files loaded for demo\")"
      ],
      "execution_count": 98,
      "outputs": [
        {
          "output_type": "stream",
          "text": [
            "Files loaded for demo\n"
          ],
          "name": "stdout"
        }
      ]
    },
    {
      "cell_type": "code",
      "metadata": {
        "colab": {
          "base_uri": "https://localhost:8080/"
        },
        "id": "xZbAvrDsIIqF",
        "outputId": "0ff5d102-064f-4777-a867-e24cbc9135aa"
      },
      "source": [
        "if torch.cuda.is_available() == True:\n",
        "  print(\"GPU:\",torch.cuda.get_device_name(0))\n",
        "else:\n",
        "  print('CPU')"
      ],
      "execution_count": 59,
      "outputs": [
        {
          "output_type": "stream",
          "text": [
            "GPU: Tesla T4\n"
          ],
          "name": "stdout"
        }
      ]
    },
    {
      "cell_type": "markdown",
      "metadata": {
        "id": "tVO2WtARILP9"
      },
      "source": [
        "## **Run Diarization**"
      ]
    },
    {
      "cell_type": "code",
      "metadata": {
        "colab": {
          "base_uri": "https://localhost:8080/"
        },
        "id": "f1acezsWIN83",
        "outputId": "b761183b-0b93-4ee7-bf94-01c2a8b5ed29"
      },
      "source": [
        "audio_dataset = DiarizationDataSet(root_dir='./audio_movie/',\n",
        "                                   label_dir = './label_movie/',\n",
        "                                   sr = 16000, window_len = 1500, \n",
        "                                   window_step = 750,\n",
        "                                   transform = None,\n",
        "                                   batch_size_for_ecapa=512)\n",
        "print(\"Number of audio files:\",len(audio_dataset))"
      ],
      "execution_count": 99,
      "outputs": [
        {
          "output_type": "stream",
          "text": [
            "Downloading: \"https://github.com/snakers4/silero-vad/archive/master.zip\" to /root/.cache/torch/hub/master.zip\n"
          ],
          "name": "stderr"
        },
        {
          "output_type": "stream",
          "text": [
            "Number of audio files: 1\n"
          ],
          "name": "stdout"
        }
      ]
    },
    {
      "cell_type": "code",
      "metadata": {
        "colab": {
          "base_uri": "https://localhost:8080/",
          "height": 66,
          "referenced_widgets": [
            "602f1b98e6c545e0a15557dad9a3a6a2",
            "69bdc5e33fe04ab48c3e664e70a39726",
            "2a088dc5d9864f84ad56b44bb2c98832",
            "58fb4d7b50524e9da4848ef82a5718f0",
            "2a6310258f564b0bbaf29b0db0f921a0",
            "6f105710069c453a8d7fda2f9bd963b9",
            "ac95f47060cd4502b7eb85b7be270b0a",
            "502bc9b654ef44ff9ec5ed114a565c7a"
          ]
        },
        "id": "Xoo8IIKpIYsX",
        "outputId": "b7055ad1-ca7c-4e35-de64-6cd75fefea6f"
      },
      "source": [
        "hypothesis_dir = diarizationDEC(audio_dataset)"
      ],
      "execution_count": 100,
      "outputs": [
        {
          "output_type": "display_data",
          "data": {
            "application/vnd.jupyter.widget-view+json": {
              "model_id": "602f1b98e6c545e0a15557dad9a3a6a2",
              "version_minor": 0,
              "version_major": 2
            },
            "text/plain": [
              "HBox(children=(FloatProgress(value=0.0, max=1.0), HTML(value='')))"
            ]
          },
          "metadata": {
            "tags": []
          }
        },
        {
          "output_type": "stream",
          "text": [
            "\n"
          ],
          "name": "stdout"
        }
      ]
    },
    {
      "cell_type": "code",
      "metadata": {
        "colab": {
          "base_uri": "https://localhost:8080/"
        },
        "id": "t9U0QDzHIZOk",
        "outputId": "d48bd3cb-68fd-4561-936d-1c0957eaa3d5"
      },
      "source": [
        "## CHECK THE MISSED DETECTION RATE, the algo fails to detect the person \n",
        "## speaking in hushed tone. On paper this looks bad, have a look at the\n",
        "## output speaker video.\n",
        "metric = DiarizationErrorRate()\n",
        "filename = 'movie.rttm'\n",
        "groundtruth = load_rttm('./label_movie/movie.rttm')['movie']\n",
        "hypothesis = load_rttm('./rttm_output/movie.rttm')['movie']\n",
        "metric(groundtruth, hypothesis)\n",
        "print(metric)"
      ],
      "execution_count": 101,
      "outputs": [
        {
          "output_type": "stream",
          "text": [
            "      diarization error rate  total correct correct false alarm false alarm missed detection missed detection confusion confusion\n",
            "                           %                      %                       %                                 %                   %\n",
            "item                                                                                                                             \n",
            "movie                  64.16 468.88  183.60   39.16       15.57        3.32           272.94            58.21     12.33      2.63\n",
            "TOTAL                  64.16 468.88  183.60   39.16       15.57        3.32           272.94            58.21     12.33      2.63\n"
          ],
          "name": "stdout"
        }
      ]
    },
    {
      "cell_type": "code",
      "metadata": {
        "colab": {
          "base_uri": "https://localhost:8080/",
          "height": 225
        },
        "id": "OQOLosELJkUy",
        "outputId": "5d72bc34-b43d-490a-e44a-fea4aba15000"
      },
      "source": [
        "notebook.width = 10\n",
        "plt.rcParams['figure.figsize'] = (notebook.width, 3)\n",
        "\n",
        "notebook.crop = Segment(0, 224)\n",
        "# plot reference\n",
        "plt.subplot(211)\n",
        "notebook.plot_annotation(groundtruth, legend=True, time=False)\n",
        "plt.gca().text(0.6, 0.15, 'groundtruth', fontsize=16)\n",
        "\n",
        "# plot hypothesis   \n",
        "plt.subplot(212)\n",
        "mapping = metric.optimal_mapping(groundtruth, hypothesis)\n",
        "notebook.plot_annotation(hypothesis.rename_labels(mapping = mapping), legend=True, time=True)\n",
        "plt.gca().text(0.6, 0.15, 'hypothesis', fontsize=16)\n",
        "\n",
        "plt.tight_layout()\n",
        "\n",
        "plt.show()"
      ],
      "execution_count": 102,
      "outputs": [
        {
          "output_type": "display_data",
          "data": {
            "image/png": "[encoded data removed]",
            "text/plain": [
              "<Figure size 720x216 with 2 Axes>"
            ]
          },
          "metadata": {
            "tags": [],
            "needs_background": "light"
          }
        }
      ]
    },
    {
      "cell_type": "markdown",
      "metadata": {
        "id": "KEgXbIX3Jn_f"
      },
      "source": [
        "## **Video Processing**"
      ]
    },
    {
      "cell_type": "code",
      "metadata": {
        "id": "cgGaBlsOJs4c"
      },
      "source": [
        "from IPython.display import display\n",
        "from PIL import Image\n",
        "!pip install scikit-video -q\n",
        "from skvideo.io import FFmpegWriter as VideoWriter\n",
        "!pip install moviepy -q\n",
        "import moviepy.editor as mpe"
      ],
      "execution_count": 64,
      "outputs": []
    },
    {
      "cell_type": "code",
      "metadata": {
        "id": "ZgjeX2BmJvOg"
      },
      "source": [
        "def read_rttm(path):\n",
        "        '''\n",
        "        Read RTTM Diarization file\n",
        "        '''\n",
        "        rttm_out = [] # returns list of list containing start frame, end frame, spkid\n",
        "        with open(path, \"r\") as f:\n",
        "            for line in f:\n",
        "                entry = line[:-2].split()\n",
        "                indexes = [0, 1, 2, 5, 6, 8, 9]\n",
        "                for index in sorted(indexes, reverse=True):\n",
        "                    del entry[index]\n",
        "\n",
        "                entry[0] = int(float(entry[0])*16000) # Start frame\n",
        "                entry[1] = entry[0] + int(float(entry[1])*16000) # End frame\n",
        "                entry[2] = int(entry[2][-1:]) # Label\n",
        "                rttm_out.append(entry)\n",
        "                \n",
        "            # Sort rttm list according to start frame\n",
        "            rttm_out.sort(key = lambda x: x[0])\n",
        "\n",
        "        return np.array(rttm_out)\n",
        "\n",
        "def combine_audio(vidname, audname, outname, fps=25):\n",
        "    my_clip = mpe.VideoFileClip(vidname)\n",
        "    audio_background = mpe.AudioFileClip(audname)\n",
        "    final_clip = my_clip.set_audio(audio_background)\n",
        "    final_clip.write_videofile(outname,fps=fps)"
      ],
      "execution_count": 65,
      "outputs": []
    },
    {
      "cell_type": "code",
      "metadata": {
        "id": "QQYnS0hGJ2Fp"
      },
      "source": [
        "orig_video_dir = 'movie.mp4'\n",
        "cap = cv2.VideoCapture(orig_video_dir)\n",
        "n_frames = int(cap.get(cv2.CAP_PROP_FRAME_COUNT))\n",
        "W = int(cap.get(cv2.CAP_PROP_FRAME_WIDTH)) \n",
        "H = int(cap.get(cv2.CAP_PROP_FRAME_HEIGHT))\n",
        "fps = cap.get(cv2.CAP_PROP_FPS)"
      ],
      "execution_count": 66,
      "outputs": []
    },
    {
      "cell_type": "code",
      "metadata": {
        "id": "rmG2jOrrJ3xC"
      },
      "source": [
        "hypothesis_labels = read_rttm('./rttm_output/movie.rttm')\n",
        "hypothesis_labels[:,0] = hypothesis_labels[:,0]*fps/16000 # start time in frames\n",
        "hypothesis_labels[:,1] = hypothesis_labels[:,1]*fps/16000 # end time in frames\n",
        "spk_dict = {\n",
        "    0: \"00\",\n",
        "    1: \"01\",\n",
        "    2: \"02\",\n",
        "    3: \"03\",\n",
        "    4: \"04\",\n",
        "    5: \"05\",\n",
        "    6: \"06\",\n",
        "    7: \"07\",\n",
        "    8: \"08\",\n",
        "    9: \"09\",\n",
        "    10: \"10\"\n",
        "}"
      ],
      "execution_count": 67,
      "outputs": []
    },
    {
      "cell_type": "code",
      "metadata": {
        "id": "wi-ILVTKJ8ol"
      },
      "source": [
        "# Create video writer\n",
        "out = VideoWriter('./movie_annotated.mp4', inputdict={'-r': str(fps)}, outputdict={'-r': str(fps)})\n",
        "\n",
        "if not cap.isOpened(): # check if video file is opened\n",
        "    cap.open()\n",
        "frame_count = 0\n",
        "curr_idx_hypo_array = 0\n",
        "currspk = \"Speaker: None\"\n",
        "while True:\n",
        "  ret, frame = cap.read()\n",
        "  frame_count = frame_count + 1\n",
        "  if ret == False:\n",
        "    break\n",
        "  \n",
        "  # font\n",
        "  font = cv2.FONT_HERSHEY_TRIPLEX \n",
        "  # org\n",
        "  org = (W//12 , H*3//4)\n",
        "  # fontScale\n",
        "  fontScale = 1\n",
        "  # WHITE color in BGR\n",
        "  color = (255, 255, 255)\n",
        "  # Line thickness of 2 px\n",
        "  thickness = 2\n",
        "\n",
        "  # Get current speaker from hypothesis_labels array\n",
        "  if hypothesis_labels[curr_idx_hypo_array, 0] > max(0, frame_count - 25):\n",
        "    currspk = \"Speaker: None\"\n",
        "  elif hypothesis_labels[curr_idx_hypo_array, 0] <= max(0, frame_count - 25) and\\\n",
        "    hypothesis_labels[curr_idx_hypo_array, 1] >= max(0, frame_count - 25):\n",
        "    currspk = \"Speaker: \" + spk_dict[hypothesis_labels[curr_idx_hypo_array, 2]]\n",
        "  else:\n",
        "    curr_idx_hypo_array = min(curr_idx_hypo_array + 1, len(hypothesis_labels) - 1)\n",
        "    currspk = \"Speaker: None\"\n",
        "\n",
        "  # Using cv2.putText() method\n",
        "  frame_annotated = cv2.putText(frame, currspk, org, font, \n",
        "                    fontScale, [0,0,0], 2*thickness, cv2.LINE_AA) # Give black outline to text\n",
        "  frame_annotated = cv2.putText(frame, currspk, org, font, \n",
        "                    fontScale, color, thickness, cv2.LINE_AA)\n",
        "  frame_annotated = cv2.cvtColor(frame_annotated, cv2.COLOR_BGR2RGB)\n",
        "  out.writeFrame(frame_annotated)\n",
        "cap.release()\n",
        "out.close()\n",
        "cv2.destroyAllWindows()"
      ],
      "execution_count": 68,
      "outputs": []
    },
    {
      "cell_type": "code",
      "metadata": {
        "colab": {
          "base_uri": "https://localhost:8080/"
        },
        "id": "G4NHWROOKF04",
        "outputId": "2a0b30f5-0ebc-46cc-d4a3-b8ec313ef397"
      },
      "source": [
        "combine_audio('./movie_annotated.mp4', './audio_movie/movie.wav', './movie_DER_output.mp4',fps = fps)"
      ],
      "execution_count": 69,
      "outputs": [
        {
          "output_type": "stream",
          "text": [
            "[MoviePy] >>>> Building video ./movie_DER_output.mp4\n",
            "[MoviePy] Writing audio in movie_DER_outputTEMP_MPY_wvf_snd.mp3\n"
          ],
          "name": "stdout"
        },
        {
          "output_type": "stream",
          "text": [
            "100%|██████████| 6158/6158 [00:06<00:00, 1015.74it/s]"
          ],
          "name": "stderr"
        },
        {
          "output_type": "stream",
          "text": [
            "[MoviePy] Done.\n",
            "[MoviePy] Writing video ./movie_DER_output.mp4\n"
          ],
          "name": "stdout"
        },
        {
          "output_type": "stream",
          "text": [
            "\n",
            "100%|██████████| 6696/6696 [04:01<00:00, 27.73it/s]\n"
          ],
          "name": "stderr"
        },
        {
          "output_type": "stream",
          "text": [
            "[MoviePy] Done.\n",
            "[MoviePy] >>>> Video ready: ./movie_DER_output.mp4 \n",
            "\n"
          ],
          "name": "stdout"
        }
      ]
    },
    {
      "cell_type": "code",
      "metadata": {
        "colab": {
          "base_uri": "https://localhost:8080/",
          "height": 17
        },
        "id": "pZ0bAMa0KNnK",
        "outputId": "57e1a5b5-4cc3-4d08-d1b7-580a7e194ba6"
      },
      "source": [
        "from google.colab import files\n",
        "files.download('movie_DER_output.mp4') "
      ],
      "execution_count": 70,
      "outputs": [
        {
          "output_type": "display_data",
          "data": {
            "application/javascript": [
              "\n",
              "    async function download(id, filename, size) {\n",
              "      if (!google.colab.kernel.accessAllowed) {\n",
              "        return;\n",
              "      }\n",
              "      const div = document.createElement('div');\n",
              "      const label = document.createElement('label');\n",
              "      label.textContent = `Downloading \"${filename}\": `;\n",
              "      div.appendChild(label);\n",
              "      const progress = document.createElement('progress');\n",
              "      progress.max = size;\n",
              "      div.appendChild(progress);\n",
              "      document.body.appendChild(div);\n",
              "\n",
              "      const buffers = [];\n",
              "      let downloaded = 0;\n",
              "\n",
              "      const channel = await google.colab.kernel.comms.open(id);\n",
              "      // Send a message to notify the kernel that we're ready.\n",
              "      channel.send({})\n",
              "\n",
              "      for await (const message of channel.messages) {\n",
              "        // Send a message to notify the kernel that we're ready.\n",
              "        channel.send({})\n",
              "        if (message.buffers) {\n",
              "          for (const buffer of message.buffers) {\n",
              "            buffers.push(buffer);\n",
              "            downloaded += buffer.byteLength;\n",
              "            progress.value = downloaded;\n",
              "          }\n",
              "        }\n",
              "      }\n",
              "      const blob = new Blob(buffers, {type: 'application/binary'});\n",
              "      const a = document.createElement('a');\n",
              "      a.href = window.URL.createObjectURL(blob);\n",
              "      a.download = filename;\n",
              "      div.appendChild(a);\n",
              "      a.click();\n",
              "      div.remove();\n",
              "    }\n",
              "  "
            ],
            "text/plain": [
              "<IPython.core.display.Javascript object>"
            ]
          },
          "metadata": {
            "tags": []
          }
        },
        {
          "output_type": "display_data",
          "data": {
            "application/javascript": [
              "download(\"download_f206bade-7f38-4ce1-8c9a-4755d6f7dd1d\", \"movie_DER_output.mp4\", 27787082)"
            ],
            "text/plain": [
              "<IPython.core.display.Javascript object>"
            ]
          },
          "metadata": {
            "tags": []
          }
        }
      ]
    }
  ]
}